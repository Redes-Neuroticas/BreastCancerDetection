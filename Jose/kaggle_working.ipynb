{
 "cells": [
  {
   "cell_type": "code",
   "execution_count": 1,
   "id": "7912b6ec",
   "metadata": {
    "_cell_guid": "b1076dfc-b9ad-4769-8c92-a6c4dae69d19",
    "_uuid": "8f2839f25d086af736a60e9eeb907d3b93b6e0e5",
    "execution": {
     "iopub.execute_input": "2023-07-06T23:35:34.045204Z",
     "iopub.status.busy": "2023-07-06T23:35:34.044806Z",
     "iopub.status.idle": "2023-07-06T23:37:41.294756Z",
     "shell.execute_reply": "2023-07-06T23:37:41.293564Z"
    },
    "papermill": {
     "duration": 127.259668,
     "end_time": "2023-07-06T23:37:41.297389",
     "exception": false,
     "start_time": "2023-07-06T23:35:34.037721",
     "status": "completed"
    },
    "tags": []
   },
   "outputs": [
    {
     "name": "stdout",
     "output_type": "stream",
     "text": [
      "Processing /kaggle/input/for-pydicom/dicomsdl-0.109.1-cp310-cp310-manylinux_2_12_x86_64.manylinux2010_x86_64.whl\r\n",
      "Installing collected packages: dicomsdl\r\n",
      "Successfully installed dicomsdl-0.109.1\r\n",
      "\u001b[33mWARNING: Running pip as the 'root' user can result in broken permissions and conflicting behaviour with the system package manager. It is recommended to use a virtual environment instead: https://pip.pypa.io/warnings/venv\u001b[0m\u001b[33m\r\n",
      "\u001b[0mProcessing /kaggle/input/for-pydicom/python_gdcm-3.0.22-cp310-cp310-manylinux_2_17_x86_64.manylinux2014_x86_64.whl\r\n",
      "Installing collected packages: python-gdcm\r\n",
      "Successfully installed python-gdcm-3.0.22\r\n",
      "\u001b[33mWARNING: Running pip as the 'root' user can result in broken permissions and conflicting behaviour with the system package manager. It is recommended to use a virtual environment instead: https://pip.pypa.io/warnings/venv\u001b[0m\u001b[33m\r\n",
      "\u001b[0mProcessing /kaggle/input/for-pydicom/pylibjpeg_libjpeg-1.3.4-cp310-cp310-manylinux_2_17_x86_64.manylinux2014_x86_64.whl\r\n",
      "Requirement already satisfied: numpy>=1.22 in /opt/conda/lib/python3.10/site-packages (from pylibjpeg-libjpeg==1.3.4) (1.23.5)\r\n",
      "Installing collected packages: pylibjpeg-libjpeg\r\n",
      "Successfully installed pylibjpeg-libjpeg-1.3.4\r\n",
      "\u001b[33mWARNING: Running pip as the 'root' user can result in broken permissions and conflicting behaviour with the system package manager. It is recommended to use a virtual environment instead: https://pip.pypa.io/warnings/venv\u001b[0m\u001b[33m\r\n",
      "\u001b[0mProcessing /kaggle/input/for-pydicom/pylibjpeg-1.4.0-py3-none-any.whl\r\n",
      "Requirement already satisfied: numpy in /opt/conda/lib/python3.10/site-packages (from pylibjpeg==1.4.0) (1.23.5)\r\n",
      "Installing collected packages: pylibjpeg\r\n",
      "Successfully installed pylibjpeg-1.4.0\r\n",
      "\u001b[33mWARNING: Running pip as the 'root' user can result in broken permissions and conflicting behaviour with the system package manager. It is recommended to use a virtual environment instead: https://pip.pypa.io/warnings/venv\u001b[0m\u001b[33m\r\n",
      "\u001b[0m"
     ]
    }
   ],
   "source": [
    "try:\n",
    "    import pylibjpeg\n",
    "except:\n",
    "    !rm -rf /root/.cache/torch/hub/checkpoints/\n",
    "    !mkdir -p /root/.cache/torch/hub/checkpoints/\n",
    "    !pip install /kaggle/input/for-pydicom/dicomsdl-0.109.1-cp310-cp310-manylinux_2_12_x86_64.manylinux2010_x86_64.whl\n",
    "    !pip install /kaggle/input/for-pydicom/python_gdcm-3.0.22-cp310-cp310-manylinux_2_17_x86_64.manylinux2014_x86_64.whl\n",
    "    !pip install /kaggle/input/for-pydicom/pylibjpeg_libjpeg-1.3.4-cp310-cp310-manylinux_2_17_x86_64.manylinux2014_x86_64.whl\n",
    "    !pip install /kaggle/input/for-pydicom/pylibjpeg-1.4.0-py3-none-any.whl\n",
    "\n",
    "#!pip -q install dicomsdl\n",
    "#!pip install pylibjpeg\n",
    "#!pip install python-gdcm\n",
    "\n",
    "#!pip install /kaggle/input/kaggle-rsna-pkgs/pylibjpeg-1.4.0-py3-none-any.whl\n",
    "#!pip install /kaggle/input/kaggle-rsna-pkgs/python_gdcm-3.0.21-cp37-cp37m-manylinux_2_17_x86_64.manylinux2014_x86_64.whl\n",
    "#!pip install /kaggle/input/kaggle-rsna-pkgs/pydicom-2.3.1-py3-none-any.whl\n",
    "\n",
    "#for dirname, _, filenames in os.walk('/kaggle/input'):\n",
    "#    for filename in filenames:\n",
    "#        print(os.path.join(dirname, filename))\n",
    "\n",
    "# You can write up to 20GB to the current directory (/kaggle/working/) that gets preserved as output when you create a version using \"Save & Run All\" \n",
    "# You can also write temporary files to /kaggle/temp/, but they won't be saved outside of the current session"
   ]
  },
  {
   "cell_type": "code",
   "execution_count": 2,
   "id": "dcc83dc0",
   "metadata": {
    "execution": {
     "iopub.execute_input": "2023-07-06T23:37:41.312264Z",
     "iopub.status.busy": "2023-07-06T23:37:41.311369Z",
     "iopub.status.idle": "2023-07-06T23:37:49.993974Z",
     "shell.execute_reply": "2023-07-06T23:37:49.992926Z"
    },
    "papermill": {
     "duration": 8.69262,
     "end_time": "2023-07-06T23:37:49.996681",
     "exception": false,
     "start_time": "2023-07-06T23:37:41.304061",
     "status": "completed"
    },
    "tags": []
   },
   "outputs": [
    {
     "name": "stderr",
     "output_type": "stream",
     "text": [
      "/opt/conda/lib/python3.10/site-packages/tensorflow_io/python/ops/__init__.py:98: UserWarning: unable to load libtensorflow_io_plugins.so: unable to open file: libtensorflow_io_plugins.so, from paths: ['/opt/conda/lib/python3.10/site-packages/tensorflow_io/python/ops/libtensorflow_io_plugins.so']\n",
      "caused by: ['/opt/conda/lib/python3.10/site-packages/tensorflow_io/python/ops/libtensorflow_io_plugins.so: undefined symbol: _ZN3tsl6StatusC1EN10tensorflow5error4CodeESt17basic_string_viewIcSt11char_traitsIcEENS_14SourceLocationE']\n",
      "  warnings.warn(f\"unable to load libtensorflow_io_plugins.so: {e}\")\n",
      "/opt/conda/lib/python3.10/site-packages/tensorflow_io/python/ops/__init__.py:104: UserWarning: file system plugins are not loaded: unable to open file: libtensorflow_io.so, from paths: ['/opt/conda/lib/python3.10/site-packages/tensorflow_io/python/ops/libtensorflow_io.so']\n",
      "caused by: ['/opt/conda/lib/python3.10/site-packages/tensorflow_io/python/ops/libtensorflow_io.so: undefined symbol: _ZTVN10tensorflow13GcsFileSystemE']\n",
      "  warnings.warn(f\"file system plugins are not loaded: {e}\")\n"
     ]
    }
   ],
   "source": [
    "import pandas as pd\n",
    "import numpy as np\n",
    "import matplotlib.pyplot as plt\n",
    "import tensorflow as tf\n",
    "import pylibjpeg\n",
    "import cv2\n",
    "import os\n",
    "import gdcm\n",
    "import glob\n",
    "import seaborn as sns\n",
    "import pydicom\n",
    "from joblib import Parallel, delayed\n",
    "from tqdm.notebook import tqdm\n",
    "from tensorflow import keras\n",
    "from tensorflow.keras import layers\n",
    "from tensorflow.keras.layers import Layer"
   ]
  },
  {
   "cell_type": "code",
   "execution_count": 3,
   "id": "11504010",
   "metadata": {
    "execution": {
     "iopub.execute_input": "2023-07-06T23:37:50.012202Z",
     "iopub.status.busy": "2023-07-06T23:37:50.011593Z",
     "iopub.status.idle": "2023-07-06T23:37:50.017048Z",
     "shell.execute_reply": "2023-07-06T23:37:50.016157Z"
    },
    "papermill": {
     "duration": 0.01525,
     "end_time": "2023-07-06T23:37:50.019165",
     "exception": false,
     "start_time": "2023-07-06T23:37:50.003915",
     "status": "completed"
    },
    "tags": []
   },
   "outputs": [],
   "source": [
    "DEBUG=False"
   ]
  },
  {
   "cell_type": "code",
   "execution_count": 4,
   "id": "19a8c5b8",
   "metadata": {
    "execution": {
     "iopub.execute_input": "2023-07-06T23:37:50.033801Z",
     "iopub.status.busy": "2023-07-06T23:37:50.033460Z",
     "iopub.status.idle": "2023-07-06T23:37:50.038263Z",
     "shell.execute_reply": "2023-07-06T23:37:50.037338Z"
    },
    "papermill": {
     "duration": 0.014438,
     "end_time": "2023-07-06T23:37:50.040458",
     "exception": false,
     "start_time": "2023-07-06T23:37:50.026020",
     "status": "completed"
    },
    "tags": []
   },
   "outputs": [],
   "source": [
    "path = '/kaggle/input/rsna-breast-cancer-detection/'\n",
    "test_csv = path + 'test.csv'\n",
    "test_path = path + 'test_images/'\n",
    "sample_submission = path + 'sample_submission.csv'\n",
    "output_path = '/kaggle/working/'\n",
    "test_output_path = output_path + 'test_images/'\n",
    "\n",
    "img_size =256"
   ]
  },
  {
   "cell_type": "code",
   "execution_count": 5,
   "id": "ad2760e5",
   "metadata": {
    "execution": {
     "iopub.execute_input": "2023-07-06T23:37:50.055076Z",
     "iopub.status.busy": "2023-07-06T23:37:50.054786Z",
     "iopub.status.idle": "2023-07-06T23:37:50.077958Z",
     "shell.execute_reply": "2023-07-06T23:37:50.077140Z"
    },
    "papermill": {
     "duration": 0.033046,
     "end_time": "2023-07-06T23:37:50.080111",
     "exception": false,
     "start_time": "2023-07-06T23:37:50.047065",
     "status": "completed"
    },
    "tags": []
   },
   "outputs": [],
   "source": [
    "#test_df = pd.read_csv(test_csv).head(100)\n",
    "test_df = pd.read_csv(test_csv)"
   ]
  },
  {
   "cell_type": "code",
   "execution_count": 6,
   "id": "6c568670",
   "metadata": {
    "execution": {
     "iopub.execute_input": "2023-07-06T23:37:50.094705Z",
     "iopub.status.busy": "2023-07-06T23:37:50.094392Z",
     "iopub.status.idle": "2023-07-06T23:37:50.102398Z",
     "shell.execute_reply": "2023-07-06T23:37:50.101449Z"
    },
    "papermill": {
     "duration": 0.017761,
     "end_time": "2023-07-06T23:37:50.104680",
     "exception": false,
     "start_time": "2023-07-06T23:37:50.086919",
     "status": "completed"
    },
    "tags": []
   },
   "outputs": [],
   "source": [
    "def dicom_to_png(dicom_path):\n",
    "    dicom = pydicom.dcmread(dicom_path)\n",
    "    img = dicom.pixel_array\n",
    "    img = (img - img.min()) / (img.max() - img.min())\n",
    "    \n",
    "    if dicom.PhotometricInterpretation == 'MONOCHROME1':\n",
    "        img = 1 - img\n",
    "\n",
    "    img = cv2.resize(img, (img_size, img_size), interpolation=cv2.INTER_LINEAR)\n",
    "    img = (img * 255).astype(np.uint8)\n",
    "    return img\n",
    "\n",
    "def process(dicom_path, image_path):\n",
    "    image = dicom_to_png(dicom_path)\n",
    "    os.makedirs(os.path.dirname(image_path), exist_ok=True)\n",
    "    cv2.imwrite(image_path, image)"
   ]
  },
  {
   "cell_type": "code",
   "execution_count": 7,
   "id": "aeb2e940",
   "metadata": {
    "execution": {
     "iopub.execute_input": "2023-07-06T23:37:50.119601Z",
     "iopub.status.busy": "2023-07-06T23:37:50.119260Z",
     "iopub.status.idle": "2023-07-06T23:37:50.146273Z",
     "shell.execute_reply": "2023-07-06T23:37:50.145194Z"
    },
    "papermill": {
     "duration": 0.037049,
     "end_time": "2023-07-06T23:37:50.148718",
     "exception": false,
     "start_time": "2023-07-06T23:37:50.111669",
     "status": "completed"
    },
    "tags": []
   },
   "outputs": [
    {
     "data": {
      "text/html": [
       "<div>\n",
       "<style scoped>\n",
       "    .dataframe tbody tr th:only-of-type {\n",
       "        vertical-align: middle;\n",
       "    }\n",
       "\n",
       "    .dataframe tbody tr th {\n",
       "        vertical-align: top;\n",
       "    }\n",
       "\n",
       "    .dataframe thead th {\n",
       "        text-align: right;\n",
       "    }\n",
       "</style>\n",
       "<table border=\"1\" class=\"dataframe\">\n",
       "  <thead>\n",
       "    <tr style=\"text-align: right;\">\n",
       "      <th></th>\n",
       "      <th>site_id</th>\n",
       "      <th>patient_id</th>\n",
       "      <th>image_id</th>\n",
       "      <th>laterality</th>\n",
       "      <th>view</th>\n",
       "      <th>age</th>\n",
       "      <th>implant</th>\n",
       "      <th>machine_id</th>\n",
       "      <th>prediction_id</th>\n",
       "      <th>dicom_path</th>\n",
       "      <th>image_path</th>\n",
       "    </tr>\n",
       "  </thead>\n",
       "  <tbody>\n",
       "    <tr>\n",
       "      <th>0</th>\n",
       "      <td>2</td>\n",
       "      <td>10008</td>\n",
       "      <td>736471439</td>\n",
       "      <td>L</td>\n",
       "      <td>MLO</td>\n",
       "      <td>81</td>\n",
       "      <td>0</td>\n",
       "      <td>21</td>\n",
       "      <td>10008_L</td>\n",
       "      <td>/kaggle/input/rsna-breast-cancer-detection/tes...</td>\n",
       "      <td>/kaggle/working/test_images/10008/736471439.png</td>\n",
       "    </tr>\n",
       "    <tr>\n",
       "      <th>1</th>\n",
       "      <td>2</td>\n",
       "      <td>10008</td>\n",
       "      <td>1591370361</td>\n",
       "      <td>L</td>\n",
       "      <td>CC</td>\n",
       "      <td>81</td>\n",
       "      <td>0</td>\n",
       "      <td>21</td>\n",
       "      <td>10008_L</td>\n",
       "      <td>/kaggle/input/rsna-breast-cancer-detection/tes...</td>\n",
       "      <td>/kaggle/working/test_images/10008/1591370361.png</td>\n",
       "    </tr>\n",
       "    <tr>\n",
       "      <th>2</th>\n",
       "      <td>2</td>\n",
       "      <td>10008</td>\n",
       "      <td>68070693</td>\n",
       "      <td>R</td>\n",
       "      <td>MLO</td>\n",
       "      <td>81</td>\n",
       "      <td>0</td>\n",
       "      <td>21</td>\n",
       "      <td>10008_R</td>\n",
       "      <td>/kaggle/input/rsna-breast-cancer-detection/tes...</td>\n",
       "      <td>/kaggle/working/test_images/10008/68070693.png</td>\n",
       "    </tr>\n",
       "    <tr>\n",
       "      <th>3</th>\n",
       "      <td>2</td>\n",
       "      <td>10008</td>\n",
       "      <td>361203119</td>\n",
       "      <td>R</td>\n",
       "      <td>CC</td>\n",
       "      <td>81</td>\n",
       "      <td>0</td>\n",
       "      <td>21</td>\n",
       "      <td>10008_R</td>\n",
       "      <td>/kaggle/input/rsna-breast-cancer-detection/tes...</td>\n",
       "      <td>/kaggle/working/test_images/10008/361203119.png</td>\n",
       "    </tr>\n",
       "  </tbody>\n",
       "</table>\n",
       "</div>"
      ],
      "text/plain": [
       "   site_id  patient_id    image_id laterality view  age  implant  machine_id  \\\n",
       "0        2       10008   736471439          L  MLO   81        0          21   \n",
       "1        2       10008  1591370361          L   CC   81        0          21   \n",
       "2        2       10008    68070693          R  MLO   81        0          21   \n",
       "3        2       10008   361203119          R   CC   81        0          21   \n",
       "\n",
       "  prediction_id                                         dicom_path  \\\n",
       "0       10008_L  /kaggle/input/rsna-breast-cancer-detection/tes...   \n",
       "1       10008_L  /kaggle/input/rsna-breast-cancer-detection/tes...   \n",
       "2       10008_R  /kaggle/input/rsna-breast-cancer-detection/tes...   \n",
       "3       10008_R  /kaggle/input/rsna-breast-cancer-detection/tes...   \n",
       "\n",
       "                                         image_path  \n",
       "0   /kaggle/working/test_images/10008/736471439.png  \n",
       "1  /kaggle/working/test_images/10008/1591370361.png  \n",
       "2    /kaggle/working/test_images/10008/68070693.png  \n",
       "3   /kaggle/working/test_images/10008/361203119.png  "
      ]
     },
     "execution_count": 7,
     "metadata": {},
     "output_type": "execute_result"
    }
   ],
   "source": [
    "test_df['dicom_path'] = test_path + test_df['patient_id'].astype(str) + '/' + test_df['image_id'].astype(str) + '.dcm'\n",
    "test_df['image_path'] = test_output_path + test_df['patient_id'].astype(str) + '/' + test_df['image_id'].astype(str) + '.png'\n",
    "test_df"
   ]
  },
  {
   "cell_type": "code",
   "execution_count": 8,
   "id": "5b8884c1",
   "metadata": {
    "execution": {
     "iopub.execute_input": "2023-07-06T23:37:50.164374Z",
     "iopub.status.busy": "2023-07-06T23:37:50.164097Z",
     "iopub.status.idle": "2023-07-06T23:37:52.606932Z",
     "shell.execute_reply": "2023-07-06T23:37:52.606009Z"
    },
    "papermill": {
     "duration": 2.452909,
     "end_time": "2023-07-06T23:37:52.609100",
     "exception": false,
     "start_time": "2023-07-06T23:37:50.156191",
     "status": "completed"
    },
    "tags": []
   },
   "outputs": [
    {
     "data": {
      "application/vnd.jupyter.widget-view+json": {
       "model_id": "c93bc3301b494cc18d3b30c3826dbc78",
       "version_major": 2,
       "version_minor": 0
      },
      "text/plain": [
       "0it [00:00, ?it/s]"
      ]
     },
     "metadata": {},
     "output_type": "display_data"
    },
    {
     "data": {
      "text/plain": [
       "[None, None, None, None]"
      ]
     },
     "execution_count": 8,
     "metadata": {},
     "output_type": "execute_result"
    }
   ],
   "source": [
    "Parallel(n_jobs=4, backend='threading')(delayed(process)(dicom_path, image_path) \n",
    "                   for dicom_path, image_path in tqdm(zip(test_df['dicom_path'], \n",
    "                                                          test_df['image_path'])))"
   ]
  },
  {
   "cell_type": "code",
   "execution_count": 9,
   "id": "94bbbb37",
   "metadata": {
    "execution": {
     "iopub.execute_input": "2023-07-06T23:37:52.624418Z",
     "iopub.status.busy": "2023-07-06T23:37:52.623622Z",
     "iopub.status.idle": "2023-07-06T23:37:52.778106Z",
     "shell.execute_reply": "2023-07-06T23:37:52.777181Z"
    },
    "papermill": {
     "duration": 0.164379,
     "end_time": "2023-07-06T23:37:52.780393",
     "exception": false,
     "start_time": "2023-07-06T23:37:52.616014",
     "status": "completed"
    },
    "tags": []
   },
   "outputs": [],
   "source": [
    "from sklearn.model_selection import train_test_split\n",
    "from sklearn.metrics import classification_report, confusion_matrix\n",
    "from sklearn.utils import class_weight\n",
    "from tensorflow.keras.models import load_model\n",
    "\n",
    "def predict_model(model_name, generator):\n",
    "    model = load_model(model_name)\n",
    "    pred = model.predict(generator)\n",
    "    \n",
    "    y_pred = []\n",
    "    for prob in pred:\n",
    "        if prob >= 0.5:\n",
    "            y_pred.append(1)\n",
    "        else:\n",
    "            y_pred.append(0)\n",
    "    \n",
    "    y_true = generator.classes\n",
    "    \n",
    "    return (y_pred, y_true, pred)"
   ]
  },
  {
   "cell_type": "code",
   "execution_count": 10,
   "id": "0ad4a688",
   "metadata": {
    "execution": {
     "iopub.execute_input": "2023-07-06T23:37:52.796722Z",
     "iopub.status.busy": "2023-07-06T23:37:52.795915Z",
     "iopub.status.idle": "2023-07-06T23:37:52.807376Z",
     "shell.execute_reply": "2023-07-06T23:37:52.806519Z"
    },
    "papermill": {
     "duration": 0.021085,
     "end_time": "2023-07-06T23:37:52.809442",
     "exception": false,
     "start_time": "2023-07-06T23:37:52.788357",
     "status": "completed"
    },
    "tags": []
   },
   "outputs": [
    {
     "name": "stdout",
     "output_type": "stream",
     "text": [
      "Found 4 images belonging to 1 classes.\n"
     ]
    }
   ],
   "source": [
    "import tensorflow as tf\n",
    "from tensorflow.keras.optimizers import RMSprop\n",
    "from tensorflow.keras.models import load_model\n",
    "from tensorflow.keras.preprocessing.image import ImageDataGenerator\n",
    "\n",
    "test_datagen = ImageDataGenerator()\n",
    "test_generator = test_datagen.flow_from_directory(\n",
    "    #dir_path_test,\n",
    "    \"/kaggle/working/test_images/\",\n",
    "    target_size = (img_size, img_size),\n",
    "    batch_size = 64,\n",
    "    class_mode = 'binary')"
   ]
  },
  {
   "cell_type": "code",
   "execution_count": 11,
   "id": "1f317938",
   "metadata": {
    "execution": {
     "iopub.execute_input": "2023-07-06T23:37:52.824381Z",
     "iopub.status.busy": "2023-07-06T23:37:52.823628Z",
     "iopub.status.idle": "2023-07-06T23:37:52.830689Z",
     "shell.execute_reply": "2023-07-06T23:37:52.829852Z"
    },
    "papermill": {
     "duration": 0.016694,
     "end_time": "2023-07-06T23:37:52.832654",
     "exception": false,
     "start_time": "2023-07-06T23:37:52.815960",
     "status": "completed"
    },
    "tags": []
   },
   "outputs": [],
   "source": [
    "def pfbeta(labels, predictions, beta):\n",
    "    y_true_count = 0\n",
    "    ctp = 0\n",
    "    cfp = 0\n",
    "\n",
    "    for idx in range(len(labels)):\n",
    "        prediction = min(max(predictions[idx], 0), 1)\n",
    "        if (labels[idx]):\n",
    "            y_true_count += 1\n",
    "            ctp += prediction\n",
    "        else:\n",
    "            cfp += prediction\n",
    "\n",
    "    beta_squared = beta * beta\n",
    "    c_precision = ctp / (ctp + cfp)\n",
    "    c_recall = ctp / y_true_count\n",
    "    if (c_precision > 0 and c_recall > 0):\n",
    "        result = (1 + beta_squared) * (c_precision * c_recall) / (beta_squared * c_precision + c_recall)\n",
    "        return result\n",
    "    else:\n",
    "        return 0"
   ]
  },
  {
   "cell_type": "code",
   "execution_count": 12,
   "id": "b71d130c",
   "metadata": {
    "execution": {
     "iopub.execute_input": "2023-07-06T23:37:52.847583Z",
     "iopub.status.busy": "2023-07-06T23:37:52.846811Z",
     "iopub.status.idle": "2023-07-06T23:38:01.778627Z",
     "shell.execute_reply": "2023-07-06T23:38:01.777682Z"
    },
    "papermill": {
     "duration": 8.941575,
     "end_time": "2023-07-06T23:38:01.780852",
     "exception": false,
     "start_time": "2023-07-06T23:37:52.839277",
     "status": "completed"
    },
    "tags": []
   },
   "outputs": [
    {
     "name": "stdout",
     "output_type": "stream",
     "text": [
      "1/1 [==============================] - 5s 5s/step\n"
     ]
    }
   ],
   "source": [
    "test_df['cancer'] = 0\n",
    "test_df['prediction_id'] = test_df['patient_id'].astype(str) + '_' + test_df['laterality']\n",
    "model = load_model('/kaggle/input/baseline/baseline_vgg16.h5')\n",
    "pred = model.predict(test_generator)"
   ]
  },
  {
   "cell_type": "code",
   "execution_count": 13,
   "id": "260fd478",
   "metadata": {
    "execution": {
     "iopub.execute_input": "2023-07-06T23:38:01.796916Z",
     "iopub.status.busy": "2023-07-06T23:38:01.796612Z",
     "iopub.status.idle": "2023-07-06T23:38:01.808773Z",
     "shell.execute_reply": "2023-07-06T23:38:01.807768Z"
    },
    "papermill": {
     "duration": 0.022769,
     "end_time": "2023-07-06T23:38:01.810946",
     "exception": false,
     "start_time": "2023-07-06T23:38:01.788177",
     "status": "completed"
    },
    "tags": []
   },
   "outputs": [
    {
     "data": {
      "text/plain": [
       "array([0.40390497], dtype=float32)"
      ]
     },
     "execution_count": 13,
     "metadata": {},
     "output_type": "execute_result"
    }
   ],
   "source": [
    "pf = pfbeta(test_generator, pred, 1)\n",
    "pf"
   ]
  },
  {
   "cell_type": "code",
   "execution_count": 14,
   "id": "29f8690b",
   "metadata": {
    "execution": {
     "iopub.execute_input": "2023-07-06T23:38:01.826355Z",
     "iopub.status.busy": "2023-07-06T23:38:01.826078Z",
     "iopub.status.idle": "2023-07-06T23:38:01.840513Z",
     "shell.execute_reply": "2023-07-06T23:38:01.839502Z"
    },
    "papermill": {
     "duration": 0.0245,
     "end_time": "2023-07-06T23:38:01.842702",
     "exception": false,
     "start_time": "2023-07-06T23:38:01.818202",
     "status": "completed"
    },
    "tags": []
   },
   "outputs": [
    {
     "data": {
      "text/html": [
       "<div>\n",
       "<style scoped>\n",
       "    .dataframe tbody tr th:only-of-type {\n",
       "        vertical-align: middle;\n",
       "    }\n",
       "\n",
       "    .dataframe tbody tr th {\n",
       "        vertical-align: top;\n",
       "    }\n",
       "\n",
       "    .dataframe thead th {\n",
       "        text-align: right;\n",
       "    }\n",
       "</style>\n",
       "<table border=\"1\" class=\"dataframe\">\n",
       "  <thead>\n",
       "    <tr style=\"text-align: right;\">\n",
       "      <th></th>\n",
       "      <th>site_id</th>\n",
       "      <th>patient_id</th>\n",
       "      <th>image_id</th>\n",
       "      <th>laterality</th>\n",
       "      <th>view</th>\n",
       "      <th>age</th>\n",
       "      <th>implant</th>\n",
       "      <th>machine_id</th>\n",
       "      <th>prediction_id</th>\n",
       "      <th>dicom_path</th>\n",
       "      <th>image_path</th>\n",
       "      <th>cancer</th>\n",
       "    </tr>\n",
       "  </thead>\n",
       "  <tbody>\n",
       "    <tr>\n",
       "      <th>0</th>\n",
       "      <td>2</td>\n",
       "      <td>10008</td>\n",
       "      <td>736471439</td>\n",
       "      <td>L</td>\n",
       "      <td>MLO</td>\n",
       "      <td>81</td>\n",
       "      <td>0</td>\n",
       "      <td>21</td>\n",
       "      <td>10008_L</td>\n",
       "      <td>/kaggle/input/rsna-breast-cancer-detection/tes...</td>\n",
       "      <td>/kaggle/working/test_images/10008/736471439.png</td>\n",
       "      <td>0.253058</td>\n",
       "    </tr>\n",
       "    <tr>\n",
       "      <th>1</th>\n",
       "      <td>2</td>\n",
       "      <td>10008</td>\n",
       "      <td>1591370361</td>\n",
       "      <td>L</td>\n",
       "      <td>CC</td>\n",
       "      <td>81</td>\n",
       "      <td>0</td>\n",
       "      <td>21</td>\n",
       "      <td>10008_L</td>\n",
       "      <td>/kaggle/input/rsna-breast-cancer-detection/tes...</td>\n",
       "      <td>/kaggle/working/test_images/10008/1591370361.png</td>\n",
       "      <td>0.378988</td>\n",
       "    </tr>\n",
       "    <tr>\n",
       "      <th>2</th>\n",
       "      <td>2</td>\n",
       "      <td>10008</td>\n",
       "      <td>68070693</td>\n",
       "      <td>R</td>\n",
       "      <td>MLO</td>\n",
       "      <td>81</td>\n",
       "      <td>0</td>\n",
       "      <td>21</td>\n",
       "      <td>10008_R</td>\n",
       "      <td>/kaggle/input/rsna-breast-cancer-detection/tes...</td>\n",
       "      <td>/kaggle/working/test_images/10008/68070693.png</td>\n",
       "      <td>0.181860</td>\n",
       "    </tr>\n",
       "    <tr>\n",
       "      <th>3</th>\n",
       "      <td>2</td>\n",
       "      <td>10008</td>\n",
       "      <td>361203119</td>\n",
       "      <td>R</td>\n",
       "      <td>CC</td>\n",
       "      <td>81</td>\n",
       "      <td>0</td>\n",
       "      <td>21</td>\n",
       "      <td>10008_R</td>\n",
       "      <td>/kaggle/input/rsna-breast-cancer-detection/tes...</td>\n",
       "      <td>/kaggle/working/test_images/10008/361203119.png</td>\n",
       "      <td>0.395397</td>\n",
       "    </tr>\n",
       "  </tbody>\n",
       "</table>\n",
       "</div>"
      ],
      "text/plain": [
       "   site_id  patient_id    image_id laterality view  age  implant  machine_id  \\\n",
       "0        2       10008   736471439          L  MLO   81        0          21   \n",
       "1        2       10008  1591370361          L   CC   81        0          21   \n",
       "2        2       10008    68070693          R  MLO   81        0          21   \n",
       "3        2       10008   361203119          R   CC   81        0          21   \n",
       "\n",
       "  prediction_id                                         dicom_path  \\\n",
       "0       10008_L  /kaggle/input/rsna-breast-cancer-detection/tes...   \n",
       "1       10008_L  /kaggle/input/rsna-breast-cancer-detection/tes...   \n",
       "2       10008_R  /kaggle/input/rsna-breast-cancer-detection/tes...   \n",
       "3       10008_R  /kaggle/input/rsna-breast-cancer-detection/tes...   \n",
       "\n",
       "                                         image_path    cancer  \n",
       "0   /kaggle/working/test_images/10008/736471439.png  0.253058  \n",
       "1  /kaggle/working/test_images/10008/1591370361.png  0.378988  \n",
       "2    /kaggle/working/test_images/10008/68070693.png  0.181860  \n",
       "3   /kaggle/working/test_images/10008/361203119.png  0.395397  "
      ]
     },
     "execution_count": 14,
     "metadata": {},
     "output_type": "execute_result"
    }
   ],
   "source": [
    "test_df[\"cancer\"] = pred\n",
    "test_df"
   ]
  },
  {
   "cell_type": "code",
   "execution_count": 15,
   "id": "160cad59",
   "metadata": {
    "execution": {
     "iopub.execute_input": "2023-07-06T23:38:01.858220Z",
     "iopub.status.busy": "2023-07-06T23:38:01.857959Z",
     "iopub.status.idle": "2023-07-06T23:38:01.872655Z",
     "shell.execute_reply": "2023-07-06T23:38:01.871783Z"
    },
    "papermill": {
     "duration": 0.024549,
     "end_time": "2023-07-06T23:38:01.874586",
     "exception": false,
     "start_time": "2023-07-06T23:38:01.850037",
     "status": "completed"
    },
    "tags": []
   },
   "outputs": [
    {
     "data": {
      "text/html": [
       "<div>\n",
       "<style scoped>\n",
       "    .dataframe tbody tr th:only-of-type {\n",
       "        vertical-align: middle;\n",
       "    }\n",
       "\n",
       "    .dataframe tbody tr th {\n",
       "        vertical-align: top;\n",
       "    }\n",
       "\n",
       "    .dataframe thead th {\n",
       "        text-align: right;\n",
       "    }\n",
       "</style>\n",
       "<table border=\"1\" class=\"dataframe\">\n",
       "  <thead>\n",
       "    <tr style=\"text-align: right;\">\n",
       "      <th></th>\n",
       "      <th>prediction_id</th>\n",
       "      <th>cancer</th>\n",
       "    </tr>\n",
       "  </thead>\n",
       "  <tbody>\n",
       "    <tr>\n",
       "      <th>0</th>\n",
       "      <td>10008_L</td>\n",
       "      <td>0.316023</td>\n",
       "    </tr>\n",
       "    <tr>\n",
       "      <th>1</th>\n",
       "      <td>10008_R</td>\n",
       "      <td>0.288628</td>\n",
       "    </tr>\n",
       "  </tbody>\n",
       "</table>\n",
       "</div>"
      ],
      "text/plain": [
       "  prediction_id    cancer\n",
       "0       10008_L  0.316023\n",
       "1       10008_R  0.288628"
      ]
     },
     "execution_count": 15,
     "metadata": {},
     "output_type": "execute_result"
    }
   ],
   "source": [
    "#pre_result = test_df[['prediction_id', 'cancer']].groupby(\"prediction_id\").agg(lambda x: pfbeta(test_generator, x.array, 1)).reset_index()\n",
    "pre_result = test_df[['prediction_id', 'cancer']].groupby(\"prediction_id\").mean().reset_index()\n",
    "pre_result"
   ]
  },
  {
   "cell_type": "code",
   "execution_count": 16,
   "id": "882e0fe9",
   "metadata": {
    "execution": {
     "iopub.execute_input": "2023-07-06T23:38:01.890632Z",
     "iopub.status.busy": "2023-07-06T23:38:01.889880Z",
     "iopub.status.idle": "2023-07-06T23:38:01.902313Z",
     "shell.execute_reply": "2023-07-06T23:38:01.901310Z"
    },
    "papermill": {
     "duration": 0.022772,
     "end_time": "2023-07-06T23:38:01.904583",
     "exception": false,
     "start_time": "2023-07-06T23:38:01.881811",
     "status": "completed"
    },
    "tags": []
   },
   "outputs": [
    {
     "data": {
      "text/html": [
       "<div>\n",
       "<style scoped>\n",
       "    .dataframe tbody tr th:only-of-type {\n",
       "        vertical-align: middle;\n",
       "    }\n",
       "\n",
       "    .dataframe tbody tr th {\n",
       "        vertical-align: top;\n",
       "    }\n",
       "\n",
       "    .dataframe thead th {\n",
       "        text-align: right;\n",
       "    }\n",
       "</style>\n",
       "<table border=\"1\" class=\"dataframe\">\n",
       "  <thead>\n",
       "    <tr style=\"text-align: right;\">\n",
       "      <th></th>\n",
       "      <th>prediction_id</th>\n",
       "      <th>cancer</th>\n",
       "    </tr>\n",
       "  </thead>\n",
       "  <tbody>\n",
       "    <tr>\n",
       "      <th>0</th>\n",
       "      <td>10008_L</td>\n",
       "      <td>0.0</td>\n",
       "    </tr>\n",
       "    <tr>\n",
       "      <th>1</th>\n",
       "      <td>10008_R</td>\n",
       "      <td>0.0</td>\n",
       "    </tr>\n",
       "  </tbody>\n",
       "</table>\n",
       "</div>"
      ],
      "text/plain": [
       "  prediction_id  cancer\n",
       "0       10008_L     0.0\n",
       "1       10008_R     0.0"
      ]
     },
     "execution_count": 16,
     "metadata": {},
     "output_type": "execute_result"
    }
   ],
   "source": [
    "has_cancer = (pre_result['cancer'] > 0.4).astype(float)\n",
    "pre_result['cancer'] = has_cancer\n",
    "pre_result.to_csv('/kaggle/working/submission.csv', index=False)\n",
    "pre_result"
   ]
  },
  {
   "cell_type": "code",
   "execution_count": 17,
   "id": "9f2e6f3b",
   "metadata": {
    "execution": {
     "iopub.execute_input": "2023-07-06T23:38:01.921153Z",
     "iopub.status.busy": "2023-07-06T23:38:01.920885Z",
     "iopub.status.idle": "2023-07-06T23:38:01.927496Z",
     "shell.execute_reply": "2023-07-06T23:38:01.926554Z"
    },
    "papermill": {
     "duration": 0.016809,
     "end_time": "2023-07-06T23:38:01.929430",
     "exception": false,
     "start_time": "2023-07-06T23:38:01.912621",
     "status": "completed"
    },
    "tags": []
   },
   "outputs": [],
   "source": [
    "if DEBUG:\n",
    "    cm = confusion_matrix(y_true, y_pred)\n",
    "    cm_pct = confusion_matrix(y_true, y_pred, normalize = \"true\")\n",
    "\n",
    "    class_names = ['Negativo', 'Positivo']\n",
    "\n",
    "    ax = sns.heatmap(cm_pct*100, annot = True, fmt = '.2f', cmap = \"Blues\", annot_kws = {\"size\": 16}, xticklabels = class_names, yticklabels = class_names)\n",
    "\n",
    "    i=0\n",
    "    for t in ax.texts:\n",
    "      t.set_text(str(cm.flatten()[i])+ \"\\n(\"+ t.get_text() + \"%)\")\n",
    "      i = i+1\n",
    "\n",
    "    ax.set_xlabel(\"Predição\")\n",
    "    ax.set_ylabel(\"Real\")"
   ]
  }
 ],
 "metadata": {
  "kernelspec": {
   "display_name": "Python 3",
   "language": "python",
   "name": "python3"
  },
  "language_info": {
   "codemirror_mode": {
    "name": "ipython",
    "version": 3
   },
   "file_extension": ".py",
   "mimetype": "text/x-python",
   "name": "python",
   "nbconvert_exporter": "python",
   "pygments_lexer": "ipython3",
   "version": "3.10.10"
  },
  "papermill": {
   "default_parameters": {},
   "duration": 161.694223,
   "end_time": "2023-07-06T23:38:05.329224",
   "environment_variables": {},
   "exception": null,
   "input_path": "__notebook__.ipynb",
   "output_path": "__notebook__.ipynb",
   "parameters": {},
   "start_time": "2023-07-06T23:35:23.635001",
   "version": "2.4.0"
  },
  "widgets": {
   "application/vnd.jupyter.widget-state+json": {
    "state": {
     "1ffca385c2d141e78b40ec955444b7f5": {
      "model_module": "@jupyter-widgets/base",
      "model_module_version": "1.2.0",
      "model_name": "LayoutModel",
      "state": {
       "_model_module": "@jupyter-widgets/base",
       "_model_module_version": "1.2.0",
       "_model_name": "LayoutModel",
       "_view_count": null,
       "_view_module": "@jupyter-widgets/base",
       "_view_module_version": "1.2.0",
       "_view_name": "LayoutView",
       "align_content": null,
       "align_items": null,
       "align_self": null,
       "border": null,
       "bottom": null,
       "display": null,
       "flex": null,
       "flex_flow": null,
       "grid_area": null,
       "grid_auto_columns": null,
       "grid_auto_flow": null,
       "grid_auto_rows": null,
       "grid_column": null,
       "grid_gap": null,
       "grid_row": null,
       "grid_template_areas": null,
       "grid_template_columns": null,
       "grid_template_rows": null,
       "height": null,
       "justify_content": null,
       "justify_items": null,
       "left": null,
       "margin": null,
       "max_height": null,
       "max_width": null,
       "min_height": null,
       "min_width": null,
       "object_fit": null,
       "object_position": null,
       "order": null,
       "overflow": null,
       "overflow_x": null,
       "overflow_y": null,
       "padding": null,
       "right": null,
       "top": null,
       "visibility": null,
       "width": null
      }
     },
     "20c53b4388294da1836cb6a2bfb7b401": {
      "model_module": "@jupyter-widgets/controls",
      "model_module_version": "1.5.0",
      "model_name": "ProgressStyleModel",
      "state": {
       "_model_module": "@jupyter-widgets/controls",
       "_model_module_version": "1.5.0",
       "_model_name": "ProgressStyleModel",
       "_view_count": null,
       "_view_module": "@jupyter-widgets/base",
       "_view_module_version": "1.2.0",
       "_view_name": "StyleView",
       "bar_color": null,
       "description_width": ""
      }
     },
     "2da8473d97324cefa402b55d3369eb3a": {
      "model_module": "@jupyter-widgets/base",
      "model_module_version": "1.2.0",
      "model_name": "LayoutModel",
      "state": {
       "_model_module": "@jupyter-widgets/base",
       "_model_module_version": "1.2.0",
       "_model_name": "LayoutModel",
       "_view_count": null,
       "_view_module": "@jupyter-widgets/base",
       "_view_module_version": "1.2.0",
       "_view_name": "LayoutView",
       "align_content": null,
       "align_items": null,
       "align_self": null,
       "border": null,
       "bottom": null,
       "display": null,
       "flex": null,
       "flex_flow": null,
       "grid_area": null,
       "grid_auto_columns": null,
       "grid_auto_flow": null,
       "grid_auto_rows": null,
       "grid_column": null,
       "grid_gap": null,
       "grid_row": null,
       "grid_template_areas": null,
       "grid_template_columns": null,
       "grid_template_rows": null,
       "height": null,
       "justify_content": null,
       "justify_items": null,
       "left": null,
       "margin": null,
       "max_height": null,
       "max_width": null,
       "min_height": null,
       "min_width": null,
       "object_fit": null,
       "object_position": null,
       "order": null,
       "overflow": null,
       "overflow_x": null,
       "overflow_y": null,
       "padding": null,
       "right": null,
       "top": null,
       "visibility": null,
       "width": null
      }
     },
     "2eeead00161946e396bb2dceb8c83a1d": {
      "model_module": "@jupyter-widgets/controls",
      "model_module_version": "1.5.0",
      "model_name": "HTMLModel",
      "state": {
       "_dom_classes": [],
       "_model_module": "@jupyter-widgets/controls",
       "_model_module_version": "1.5.0",
       "_model_name": "HTMLModel",
       "_view_count": null,
       "_view_module": "@jupyter-widgets/controls",
       "_view_module_version": "1.5.0",
       "_view_name": "HTMLView",
       "description": "",
       "description_tooltip": null,
       "layout": "IPY_MODEL_1ffca385c2d141e78b40ec955444b7f5",
       "placeholder": "​",
       "style": "IPY_MODEL_bf9c95817ab5492d974f76c98007a737",
       "value": ""
      }
     },
     "348fcf0a55a647df8abe5801066c8bb7": {
      "model_module": "@jupyter-widgets/controls",
      "model_module_version": "1.5.0",
      "model_name": "FloatProgressModel",
      "state": {
       "_dom_classes": [],
       "_model_module": "@jupyter-widgets/controls",
       "_model_module_version": "1.5.0",
       "_model_name": "FloatProgressModel",
       "_view_count": null,
       "_view_module": "@jupyter-widgets/controls",
       "_view_module_version": "1.5.0",
       "_view_name": "ProgressView",
       "bar_style": "success",
       "description": "",
       "description_tooltip": null,
       "layout": "IPY_MODEL_89ebc71d131c4d45b792336e61d1a2c1",
       "max": 1.0,
       "min": 0.0,
       "orientation": "horizontal",
       "style": "IPY_MODEL_20c53b4388294da1836cb6a2bfb7b401",
       "value": 1.0
      }
     },
     "89ebc71d131c4d45b792336e61d1a2c1": {
      "model_module": "@jupyter-widgets/base",
      "model_module_version": "1.2.0",
      "model_name": "LayoutModel",
      "state": {
       "_model_module": "@jupyter-widgets/base",
       "_model_module_version": "1.2.0",
       "_model_name": "LayoutModel",
       "_view_count": null,
       "_view_module": "@jupyter-widgets/base",
       "_view_module_version": "1.2.0",
       "_view_name": "LayoutView",
       "align_content": null,
       "align_items": null,
       "align_self": null,
       "border": null,
       "bottom": null,
       "display": null,
       "flex": null,
       "flex_flow": null,
       "grid_area": null,
       "grid_auto_columns": null,
       "grid_auto_flow": null,
       "grid_auto_rows": null,
       "grid_column": null,
       "grid_gap": null,
       "grid_row": null,
       "grid_template_areas": null,
       "grid_template_columns": null,
       "grid_template_rows": null,
       "height": null,
       "justify_content": null,
       "justify_items": null,
       "left": null,
       "margin": null,
       "max_height": null,
       "max_width": null,
       "min_height": null,
       "min_width": null,
       "object_fit": null,
       "object_position": null,
       "order": null,
       "overflow": null,
       "overflow_x": null,
       "overflow_y": null,
       "padding": null,
       "right": null,
       "top": null,
       "visibility": null,
       "width": "20px"
      }
     },
     "93acf5b4186b46849a6e6c6ed3056a1a": {
      "model_module": "@jupyter-widgets/controls",
      "model_module_version": "1.5.0",
      "model_name": "DescriptionStyleModel",
      "state": {
       "_model_module": "@jupyter-widgets/controls",
       "_model_module_version": "1.5.0",
       "_model_name": "DescriptionStyleModel",
       "_view_count": null,
       "_view_module": "@jupyter-widgets/base",
       "_view_module_version": "1.2.0",
       "_view_name": "StyleView",
       "description_width": ""
      }
     },
     "a81a536375354a2a970ee824e8b3b54e": {
      "model_module": "@jupyter-widgets/base",
      "model_module_version": "1.2.0",
      "model_name": "LayoutModel",
      "state": {
       "_model_module": "@jupyter-widgets/base",
       "_model_module_version": "1.2.0",
       "_model_name": "LayoutModel",
       "_view_count": null,
       "_view_module": "@jupyter-widgets/base",
       "_view_module_version": "1.2.0",
       "_view_name": "LayoutView",
       "align_content": null,
       "align_items": null,
       "align_self": null,
       "border": null,
       "bottom": null,
       "display": null,
       "flex": null,
       "flex_flow": null,
       "grid_area": null,
       "grid_auto_columns": null,
       "grid_auto_flow": null,
       "grid_auto_rows": null,
       "grid_column": null,
       "grid_gap": null,
       "grid_row": null,
       "grid_template_areas": null,
       "grid_template_columns": null,
       "grid_template_rows": null,
       "height": null,
       "justify_content": null,
       "justify_items": null,
       "left": null,
       "margin": null,
       "max_height": null,
       "max_width": null,
       "min_height": null,
       "min_width": null,
       "object_fit": null,
       "object_position": null,
       "order": null,
       "overflow": null,
       "overflow_x": null,
       "overflow_y": null,
       "padding": null,
       "right": null,
       "top": null,
       "visibility": null,
       "width": null
      }
     },
     "bf9c95817ab5492d974f76c98007a737": {
      "model_module": "@jupyter-widgets/controls",
      "model_module_version": "1.5.0",
      "model_name": "DescriptionStyleModel",
      "state": {
       "_model_module": "@jupyter-widgets/controls",
       "_model_module_version": "1.5.0",
       "_model_name": "DescriptionStyleModel",
       "_view_count": null,
       "_view_module": "@jupyter-widgets/base",
       "_view_module_version": "1.2.0",
       "_view_name": "StyleView",
       "description_width": ""
      }
     },
     "c93bc3301b494cc18d3b30c3826dbc78": {
      "model_module": "@jupyter-widgets/controls",
      "model_module_version": "1.5.0",
      "model_name": "HBoxModel",
      "state": {
       "_dom_classes": [],
       "_model_module": "@jupyter-widgets/controls",
       "_model_module_version": "1.5.0",
       "_model_name": "HBoxModel",
       "_view_count": null,
       "_view_module": "@jupyter-widgets/controls",
       "_view_module_version": "1.5.0",
       "_view_name": "HBoxView",
       "box_style": "",
       "children": [
        "IPY_MODEL_2eeead00161946e396bb2dceb8c83a1d",
        "IPY_MODEL_348fcf0a55a647df8abe5801066c8bb7",
        "IPY_MODEL_eeac204f0762489cbd472348742f0226"
       ],
       "layout": "IPY_MODEL_2da8473d97324cefa402b55d3369eb3a"
      }
     },
     "eeac204f0762489cbd472348742f0226": {
      "model_module": "@jupyter-widgets/controls",
      "model_module_version": "1.5.0",
      "model_name": "HTMLModel",
      "state": {
       "_dom_classes": [],
       "_model_module": "@jupyter-widgets/controls",
       "_model_module_version": "1.5.0",
       "_model_name": "HTMLModel",
       "_view_count": null,
       "_view_module": "@jupyter-widgets/controls",
       "_view_module_version": "1.5.0",
       "_view_name": "HTMLView",
       "description": "",
       "description_tooltip": null,
       "layout": "IPY_MODEL_a81a536375354a2a970ee824e8b3b54e",
       "placeholder": "​",
       "style": "IPY_MODEL_93acf5b4186b46849a6e6c6ed3056a1a",
       "value": " 4/? [00:00&lt;00:00, 179.20it/s]"
      }
     }
    },
    "version_major": 2,
    "version_minor": 0
   }
  }
 },
 "nbformat": 4,
 "nbformat_minor": 5
}
