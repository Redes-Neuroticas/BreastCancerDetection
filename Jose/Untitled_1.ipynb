{
  "cells": [
    {
      "cell_type": "code",
      "execution_count": 4,
      "metadata": {
        "id": "6jobUb6ENgGk"
      },
      "outputs": [],
      "source": [
        "import pandas as pd\n",
        "import os"
      ]
    },
    {
      "cell_type": "code",
      "source": [
        "from google.colab import drive\n",
        "drive.mount('/content/drive')"
      ],
      "metadata": {
        "colab": {
          "base_uri": "https://localhost:8080/"
        },
        "id": "ZxbUz5AgiLbH",
        "outputId": "5b86d244-8c69-48d8-f3e7-667d96ad73b0"
      },
      "execution_count": 5,
      "outputs": [
        {
          "output_type": "stream",
          "name": "stdout",
          "text": [
            "Drive already mounted at /content/drive; to attempt to forcibly remount, call drive.mount(\"/content/drive\", force_remount=True).\n"
          ]
        }
      ]
    },
    {
      "cell_type": "code",
      "execution_count": 6,
      "metadata": {
        "colab": {
          "base_uri": "https://localhost:8080/",
          "height": 206
        },
        "id": "moTiVYhENgGq",
        "outputId": "28438830-e0f2-4984-9f92-19fe32d19b1c"
      },
      "outputs": [
        {
          "output_type": "execute_result",
          "data": {
            "text/plain": [
              "   site_id  patient_id    image_id laterality view   age  cancer  biopsy  \\\n",
              "0        2       10006   462822612          L   CC  61.0       0       0   \n",
              "1        2       10006  1459541791          L  MLO  61.0       0       0   \n",
              "2        2       10006  1864590858          R  MLO  61.0       0       0   \n",
              "3        2       10006  1874946579          R   CC  61.0       0       0   \n",
              "4        2       10011   220375232          L   CC  55.0       0       0   \n",
              "\n",
              "   invasive  BIRADS  implant density  machine_id  difficult_negative_case  \n",
              "0         0     NaN        0     NaN          29                    False  \n",
              "1         0     NaN        0     NaN          29                    False  \n",
              "2         0     NaN        0     NaN          29                    False  \n",
              "3         0     NaN        0     NaN          29                    False  \n",
              "4         0     0.0        0     NaN          21                     True  "
            ],
            "text/html": [
              "\n",
              "  <div id=\"df-5c49a71b-97a3-48b0-b328-c7f3821a0713\">\n",
              "    <div class=\"colab-df-container\">\n",
              "      <div>\n",
              "<style scoped>\n",
              "    .dataframe tbody tr th:only-of-type {\n",
              "        vertical-align: middle;\n",
              "    }\n",
              "\n",
              "    .dataframe tbody tr th {\n",
              "        vertical-align: top;\n",
              "    }\n",
              "\n",
              "    .dataframe thead th {\n",
              "        text-align: right;\n",
              "    }\n",
              "</style>\n",
              "<table border=\"1\" class=\"dataframe\">\n",
              "  <thead>\n",
              "    <tr style=\"text-align: right;\">\n",
              "      <th></th>\n",
              "      <th>site_id</th>\n",
              "      <th>patient_id</th>\n",
              "      <th>image_id</th>\n",
              "      <th>laterality</th>\n",
              "      <th>view</th>\n",
              "      <th>age</th>\n",
              "      <th>cancer</th>\n",
              "      <th>biopsy</th>\n",
              "      <th>invasive</th>\n",
              "      <th>BIRADS</th>\n",
              "      <th>implant</th>\n",
              "      <th>density</th>\n",
              "      <th>machine_id</th>\n",
              "      <th>difficult_negative_case</th>\n",
              "    </tr>\n",
              "  </thead>\n",
              "  <tbody>\n",
              "    <tr>\n",
              "      <th>0</th>\n",
              "      <td>2</td>\n",
              "      <td>10006</td>\n",
              "      <td>462822612</td>\n",
              "      <td>L</td>\n",
              "      <td>CC</td>\n",
              "      <td>61.0</td>\n",
              "      <td>0</td>\n",
              "      <td>0</td>\n",
              "      <td>0</td>\n",
              "      <td>NaN</td>\n",
              "      <td>0</td>\n",
              "      <td>NaN</td>\n",
              "      <td>29</td>\n",
              "      <td>False</td>\n",
              "    </tr>\n",
              "    <tr>\n",
              "      <th>1</th>\n",
              "      <td>2</td>\n",
              "      <td>10006</td>\n",
              "      <td>1459541791</td>\n",
              "      <td>L</td>\n",
              "      <td>MLO</td>\n",
              "      <td>61.0</td>\n",
              "      <td>0</td>\n",
              "      <td>0</td>\n",
              "      <td>0</td>\n",
              "      <td>NaN</td>\n",
              "      <td>0</td>\n",
              "      <td>NaN</td>\n",
              "      <td>29</td>\n",
              "      <td>False</td>\n",
              "    </tr>\n",
              "    <tr>\n",
              "      <th>2</th>\n",
              "      <td>2</td>\n",
              "      <td>10006</td>\n",
              "      <td>1864590858</td>\n",
              "      <td>R</td>\n",
              "      <td>MLO</td>\n",
              "      <td>61.0</td>\n",
              "      <td>0</td>\n",
              "      <td>0</td>\n",
              "      <td>0</td>\n",
              "      <td>NaN</td>\n",
              "      <td>0</td>\n",
              "      <td>NaN</td>\n",
              "      <td>29</td>\n",
              "      <td>False</td>\n",
              "    </tr>\n",
              "    <tr>\n",
              "      <th>3</th>\n",
              "      <td>2</td>\n",
              "      <td>10006</td>\n",
              "      <td>1874946579</td>\n",
              "      <td>R</td>\n",
              "      <td>CC</td>\n",
              "      <td>61.0</td>\n",
              "      <td>0</td>\n",
              "      <td>0</td>\n",
              "      <td>0</td>\n",
              "      <td>NaN</td>\n",
              "      <td>0</td>\n",
              "      <td>NaN</td>\n",
              "      <td>29</td>\n",
              "      <td>False</td>\n",
              "    </tr>\n",
              "    <tr>\n",
              "      <th>4</th>\n",
              "      <td>2</td>\n",
              "      <td>10011</td>\n",
              "      <td>220375232</td>\n",
              "      <td>L</td>\n",
              "      <td>CC</td>\n",
              "      <td>55.0</td>\n",
              "      <td>0</td>\n",
              "      <td>0</td>\n",
              "      <td>0</td>\n",
              "      <td>0.0</td>\n",
              "      <td>0</td>\n",
              "      <td>NaN</td>\n",
              "      <td>21</td>\n",
              "      <td>True</td>\n",
              "    </tr>\n",
              "  </tbody>\n",
              "</table>\n",
              "</div>\n",
              "      <button class=\"colab-df-convert\" onclick=\"convertToInteractive('df-5c49a71b-97a3-48b0-b328-c7f3821a0713')\"\n",
              "              title=\"Convert this dataframe to an interactive table.\"\n",
              "              style=\"display:none;\">\n",
              "        \n",
              "  <svg xmlns=\"http://www.w3.org/2000/svg\" height=\"24px\"viewBox=\"0 0 24 24\"\n",
              "       width=\"24px\">\n",
              "    <path d=\"M0 0h24v24H0V0z\" fill=\"none\"/>\n",
              "    <path d=\"M18.56 5.44l.94 2.06.94-2.06 2.06-.94-2.06-.94-.94-2.06-.94 2.06-2.06.94zm-11 1L8.5 8.5l.94-2.06 2.06-.94-2.06-.94L8.5 2.5l-.94 2.06-2.06.94zm10 10l.94 2.06.94-2.06 2.06-.94-2.06-.94-.94-2.06-.94 2.06-2.06.94z\"/><path d=\"M17.41 7.96l-1.37-1.37c-.4-.4-.92-.59-1.43-.59-.52 0-1.04.2-1.43.59L10.3 9.45l-7.72 7.72c-.78.78-.78 2.05 0 2.83L4 21.41c.39.39.9.59 1.41.59.51 0 1.02-.2 1.41-.59l7.78-7.78 2.81-2.81c.8-.78.8-2.07 0-2.86zM5.41 20L4 18.59l7.72-7.72 1.47 1.35L5.41 20z\"/>\n",
              "  </svg>\n",
              "      </button>\n",
              "      \n",
              "  <style>\n",
              "    .colab-df-container {\n",
              "      display:flex;\n",
              "      flex-wrap:wrap;\n",
              "      gap: 12px;\n",
              "    }\n",
              "\n",
              "    .colab-df-convert {\n",
              "      background-color: #E8F0FE;\n",
              "      border: none;\n",
              "      border-radius: 50%;\n",
              "      cursor: pointer;\n",
              "      display: none;\n",
              "      fill: #1967D2;\n",
              "      height: 32px;\n",
              "      padding: 0 0 0 0;\n",
              "      width: 32px;\n",
              "    }\n",
              "\n",
              "    .colab-df-convert:hover {\n",
              "      background-color: #E2EBFA;\n",
              "      box-shadow: 0px 1px 2px rgba(60, 64, 67, 0.3), 0px 1px 3px 1px rgba(60, 64, 67, 0.15);\n",
              "      fill: #174EA6;\n",
              "    }\n",
              "\n",
              "    [theme=dark] .colab-df-convert {\n",
              "      background-color: #3B4455;\n",
              "      fill: #D2E3FC;\n",
              "    }\n",
              "\n",
              "    [theme=dark] .colab-df-convert:hover {\n",
              "      background-color: #434B5C;\n",
              "      box-shadow: 0px 1px 3px 1px rgba(0, 0, 0, 0.15);\n",
              "      filter: drop-shadow(0px 1px 2px rgba(0, 0, 0, 0.3));\n",
              "      fill: #FFFFFF;\n",
              "    }\n",
              "  </style>\n",
              "\n",
              "      <script>\n",
              "        const buttonEl =\n",
              "          document.querySelector('#df-5c49a71b-97a3-48b0-b328-c7f3821a0713 button.colab-df-convert');\n",
              "        buttonEl.style.display =\n",
              "          google.colab.kernel.accessAllowed ? 'block' : 'none';\n",
              "\n",
              "        async function convertToInteractive(key) {\n",
              "          const element = document.querySelector('#df-5c49a71b-97a3-48b0-b328-c7f3821a0713');\n",
              "          const dataTable =\n",
              "            await google.colab.kernel.invokeFunction('convertToInteractive',\n",
              "                                                     [key], {});\n",
              "          if (!dataTable) return;\n",
              "\n",
              "          const docLinkHtml = 'Like what you see? Visit the ' +\n",
              "            '<a target=\"_blank\" href=https://colab.research.google.com/notebooks/data_table.ipynb>data table notebook</a>'\n",
              "            + ' to learn more about interactive tables.';\n",
              "          element.innerHTML = '';\n",
              "          dataTable['output_type'] = 'display_data';\n",
              "          await google.colab.output.renderOutput(dataTable, element);\n",
              "          const docLink = document.createElement('div');\n",
              "          docLink.innerHTML = docLinkHtml;\n",
              "          element.appendChild(docLink);\n",
              "        }\n",
              "      </script>\n",
              "    </div>\n",
              "  </div>\n",
              "  "
            ]
          },
          "metadata": {},
          "execution_count": 6
        }
      ],
      "source": [
        "path_csv_train = 'drive/MyDrive/Datasets/train.csv'\n",
        "train = pd.read_csv(path_csv_train)\n",
        "train.head()"
      ]
    },
    {
      "cell_type": "code",
      "execution_count": 7,
      "metadata": {
        "colab": {
          "base_uri": "https://localhost:8080/",
          "height": 206
        },
        "id": "xg-vKWZoNgGs",
        "outputId": "4aad0da0-8140-48a0-8793-73eccdc31f09"
      },
      "outputs": [
        {
          "output_type": "execute_result",
          "data": {
            "text/plain": [
              "   site_id  patient_id    image_id laterality view   age  cancer  biopsy  \\\n",
              "0        2       10048   964141995          L  MLO  62.0       0       0   \n",
              "1        2       10048  1234933874          L   CC  62.0       0       0   \n",
              "2        2       10048  1577142909          R  MLO  62.0       0       0   \n",
              "3        2       10048  1842203124          R   CC  62.0       0       0   \n",
              "4        2       10050   588678397          L  MLO  67.0       0       0   \n",
              "\n",
              "   invasive  BIRADS  implant density  machine_id  difficult_negative_case  \n",
              "0         0     NaN        0     NaN          29                    False  \n",
              "1         0     NaN        0     NaN          29                    False  \n",
              "2         0     NaN        0     NaN          29                    False  \n",
              "3         0     NaN        0     NaN          29                    False  \n",
              "4         0     NaN        0     NaN          29                    False  "
            ],
            "text/html": [
              "\n",
              "  <div id=\"df-477a4044-0c80-4fd7-b8db-7c1b4962f77d\">\n",
              "    <div class=\"colab-df-container\">\n",
              "      <div>\n",
              "<style scoped>\n",
              "    .dataframe tbody tr th:only-of-type {\n",
              "        vertical-align: middle;\n",
              "    }\n",
              "\n",
              "    .dataframe tbody tr th {\n",
              "        vertical-align: top;\n",
              "    }\n",
              "\n",
              "    .dataframe thead th {\n",
              "        text-align: right;\n",
              "    }\n",
              "</style>\n",
              "<table border=\"1\" class=\"dataframe\">\n",
              "  <thead>\n",
              "    <tr style=\"text-align: right;\">\n",
              "      <th></th>\n",
              "      <th>site_id</th>\n",
              "      <th>patient_id</th>\n",
              "      <th>image_id</th>\n",
              "      <th>laterality</th>\n",
              "      <th>view</th>\n",
              "      <th>age</th>\n",
              "      <th>cancer</th>\n",
              "      <th>biopsy</th>\n",
              "      <th>invasive</th>\n",
              "      <th>BIRADS</th>\n",
              "      <th>implant</th>\n",
              "      <th>density</th>\n",
              "      <th>machine_id</th>\n",
              "      <th>difficult_negative_case</th>\n",
              "    </tr>\n",
              "  </thead>\n",
              "  <tbody>\n",
              "    <tr>\n",
              "      <th>0</th>\n",
              "      <td>2</td>\n",
              "      <td>10048</td>\n",
              "      <td>964141995</td>\n",
              "      <td>L</td>\n",
              "      <td>MLO</td>\n",
              "      <td>62.0</td>\n",
              "      <td>0</td>\n",
              "      <td>0</td>\n",
              "      <td>0</td>\n",
              "      <td>NaN</td>\n",
              "      <td>0</td>\n",
              "      <td>NaN</td>\n",
              "      <td>29</td>\n",
              "      <td>False</td>\n",
              "    </tr>\n",
              "    <tr>\n",
              "      <th>1</th>\n",
              "      <td>2</td>\n",
              "      <td>10048</td>\n",
              "      <td>1234933874</td>\n",
              "      <td>L</td>\n",
              "      <td>CC</td>\n",
              "      <td>62.0</td>\n",
              "      <td>0</td>\n",
              "      <td>0</td>\n",
              "      <td>0</td>\n",
              "      <td>NaN</td>\n",
              "      <td>0</td>\n",
              "      <td>NaN</td>\n",
              "      <td>29</td>\n",
              "      <td>False</td>\n",
              "    </tr>\n",
              "    <tr>\n",
              "      <th>2</th>\n",
              "      <td>2</td>\n",
              "      <td>10048</td>\n",
              "      <td>1577142909</td>\n",
              "      <td>R</td>\n",
              "      <td>MLO</td>\n",
              "      <td>62.0</td>\n",
              "      <td>0</td>\n",
              "      <td>0</td>\n",
              "      <td>0</td>\n",
              "      <td>NaN</td>\n",
              "      <td>0</td>\n",
              "      <td>NaN</td>\n",
              "      <td>29</td>\n",
              "      <td>False</td>\n",
              "    </tr>\n",
              "    <tr>\n",
              "      <th>3</th>\n",
              "      <td>2</td>\n",
              "      <td>10048</td>\n",
              "      <td>1842203124</td>\n",
              "      <td>R</td>\n",
              "      <td>CC</td>\n",
              "      <td>62.0</td>\n",
              "      <td>0</td>\n",
              "      <td>0</td>\n",
              "      <td>0</td>\n",
              "      <td>NaN</td>\n",
              "      <td>0</td>\n",
              "      <td>NaN</td>\n",
              "      <td>29</td>\n",
              "      <td>False</td>\n",
              "    </tr>\n",
              "    <tr>\n",
              "      <th>4</th>\n",
              "      <td>2</td>\n",
              "      <td>10050</td>\n",
              "      <td>588678397</td>\n",
              "      <td>L</td>\n",
              "      <td>MLO</td>\n",
              "      <td>67.0</td>\n",
              "      <td>0</td>\n",
              "      <td>0</td>\n",
              "      <td>0</td>\n",
              "      <td>NaN</td>\n",
              "      <td>0</td>\n",
              "      <td>NaN</td>\n",
              "      <td>29</td>\n",
              "      <td>False</td>\n",
              "    </tr>\n",
              "  </tbody>\n",
              "</table>\n",
              "</div>\n",
              "      <button class=\"colab-df-convert\" onclick=\"convertToInteractive('df-477a4044-0c80-4fd7-b8db-7c1b4962f77d')\"\n",
              "              title=\"Convert this dataframe to an interactive table.\"\n",
              "              style=\"display:none;\">\n",
              "        \n",
              "  <svg xmlns=\"http://www.w3.org/2000/svg\" height=\"24px\"viewBox=\"0 0 24 24\"\n",
              "       width=\"24px\">\n",
              "    <path d=\"M0 0h24v24H0V0z\" fill=\"none\"/>\n",
              "    <path d=\"M18.56 5.44l.94 2.06.94-2.06 2.06-.94-2.06-.94-.94-2.06-.94 2.06-2.06.94zm-11 1L8.5 8.5l.94-2.06 2.06-.94-2.06-.94L8.5 2.5l-.94 2.06-2.06.94zm10 10l.94 2.06.94-2.06 2.06-.94-2.06-.94-.94-2.06-.94 2.06-2.06.94z\"/><path d=\"M17.41 7.96l-1.37-1.37c-.4-.4-.92-.59-1.43-.59-.52 0-1.04.2-1.43.59L10.3 9.45l-7.72 7.72c-.78.78-.78 2.05 0 2.83L4 21.41c.39.39.9.59 1.41.59.51 0 1.02-.2 1.41-.59l7.78-7.78 2.81-2.81c.8-.78.8-2.07 0-2.86zM5.41 20L4 18.59l7.72-7.72 1.47 1.35L5.41 20z\"/>\n",
              "  </svg>\n",
              "      </button>\n",
              "      \n",
              "  <style>\n",
              "    .colab-df-container {\n",
              "      display:flex;\n",
              "      flex-wrap:wrap;\n",
              "      gap: 12px;\n",
              "    }\n",
              "\n",
              "    .colab-df-convert {\n",
              "      background-color: #E8F0FE;\n",
              "      border: none;\n",
              "      border-radius: 50%;\n",
              "      cursor: pointer;\n",
              "      display: none;\n",
              "      fill: #1967D2;\n",
              "      height: 32px;\n",
              "      padding: 0 0 0 0;\n",
              "      width: 32px;\n",
              "    }\n",
              "\n",
              "    .colab-df-convert:hover {\n",
              "      background-color: #E2EBFA;\n",
              "      box-shadow: 0px 1px 2px rgba(60, 64, 67, 0.3), 0px 1px 3px 1px rgba(60, 64, 67, 0.15);\n",
              "      fill: #174EA6;\n",
              "    }\n",
              "\n",
              "    [theme=dark] .colab-df-convert {\n",
              "      background-color: #3B4455;\n",
              "      fill: #D2E3FC;\n",
              "    }\n",
              "\n",
              "    [theme=dark] .colab-df-convert:hover {\n",
              "      background-color: #434B5C;\n",
              "      box-shadow: 0px 1px 3px 1px rgba(0, 0, 0, 0.15);\n",
              "      filter: drop-shadow(0px 1px 2px rgba(0, 0, 0, 0.3));\n",
              "      fill: #FFFFFF;\n",
              "    }\n",
              "  </style>\n",
              "\n",
              "      <script>\n",
              "        const buttonEl =\n",
              "          document.querySelector('#df-477a4044-0c80-4fd7-b8db-7c1b4962f77d button.colab-df-convert');\n",
              "        buttonEl.style.display =\n",
              "          google.colab.kernel.accessAllowed ? 'block' : 'none';\n",
              "\n",
              "        async function convertToInteractive(key) {\n",
              "          const element = document.querySelector('#df-477a4044-0c80-4fd7-b8db-7c1b4962f77d');\n",
              "          const dataTable =\n",
              "            await google.colab.kernel.invokeFunction('convertToInteractive',\n",
              "                                                     [key], {});\n",
              "          if (!dataTable) return;\n",
              "\n",
              "          const docLinkHtml = 'Like what you see? Visit the ' +\n",
              "            '<a target=\"_blank\" href=https://colab.research.google.com/notebooks/data_table.ipynb>data table notebook</a>'\n",
              "            + ' to learn more about interactive tables.';\n",
              "          element.innerHTML = '';\n",
              "          dataTable['output_type'] = 'display_data';\n",
              "          await google.colab.output.renderOutput(dataTable, element);\n",
              "          const docLink = document.createElement('div');\n",
              "          docLink.innerHTML = docLinkHtml;\n",
              "          element.appendChild(docLink);\n",
              "        }\n",
              "      </script>\n",
              "    </div>\n",
              "  </div>\n",
              "  "
            ]
          },
          "metadata": {},
          "execution_count": 7
        }
      ],
      "source": [
        "path_csv_test = 'drive/MyDrive/Datasets/test.csv'\n",
        "test = pd.read_csv(path_csv_test)\n",
        "test.head()"
      ]
    },
    {
      "cell_type": "code",
      "source": [
        "path_images = 'drive/MyDrive/Datasets/archive'"
      ],
      "metadata": {
        "id": "aMiAgi-nW1ON"
      },
      "execution_count": 8,
      "outputs": []
    },
    {
      "cell_type": "code",
      "execution_count": null,
      "metadata": {
        "id": "Ndo-rXJRNgGt"
      },
      "outputs": [],
      "source": [
        "def get_filenames(path):\n",
        "  filenames = set()\n",
        "  for root, dirs, files in os.walk(path):\n",
        "    for file in files:\n",
        "      filenames.add(os.path.splitext(file)[0])\n",
        "  return filenames\n",
        "\n",
        "files_low_res = get_filenames(path_images)\n",
        "len(files_low_res)"
      ]
    },
    {
      "cell_type": "code",
      "execution_count": null,
      "metadata": {
        "id": "DAM-NIQVNgGu"
      },
      "outputs": [],
      "source": [
        "def check_missing_images(image_ids):\n",
        "    missing_images = []\n",
        "\n",
        "    for id in image_ids:\n",
        "        if str(id) not in files_low_res:\n",
        "            missing_images.append(id)\n",
        "\n",
        "    return missing_images\n",
        "\n",
        "assert (check_missing_images(train['image_id'].values) == []), \"Há imagem faltando no conjunto de treino\"\n",
        "assert (check_missing_images(test['image_id'].values) == []), \"Há imagem faltando no conjunto de teste\""
      ]
    },
    {
      "cell_type": "code",
      "execution_count": 9,
      "metadata": {
        "colab": {
          "base_uri": "https://localhost:8080/"
        },
        "id": "dUhencExNgGw",
        "outputId": "e66ae001-a100-42cf-96db-5321717596be"
      },
      "outputs": [
        {
          "output_type": "stream",
          "name": "stdout",
          "text": [
            "<class 'pandas.core.frame.DataFrame'>\n",
            "RangeIndex: 10962 entries, 0 to 10961\n",
            "Data columns (total 14 columns):\n",
            " #   Column                   Non-Null Count  Dtype  \n",
            "---  ------                   --------------  -----  \n",
            " 0   site_id                  10962 non-null  int64  \n",
            " 1   patient_id               10962 non-null  int64  \n",
            " 2   image_id                 10962 non-null  int64  \n",
            " 3   laterality               10962 non-null  object \n",
            " 4   view                     10962 non-null  object \n",
            " 5   age                      10949 non-null  float64\n",
            " 6   cancer                   10962 non-null  int64  \n",
            " 7   biopsy                   10962 non-null  int64  \n",
            " 8   invasive                 10962 non-null  int64  \n",
            " 9   BIRADS                   5327 non-null   float64\n",
            " 10  implant                  10962 non-null  int64  \n",
            " 11  density                  5796 non-null   object \n",
            " 12  machine_id               10962 non-null  int64  \n",
            " 13  difficult_negative_case  10962 non-null  bool   \n",
            "dtypes: bool(1), float64(2), int64(8), object(3)\n",
            "memory usage: 1.1+ MB\n"
          ]
        }
      ],
      "source": [
        "test.info(verbose=True)"
      ]
    },
    {
      "cell_type": "code",
      "execution_count": 10,
      "metadata": {
        "colab": {
          "base_uri": "https://localhost:8080/"
        },
        "id": "dkY0WWLsNgGx",
        "outputId": "dd8f264e-03d3-44de-bc7c-876c796aeb6a"
      },
      "outputs": [
        {
          "output_type": "stream",
          "name": "stdout",
          "text": [
            "Conjunto de Treino\n",
            "Total: 43744\n",
            "Positivos: 966, 2.21%\n",
            "Invasivos: 966, 1.58%\n",
            "BIRADS faltantes ou incompletos: 29439, 67.30%\n",
            "Densidade faltantes: 20070, 45.88%\n",
            "\n",
            "\n",
            "Conjunto de Teste\n",
            "Total: 10962\n",
            "Positivos: 192, 1.75%\n",
            "Invasivos: 192, 1.14%\n",
            "BIRADS faltantes ou incompletos: 7230, 65.96%\n",
            "Densidade faltantes: 5166, 47.13%\n"
          ]
        }
      ],
      "source": [
        "def check_dataset(dataset):\n",
        "    total_cases = len(dataset)\n",
        "    positive_cases = 0\n",
        "\n",
        "    positive_cases = sum(filter(lambda d: d, dataset['cancer']))\n",
        "    invasive_cases = sum(filter(lambda d: d, dataset['invasive']))\n",
        "    missing_birads = len(list(filter(lambda d: pd.isna(d) or d == 0.0, dataset['BIRADS'])))\n",
        "    missing_density = len(list(filter(lambda d: pd.isna(d), dataset['density'])))\n",
        "\n",
        "    print (f'Total: {total_cases}')\n",
        "    print (f'Positivos: {positive_cases}, {(positive_cases/total_cases*100):.2f}%')\n",
        "    print (f'Invasivos: {positive_cases}, {(invasive_cases/total_cases*100):.2f}%')\n",
        "    print (f'BIRADS faltantes ou incompletos: {missing_birads}, {(missing_birads/total_cases*100):.2f}%')\n",
        "    print (f'Densidade faltantes: {missing_density}, {(missing_density/total_cases*100):.2f}%')\n",
        "\n",
        "print (\"Conjunto de Treino\")\n",
        "check_dataset(train)\n",
        "print(\"\\n\")\n",
        "print (\"Conjunto de Teste\")\n",
        "check_dataset(test)"
      ]
    },
    {
      "cell_type": "markdown",
      "metadata": {
        "id": "1f262iHYNgGy"
      },
      "source": [
        "Considerações:\n",
        "\n",
        "Quase metade dos dados de BI-RADS[1] ou são incompletos/inconclusivos. Esta feature, com valores entre 1 e 6 são interessantes para a classificação.\n",
        "\n",
        "[1] BI-RADS (Breast Imaging-Reporting and Data System) é uma ferramenta de avaliação de risco e garantia de qualidade desenvolvida pelo American College of Radiology que fornece um léxico amplamente aceito e um esquema de laudo para imagens da mama. Aplica-se à mamografia, ultrassonografia e ressonância magnética.\n",
        "Valores possíveis:\n",
        " 0 - Incompleto, necessária mais imagens. Pouco útil para o trabalho.\n",
        " 1 - Negativo.\n",
        " 2 - Benigno.\n",
        " 3 - Provavelmente benigno.\n",
        " 4 - Suspeição para maligno.\n",
        " 5 - Alta suspeição para maligno.\n",
        " 6 - Maligno.\n",
        "https://radiopaedia.org/articles/breast-imaging-reporting-and-data-system-bi-rads?lang=us#SnippetTab\n",
        "\n",
        "Também metade dos dados de densidade estão faltando.\n",
        "\n",
        "Densidade são classificadas entre A (baixa densidade) e D (alta densidade). Alta densidade apresenta mais risco por possivelmente esconder o cancer das imagens.\n",
        "https://www.bcna.org.au/breast-health-awareness/mammographic-density-and-screening/"
      ]
    },
    {
      "cell_type": "code",
      "execution_count": 11,
      "metadata": {
        "id": "AmHYe484NgG0",
        "outputId": "a9dae264-6560-47df-d6cf-32b2de8e6a3f",
        "colab": {
          "base_uri": "https://localhost:8080/"
        }
      },
      "outputs": [
        {
          "output_type": "stream",
          "name": "stdout",
          "text": [
            "Conjunto treino: 43306\n",
            "Conjunto validação: 438\n",
            "------\n",
            "Conjunto treino: 42350 casos negativos, 956 casos positivos\n",
            "Conjunto validação: 428 casos negativos, 10 casos positivos\n"
          ]
        }
      ],
      "source": [
        "from sklearn.model_selection import train_test_split\n",
        "\n",
        "# divide o conjunto de treino em treino e validação, e cada um em conjuntos positivados e negativados.\n",
        "train_df, validation_df = train_test_split(train,\n",
        "                                           test_size=0.01,\n",
        "                                           random_state=666,\n",
        "                                           stratify=train['cancer'])\n",
        "\n",
        "train_neg_df = train_df[train_df['cancer'] == 0]\n",
        "train_pos_df = train_df[train_df['cancer'] == 1]\n",
        "\n",
        "validation_neg_df = validation_df[validation_df['cancer'] == 0]\n",
        "validation_pos_df = validation_df[validation_df['cancer'] == 1]\n",
        "\n",
        "# sumário\n",
        "print(f\"Conjunto treino: {len(train_df)}\")\n",
        "print(f\"Conjunto validação: {len(validation_df)}\")\n",
        "print(\"------\")\n",
        "print(f\"Conjunto treino: {len(train_neg_df)} casos negativos, {len(train_pos_df)} casos positivos\")\n",
        "print(f\"Conjunto validação: {len(validation_neg_df)} casos negativos, {len(validation_pos_df)} casos positivos\")"
      ]
    },
    {
      "cell_type": "code",
      "execution_count": 12,
      "metadata": {
        "id": "x8yNvKXzNgG1"
      },
      "outputs": [],
      "source": [
        "import subprocess\n",
        "\n",
        "path_train = 'drive/MyDrive/Datasets/train'\n",
        "path_validation = 'drive/MyDrive/Datasets/validation'"
      ]
    },
    {
      "cell_type": "code",
      "source": [
        "cmd_clean_dirs = f\"rm -fr {path_train} {path_validation}\"\n",
        "cmd_make_dirs = f\"mkdir -p {path_train}/positive {path_train}/negative {path_validation}/positive {path_validation}/negative\"\n",
        "\n",
        "# We only live once\n",
        "subprocess.run(cmd_clean_dirs, shell=True)\n",
        "subprocess.run(cmd_make_dirs, shell=True)"
      ],
      "metadata": {
        "id": "XqMePTsL6AYw"
      },
      "execution_count": null,
      "outputs": []
    },
    {
      "cell_type": "code",
      "execution_count": null,
      "metadata": {
        "scrolled": true,
        "id": "UYGydaVdNgG2",
        "outputId": "ac41dfee-7cb0-402c-fd41-ce3355da08a9",
        "colab": {
          "base_uri": "https://localhost:8080/"
        }
      },
      "outputs": [
        {
          "output_type": "stream",
          "name": "stdout",
          "text": [
            "Done\n"
          ]
        }
      ],
      "source": [
        "def copy_images(path, ids, dest):\n",
        "    for root, dirs, files in os.walk(path):\n",
        "        for file in files:\n",
        "            if int(os.path.splitext(file)[0]) in ids:\n",
        "                subprocess.run(f\"cp {root}/{file} {dest}\", shell=True)\n",
        "\n",
        "copy_images(path_images, validation_neg_df['image_id'].values.tolist(), path_validation + '/negative')\n",
        "copy_images(path_images, validation_pos_df['image_id'].values.tolist(), path_validation + '/positive')\n",
        "copy_images(path_images, train_neg_df['image_id'].values.tolist(), path_train + '/negative')\n",
        "copy_images(path_images, train_pos_df['image_id'].values.tolist(), path_train + '/positive')\n",
        "print('Done')"
      ]
    },
    {
      "cell_type": "code",
      "execution_count": 13,
      "metadata": {
        "id": "5ofKvE8TNgG3",
        "outputId": "b19fccff-4223-4441-d2a5-a6a1bddc9d0d",
        "colab": {
          "base_uri": "https://localhost:8080/"
        }
      },
      "outputs": [
        {
          "output_type": "stream",
          "name": "stdout",
          "text": [
            "Found 34995 images belonging to 2 classes.\n",
            "Found 8749 images belonging to 2 classes.\n"
          ]
        }
      ],
      "source": [
        "from tensorflow.keras.preprocessing.image import ImageDataGenerator\n",
        "\n",
        "train_datagen = ImageDataGenerator(rescale = 1./255., zoom_range = 0.2)\n",
        "val_datagen = ImageDataGenerator(rescale = 1./255.)\n",
        "\n",
        "train_generator = train_datagen.flow_from_directory(\n",
        "    path_train,\n",
        "    target_size = (512, 256),\n",
        "    batch_size = 32,\n",
        "    class_mode = 'binary')\n",
        "\n",
        "validation_generator = val_datagen.flow_from_directory(\n",
        "    path_validation,\n",
        "    target_size = (512, 256),\n",
        "    batch_size = 16,\n",
        "    class_mode = 'binary')"
      ]
    },
    {
      "cell_type": "code",
      "execution_count": 2,
      "metadata": {
        "id": "SPfC6AkWNgG3",
        "outputId": "4e32edab-2fdf-4ac4-eb3d-dad43dd2b6bf",
        "colab": {
          "base_uri": "https://localhost:8080/"
        }
      },
      "outputs": [
        {
          "output_type": "stream",
          "name": "stdout",
          "text": [
            "Model: \"sequential\"\n",
            "_________________________________________________________________\n",
            " Layer (type)                Output Shape              Param #   \n",
            "=================================================================\n",
            " resnet50 (Functional)       (None, 16, 8, 2048)       23587712  \n",
            "                                                                 \n",
            " global_average_pooling2d (G  (None, 2048)             0         \n",
            " lobalAveragePooling2D)                                          \n",
            "                                                                 \n",
            " dense (Dense)               (None, 128)               262272    \n",
            "                                                                 \n",
            " dropout (Dropout)           (None, 128)               0         \n",
            "                                                                 \n",
            " dense_1 (Dense)             (None, 1)                 129       \n",
            "                                                                 \n",
            "=================================================================\n",
            "Total params: 23,850,113\n",
            "Trainable params: 262,401\n",
            "Non-trainable params: 23,587,712\n",
            "_________________________________________________________________\n"
          ]
        }
      ],
      "source": [
        "from tensorflow.keras.applications.resnet import ResNet50\n",
        "from tensorflow.keras.layers import Dense, GlobalAveragePooling2D, Dropout\n",
        "from tensorflow.keras.models import Sequential\n",
        "from tensorflow.keras.optimizers import Adam\n",
        "\n",
        "base_model = ResNet50(weights = 'imagenet', input_shape = (512, 256, 3), include_top = False)\n",
        "\n",
        "for layer in base_model.layers:\n",
        "    layer.trainable = False\n",
        "\n",
        "model = Sequential()\n",
        "model.add(base_model)\n",
        "model.add(GlobalAveragePooling2D())\n",
        "model.add(Dense(128, activation = 'relu'))\n",
        "model.add(Dropout(0.2))\n",
        "model.add(Dense(1, activation = 'sigmoid'))\n",
        "\n",
        "model.compile(optimizer = \"adam\", loss = 'binary_crossentropy', metrics = [\"accuracy\"])\n",
        "model.summary()"
      ]
    },
    {
      "cell_type": "code",
      "source": [
        "from sklearn.utils import class_weight\n",
        "import numpy as np\n",
        "\n",
        "sklearn_weights = class_weight.compute_class_weight(class_weight = \"balanced\", classes=np.unique(validation_generator), y=validation_generator)\n",
        "sklearn_weights"
      ],
      "metadata": {
        "id": "MNjVQuB7Wioh"
      },
      "execution_count": null,
      "outputs": []
    },
    {
      "cell_type": "code",
      "execution_count": 22,
      "metadata": {
        "id": "joF4QHqdNgG3",
        "outputId": "71933c21-9bf7-4b9d-805a-7e60affbc5ac",
        "colab": {
          "base_uri": "https://localhost:8080/"
        }
      },
      "outputs": [
        {
          "output_type": "stream",
          "name": "stdout",
          "text": [
            "Epoch 1/10\n",
            "6/6 [==============================] - 147s 23s/step - loss: 0.0911 - accuracy: 0.9635 - val_loss: 0.1207 - val_accuracy: 0.9779\n",
            "Epoch 2/10\n",
            "6/6 [==============================] - 139s 25s/step - loss: 0.0505 - accuracy: 0.9844 - val_loss: 0.1712 - val_accuracy: 0.9779\n",
            "Epoch 3/10\n",
            "6/6 [==============================] - 140s 25s/step - loss: 0.0668 - accuracy: 0.9792 - val_loss: 0.1152 - val_accuracy: 0.9779\n",
            "Epoch 4/10\n",
            "6/6 [==============================] - 137s 24s/step - loss: 0.0977 - accuracy: 0.9479 - val_loss: 0.1995 - val_accuracy: 0.9779\n",
            "Epoch 5/10\n",
            "6/6 [==============================] - 138s 24s/step - loss: 0.0503 - accuracy: 0.9688 - val_loss: 0.1073 - val_accuracy: 0.9779\n",
            "Epoch 6/10\n",
            "6/6 [==============================] - 137s 24s/step - loss: 0.0964 - accuracy: 0.9635 - val_loss: 0.1421 - val_accuracy: 0.9779\n",
            "Epoch 7/10\n",
            "6/6 [==============================] - 138s 24s/step - loss: 0.0465 - accuracy: 0.9792 - val_loss: 0.1307 - val_accuracy: 0.9779\n",
            "Epoch 8/10\n",
            "6/6 [==============================] - 137s 24s/step - loss: 0.0705 - accuracy: 0.9844 - val_loss: 0.1059 - val_accuracy: 0.9779\n",
            "Epoch 9/10\n",
            "6/6 [==============================] - 131s 23s/step - loss: 0.0649 - accuracy: 0.9792 - val_loss: 0.1310 - val_accuracy: 0.9779\n",
            "Epoch 10/10\n",
            "6/6 [==============================] - 130s 23s/step - loss: 0.0803 - accuracy: 0.9688 - val_loss: 0.2030 - val_accuracy: 0.9779\n"
          ]
        }
      ],
      "source": [
        "import tensorflow as tf\n",
        "\n",
        "callback = tf.keras.callbacks.EarlyStopping(monitor=\"val_loss\", mode=\"min\", patience=4)\n",
        "history = model.fit(train_generator, validation_data=validation_generator, steps_per_epoch=6, epochs=10, callbacks=callback, class_weight={0: 0.20, 1: 0.80})"
      ]
    },
    {
      "cell_type": "code",
      "execution_count": 23,
      "metadata": {
        "id": "QejVZaAPNgG4"
      },
      "outputs": [],
      "source": [
        "accuracy = history.history['accuracy']\n",
        "val_accuracy = history.history['val_accuracy']\n",
        "\n",
        "loss = history.history['loss']\n",
        "val_loss = history.history['val_loss']"
      ]
    },
    {
      "cell_type": "code",
      "execution_count": 24,
      "metadata": {
        "id": "ve3iHfMNNgG4"
      },
      "outputs": [],
      "source": [
        "model.save('mammography_pred_model_unbalanced_10epochsX6steps.h5')"
      ]
    },
    {
      "cell_type": "code",
      "execution_count": 25,
      "metadata": {
        "id": "8QXFKuUfNgG4",
        "colab": {
          "base_uri": "https://localhost:8080/",
          "height": 469
        },
        "outputId": "629e243e-9ade-4099-c310-6ef125fec0e2"
      },
      "outputs": [
        {
          "output_type": "execute_result",
          "data": {
            "text/plain": [
              "Text(0, 0.5, 'loss')"
            ]
          },
          "metadata": {},
          "execution_count": 25
        },
        {
          "output_type": "display_data",
          "data": {
            "text/plain": [
              "<Figure size 1500x1000 with 2 Axes>"
            ],
            "image/png": "[encoded data removed]"
          },
          "metadata": {}
        }
      ],
      "source": [
        "import matplotlib.pyplot as plt\n",
        "\n",
        "plt.figure(figsize = (15,10))\n",
        "\n",
        "plt.subplot(2, 2, 1)\n",
        "plt.plot(accuracy, label = \"Training Accuracy\")\n",
        "plt.plot(val_accuracy, label = \"Validation Accuracy\")\n",
        "plt.ylim(0.4, 1)\n",
        "plt.legend(['Train', 'Validation'], loc = 'upper left')\n",
        "plt.title(\"Training vs Validation Accuracy\")\n",
        "plt.xlabel('epoch')\n",
        "plt.ylabel('accuracy')\n",
        "\n",
        "\n",
        "plt.subplot(2, 2, 2)\n",
        "plt.plot(loss, label = \"Training Loss\")\n",
        "plt.plot(val_loss, label = \"Validation Loss\")\n",
        "plt.legend(['Train', 'Validation'], loc = 'upper left')\n",
        "plt.title(\"Training vs Validation Loss\")\n",
        "plt.xlabel('epoch')\n",
        "plt.ylabel('loss')"
      ]
    },
    {
      "cell_type": "code",
      "execution_count": 26,
      "metadata": {
        "id": "JzyPjewpNgG4"
      },
      "outputs": [],
      "source": [
        "from tensorflow.keras.models import load_model\n",
        "\n",
        "model = load_model('mammography_pred_model_unbalanced_10epochsX6steps.h5')"
      ]
    },
    {
      "cell_type": "code",
      "source": [
        "pred = model.predict(validation_generator)"
      ],
      "metadata": {
        "colab": {
          "base_uri": "https://localhost:8080/"
        },
        "id": "1K62OSgRGz4u",
        "outputId": "8d1ae560-3500-4c31-8b22-b8d25d674678"
      },
      "execution_count": 27,
      "outputs": [
        {
          "output_type": "stream",
          "name": "stdout",
          "text": [
            "547/547 [==============================] - 48s 87ms/step\n"
          ]
        }
      ]
    },
    {
      "cell_type": "code",
      "source": [
        "y_pred = []\n",
        "for prob in pred:\n",
        "    if prob >= 0.5:\n",
        "        y_pred.append(1)\n",
        "    else:\n",
        "        y_pred.append(0)\n",
        "\n",
        "pd.Series(y_pred).value_counts()"
      ],
      "metadata": {
        "colab": {
          "base_uri": "https://localhost:8080/"
        },
        "id": "CK_tJI_5G3Kd",
        "outputId": "fb3ad75d-766f-4be6-b0ed-b952e5bda401"
      },
      "execution_count": 28,
      "outputs": [
        {
          "output_type": "execute_result",
          "data": {
            "text/plain": [
              "0    8749\n",
              "dtype: int64"
            ]
          },
          "metadata": {},
          "execution_count": 28
        }
      ]
    },
    {
      "cell_type": "code",
      "source": [
        "y_true = validation_generator.classes"
      ],
      "metadata": {
        "id": "_g29gCWcG7YL"
      },
      "execution_count": 29,
      "outputs": []
    },
    {
      "cell_type": "code",
      "source": [
        "from sklearn.metrics import confusion_matrix\n",
        "import seaborn as sns\n",
        "\n",
        "cm = confusion_matrix(y_true, y_pred)\n",
        "class_names = ['Normal', 'Cancer']\n",
        "\n",
        "# Create the heatmap with class names as tick labels.\n",
        "ax = sns.heatmap(cm, annot = True, fmt = '.0f', cmap = \"Blues\", annot_kws = {\"size\": 16},\\\n",
        "           xticklabels = class_names, yticklabels = class_names)\n",
        "\n",
        "# Set the axis labels.\n",
        "ax.set_xlabel(\"Prediction\")\n",
        "ax.set_ylabel(\"Truth\")"
      ],
      "metadata": {
        "colab": {
          "base_uri": "https://localhost:8080/",
          "height": 466
        },
        "id": "dkHoVZfYHIlS",
        "outputId": "8d287711-d087-4f09-ad58-3c3fa4172e03"
      },
      "execution_count": 30,
      "outputs": [
        {
          "output_type": "execute_result",
          "data": {
            "text/plain": [
              "Text(50.722222222222214, 0.5, 'Truth')"
            ]
          },
          "metadata": {},
          "execution_count": 30
        },
        {
          "output_type": "display_data",
          "data": {
            "text/plain": [
              "<Figure size 640x480 with 2 Axes>"
            ],
            "image/png": "[encoded data removed]"
          },
          "metadata": {}
        }
      ]
    },
    {
      "cell_type": "code",
      "source": [
        "from sklearn.metrics import classification_report\n",
        "\n",
        "print(classification_report(y_true, y_pred))"
      ],
      "metadata": {
        "colab": {
          "base_uri": "https://localhost:8080/"
        },
        "id": "CSf68SRqHO2B",
        "outputId": "baea9152-4bc2-4065-a1d9-4b08865c98fc"
      },
      "execution_count": 31,
      "outputs": [
        {
          "output_type": "stream",
          "name": "stdout",
          "text": [
            "              precision    recall  f1-score   support\n",
            "\n",
            "           0       0.98      1.00      0.99      8556\n",
            "           1       0.00      0.00      0.00       193\n",
            "\n",
            "    accuracy                           0.98      8749\n",
            "   macro avg       0.49      0.50      0.49      8749\n",
            "weighted avg       0.96      0.98      0.97      8749\n",
            "\n"
          ]
        },
        {
          "output_type": "stream",
          "name": "stderr",
          "text": [
            "/usr/local/lib/python3.10/dist-packages/sklearn/metrics/_classification.py:1344: UndefinedMetricWarning: Precision and F-score are ill-defined and being set to 0.0 in labels with no predicted samples. Use `zero_division` parameter to control this behavior.\n",
            "  _warn_prf(average, modifier, msg_start, len(result))\n",
            "/usr/local/lib/python3.10/dist-packages/sklearn/metrics/_classification.py:1344: UndefinedMetricWarning: Precision and F-score are ill-defined and being set to 0.0 in labels with no predicted samples. Use `zero_division` parameter to control this behavior.\n",
            "  _warn_prf(average, modifier, msg_start, len(result))\n",
            "/usr/local/lib/python3.10/dist-packages/sklearn/metrics/_classification.py:1344: UndefinedMetricWarning: Precision and F-score are ill-defined and being set to 0.0 in labels with no predicted samples. Use `zero_division` parameter to control this behavior.\n",
            "  _warn_prf(average, modifier, msg_start, len(result))\n"
          ]
        }
      ]
    }
  ],
  "metadata": {
    "kernelspec": {
      "display_name": "Python 3",
      "name": "python3"
    },
    "language_info": {
      "codemirror_mode": {
        "name": "ipython",
        "version": 3
      },
      "file_extension": ".py",
      "mimetype": "text/x-python",
      "name": "python",
      "nbconvert_exporter": "python",
      "pygments_lexer": "ipython3",
      "version": "3.10.6"
    },
    "colab": {
      "provenance": [],
      "machine_shape": "hm",
      "gpuType": "V100"
    },
    "accelerator": "GPU"
  },
  "nbformat": 4,
  "nbformat_minor": 0
}