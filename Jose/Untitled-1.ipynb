{
 "cells": [
  {
   "cell_type": "code",
   "execution_count": 1,
   "metadata": {},
   "outputs": [],
   "source": [
    "import pandas as pd\n",
    "import os"
   ]
  },
  {
   "cell_type": "code",
   "execution_count": 2,
   "metadata": {},
   "outputs": [
    {
     "data": {
      "text/html": [
       "<div>\n",
       "<style scoped>\n",
       "    .dataframe tbody tr th:only-of-type {\n",
       "        vertical-align: middle;\n",
       "    }\n",
       "\n",
       "    .dataframe tbody tr th {\n",
       "        vertical-align: top;\n",
       "    }\n",
       "\n",
       "    .dataframe thead th {\n",
       "        text-align: right;\n",
       "    }\n",
       "</style>\n",
       "<table border=\"1\" class=\"dataframe\">\n",
       "  <thead>\n",
       "    <tr style=\"text-align: right;\">\n",
       "      <th></th>\n",
       "      <th>site_id</th>\n",
       "      <th>patient_id</th>\n",
       "      <th>image_id</th>\n",
       "      <th>laterality</th>\n",
       "      <th>view</th>\n",
       "      <th>age</th>\n",
       "      <th>cancer</th>\n",
       "      <th>biopsy</th>\n",
       "      <th>invasive</th>\n",
       "      <th>BIRADS</th>\n",
       "      <th>implant</th>\n",
       "      <th>density</th>\n",
       "      <th>machine_id</th>\n",
       "      <th>difficult_negative_case</th>\n",
       "    </tr>\n",
       "  </thead>\n",
       "  <tbody>\n",
       "    <tr>\n",
       "      <th>0</th>\n",
       "      <td>2</td>\n",
       "      <td>10006</td>\n",
       "      <td>462822612</td>\n",
       "      <td>L</td>\n",
       "      <td>CC</td>\n",
       "      <td>61.0</td>\n",
       "      <td>0</td>\n",
       "      <td>0</td>\n",
       "      <td>0</td>\n",
       "      <td>NaN</td>\n",
       "      <td>0</td>\n",
       "      <td>NaN</td>\n",
       "      <td>29</td>\n",
       "      <td>False</td>\n",
       "    </tr>\n",
       "    <tr>\n",
       "      <th>1</th>\n",
       "      <td>2</td>\n",
       "      <td>10006</td>\n",
       "      <td>1459541791</td>\n",
       "      <td>L</td>\n",
       "      <td>MLO</td>\n",
       "      <td>61.0</td>\n",
       "      <td>0</td>\n",
       "      <td>0</td>\n",
       "      <td>0</td>\n",
       "      <td>NaN</td>\n",
       "      <td>0</td>\n",
       "      <td>NaN</td>\n",
       "      <td>29</td>\n",
       "      <td>False</td>\n",
       "    </tr>\n",
       "    <tr>\n",
       "      <th>2</th>\n",
       "      <td>2</td>\n",
       "      <td>10006</td>\n",
       "      <td>1864590858</td>\n",
       "      <td>R</td>\n",
       "      <td>MLO</td>\n",
       "      <td>61.0</td>\n",
       "      <td>0</td>\n",
       "      <td>0</td>\n",
       "      <td>0</td>\n",
       "      <td>NaN</td>\n",
       "      <td>0</td>\n",
       "      <td>NaN</td>\n",
       "      <td>29</td>\n",
       "      <td>False</td>\n",
       "    </tr>\n",
       "    <tr>\n",
       "      <th>3</th>\n",
       "      <td>2</td>\n",
       "      <td>10006</td>\n",
       "      <td>1874946579</td>\n",
       "      <td>R</td>\n",
       "      <td>CC</td>\n",
       "      <td>61.0</td>\n",
       "      <td>0</td>\n",
       "      <td>0</td>\n",
       "      <td>0</td>\n",
       "      <td>NaN</td>\n",
       "      <td>0</td>\n",
       "      <td>NaN</td>\n",
       "      <td>29</td>\n",
       "      <td>False</td>\n",
       "    </tr>\n",
       "    <tr>\n",
       "      <th>4</th>\n",
       "      <td>2</td>\n",
       "      <td>10011</td>\n",
       "      <td>220375232</td>\n",
       "      <td>L</td>\n",
       "      <td>CC</td>\n",
       "      <td>55.0</td>\n",
       "      <td>0</td>\n",
       "      <td>0</td>\n",
       "      <td>0</td>\n",
       "      <td>0.0</td>\n",
       "      <td>0</td>\n",
       "      <td>NaN</td>\n",
       "      <td>21</td>\n",
       "      <td>True</td>\n",
       "    </tr>\n",
       "  </tbody>\n",
       "</table>\n",
       "</div>"
      ],
      "text/plain": [
       "   site_id  patient_id    image_id laterality view   age  cancer  biopsy  \\\n",
       "0        2       10006   462822612          L   CC  61.0       0       0   \n",
       "1        2       10006  1459541791          L  MLO  61.0       0       0   \n",
       "2        2       10006  1864590858          R  MLO  61.0       0       0   \n",
       "3        2       10006  1874946579          R   CC  61.0       0       0   \n",
       "4        2       10011   220375232          L   CC  55.0       0       0   \n",
       "\n",
       "   invasive  BIRADS  implant density  machine_id  difficult_negative_case  \n",
       "0         0     NaN        0     NaN          29                    False  \n",
       "1         0     NaN        0     NaN          29                    False  \n",
       "2         0     NaN        0     NaN          29                    False  \n",
       "3         0     NaN        0     NaN          29                    False  \n",
       "4         0     0.0        0     NaN          21                     True  "
      ]
     },
     "execution_count": 2,
     "metadata": {},
     "output_type": "execute_result"
    }
   ],
   "source": [
    "train = pd.read_csv('train.csv')\n",
    "train.head()"
   ]
  },
  {
   "cell_type": "code",
   "execution_count": 3,
   "metadata": {},
   "outputs": [
    {
     "data": {
      "text/html": [
       "<div>\n",
       "<style scoped>\n",
       "    .dataframe tbody tr th:only-of-type {\n",
       "        vertical-align: middle;\n",
       "    }\n",
       "\n",
       "    .dataframe tbody tr th {\n",
       "        vertical-align: top;\n",
       "    }\n",
       "\n",
       "    .dataframe thead th {\n",
       "        text-align: right;\n",
       "    }\n",
       "</style>\n",
       "<table border=\"1\" class=\"dataframe\">\n",
       "  <thead>\n",
       "    <tr style=\"text-align: right;\">\n",
       "      <th></th>\n",
       "      <th>site_id</th>\n",
       "      <th>patient_id</th>\n",
       "      <th>image_id</th>\n",
       "      <th>laterality</th>\n",
       "      <th>view</th>\n",
       "      <th>age</th>\n",
       "      <th>cancer</th>\n",
       "      <th>biopsy</th>\n",
       "      <th>invasive</th>\n",
       "      <th>BIRADS</th>\n",
       "      <th>implant</th>\n",
       "      <th>density</th>\n",
       "      <th>machine_id</th>\n",
       "      <th>difficult_negative_case</th>\n",
       "    </tr>\n",
       "  </thead>\n",
       "  <tbody>\n",
       "    <tr>\n",
       "      <th>0</th>\n",
       "      <td>2</td>\n",
       "      <td>10048</td>\n",
       "      <td>964141995</td>\n",
       "      <td>L</td>\n",
       "      <td>MLO</td>\n",
       "      <td>62.0</td>\n",
       "      <td>0</td>\n",
       "      <td>0</td>\n",
       "      <td>0</td>\n",
       "      <td>NaN</td>\n",
       "      <td>0</td>\n",
       "      <td>NaN</td>\n",
       "      <td>29</td>\n",
       "      <td>False</td>\n",
       "    </tr>\n",
       "    <tr>\n",
       "      <th>1</th>\n",
       "      <td>2</td>\n",
       "      <td>10048</td>\n",
       "      <td>1234933874</td>\n",
       "      <td>L</td>\n",
       "      <td>CC</td>\n",
       "      <td>62.0</td>\n",
       "      <td>0</td>\n",
       "      <td>0</td>\n",
       "      <td>0</td>\n",
       "      <td>NaN</td>\n",
       "      <td>0</td>\n",
       "      <td>NaN</td>\n",
       "      <td>29</td>\n",
       "      <td>False</td>\n",
       "    </tr>\n",
       "    <tr>\n",
       "      <th>2</th>\n",
       "      <td>2</td>\n",
       "      <td>10048</td>\n",
       "      <td>1577142909</td>\n",
       "      <td>R</td>\n",
       "      <td>MLO</td>\n",
       "      <td>62.0</td>\n",
       "      <td>0</td>\n",
       "      <td>0</td>\n",
       "      <td>0</td>\n",
       "      <td>NaN</td>\n",
       "      <td>0</td>\n",
       "      <td>NaN</td>\n",
       "      <td>29</td>\n",
       "      <td>False</td>\n",
       "    </tr>\n",
       "    <tr>\n",
       "      <th>3</th>\n",
       "      <td>2</td>\n",
       "      <td>10048</td>\n",
       "      <td>1842203124</td>\n",
       "      <td>R</td>\n",
       "      <td>CC</td>\n",
       "      <td>62.0</td>\n",
       "      <td>0</td>\n",
       "      <td>0</td>\n",
       "      <td>0</td>\n",
       "      <td>NaN</td>\n",
       "      <td>0</td>\n",
       "      <td>NaN</td>\n",
       "      <td>29</td>\n",
       "      <td>False</td>\n",
       "    </tr>\n",
       "    <tr>\n",
       "      <th>4</th>\n",
       "      <td>2</td>\n",
       "      <td>10050</td>\n",
       "      <td>588678397</td>\n",
       "      <td>L</td>\n",
       "      <td>MLO</td>\n",
       "      <td>67.0</td>\n",
       "      <td>0</td>\n",
       "      <td>0</td>\n",
       "      <td>0</td>\n",
       "      <td>NaN</td>\n",
       "      <td>0</td>\n",
       "      <td>NaN</td>\n",
       "      <td>29</td>\n",
       "      <td>False</td>\n",
       "    </tr>\n",
       "  </tbody>\n",
       "</table>\n",
       "</div>"
      ],
      "text/plain": [
       "   site_id  patient_id    image_id laterality view   age  cancer  biopsy  \\\n",
       "0        2       10048   964141995          L  MLO  62.0       0       0   \n",
       "1        2       10048  1234933874          L   CC  62.0       0       0   \n",
       "2        2       10048  1577142909          R  MLO  62.0       0       0   \n",
       "3        2       10048  1842203124          R   CC  62.0       0       0   \n",
       "4        2       10050   588678397          L  MLO  67.0       0       0   \n",
       "\n",
       "   invasive  BIRADS  implant density  machine_id  difficult_negative_case  \n",
       "0         0     NaN        0     NaN          29                    False  \n",
       "1         0     NaN        0     NaN          29                    False  \n",
       "2         0     NaN        0     NaN          29                    False  \n",
       "3         0     NaN        0     NaN          29                    False  \n",
       "4         0     NaN        0     NaN          29                    False  "
      ]
     },
     "execution_count": 3,
     "metadata": {},
     "output_type": "execute_result"
    }
   ],
   "source": [
    "test = pd.read_csv('test.csv')\n",
    "test.head()"
   ]
  },
  {
   "cell_type": "code",
   "execution_count": 4,
   "metadata": {},
   "outputs": [
    {
     "data": {
      "text/plain": [
       "54706"
      ]
     },
     "execution_count": 4,
     "metadata": {},
     "output_type": "execute_result"
    }
   ],
   "source": [
    "def get_filenames(path):\n",
    "    filenames = set()\n",
    "    for root, dirs, files in os.walk(path):\n",
    "        for file in files:\n",
    "            filenames.add(os.path.splitext(file)[0])\n",
    "    return filenames\n",
    "\n",
    "files_low_res = get_filenames('archive')\n",
    "len(files_low_res)"
   ]
  },
  {
   "cell_type": "code",
   "execution_count": 67,
   "metadata": {},
   "outputs": [],
   "source": [
    "def check_missing_images(image_ids):\n",
    "    missing_images = []\n",
    "\n",
    "    for id in image_ids:\n",
    "        if str(id) not in files_low_res:\n",
    "            missing_images.append(id)\n",
    "\n",
    "    return missing_images\n",
    "\n",
    "assert (check_missing_images(train['image_id'].values) == []), \"Há imagem faltando no conjunto de treino\"\n",
    "assert (check_missing_images(test['image_id'].values) == []), \"Há imagem faltando no conjunto de teste\""
   ]
  },
  {
   "cell_type": "code",
   "execution_count": 29,
   "metadata": {},
   "outputs": [
    {
     "name": "stdout",
     "output_type": "stream",
     "text": [
      "<class 'pandas.core.frame.DataFrame'>\n",
      "RangeIndex: 10962 entries, 0 to 10961\n",
      "Data columns (total 14 columns):\n",
      " #   Column                   Non-Null Count  Dtype  \n",
      "---  ------                   --------------  -----  \n",
      " 0   site_id                  10962 non-null  int64  \n",
      " 1   patient_id               10962 non-null  int64  \n",
      " 2   image_id                 10962 non-null  int64  \n",
      " 3   laterality               10962 non-null  object \n",
      " 4   view                     10962 non-null  object \n",
      " 5   age                      10949 non-null  float64\n",
      " 6   cancer                   10962 non-null  int64  \n",
      " 7   biopsy                   10962 non-null  int64  \n",
      " 8   invasive                 10962 non-null  int64  \n",
      " 9   BIRADS                   5327 non-null   float64\n",
      " 10  implant                  10962 non-null  int64  \n",
      " 11  density                  5796 non-null   object \n",
      " 12  machine_id               10962 non-null  int64  \n",
      " 13  difficult_negative_case  10962 non-null  bool   \n",
      "dtypes: bool(1), float64(2), int64(8), object(3)\n",
      "memory usage: 1.1+ MB\n"
     ]
    }
   ],
   "source": [
    "test.info(verbose=True)"
   ]
  },
  {
   "cell_type": "code",
   "execution_count": 44,
   "metadata": {},
   "outputs": [
    {
     "name": "stdout",
     "output_type": "stream",
     "text": [
      "Conjunto de Treino\n",
      "Total: 43744\n",
      "Positivos: 966, 2.21%\n",
      "Invasivos: 966, 1.58%\n",
      "BIRADS faltantes ou incompletos: 29439, 67.30%\n",
      "Densidade faltantes: 20070, 45.88%\n",
      "\n",
      "\n",
      "Conjunto de Teste\n",
      "Total: 10962\n",
      "Positivos: 192, 1.75%\n",
      "Invasivos: 192, 1.14%\n",
      "BIRADS faltantes ou incompletos: 7230, 65.96%\n",
      "Densidade faltantes: 5166, 47.13%\n"
     ]
    }
   ],
   "source": [
    "def check_dataset(dataset):\n",
    "    total_cases = len(dataset)\n",
    "    positive_cases = 0\n",
    "    \n",
    "    positive_cases = sum(filter(lambda d: d, dataset['cancer']))\n",
    "    invasive_cases = sum(filter(lambda d: d, dataset['invasive']))\n",
    "    missing_birads = len(list(filter(lambda d: pd.isna(d) or d == 0.0, dataset['BIRADS'])))\n",
    "    missing_density = len(list(filter(lambda d: pd.isna(d), dataset['density'])))\n",
    "    \n",
    "    print (f'Total: {total_cases}')\n",
    "    print (f'Positivos: {positive_cases}, {(positive_cases/total_cases*100):.2f}%')\n",
    "    print (f'Invasivos: {positive_cases}, {(invasive_cases/total_cases*100):.2f}%')\n",
    "    print (f'BIRADS faltantes ou incompletos: {missing_birads}, {(missing_birads/total_cases*100):.2f}%')\n",
    "    print (f'Densidade faltantes: {missing_density}, {(missing_density/total_cases*100):.2f}%')\n",
    "\n",
    "print (\"Conjunto de Treino\")\n",
    "check_dataset(train)\n",
    "print(\"\\n\")\n",
    "print (\"Conjunto de Teste\")\n",
    "check_dataset(test)"
   ]
  },
  {
   "cell_type": "markdown",
   "metadata": {},
   "source": [
    "Considerações:\n",
    "\n",
    "Quase metade dos dados de BI-RADS[1] ou são incompletos/inconclusivos. Esta feature, com valores entre 1 e 6 são interessantes para a classificação.\n",
    "\n",
    "[1] BI-RADS (Breast Imaging-Reporting and Data System) é uma ferramenta de avaliação de risco e garantia de qualidade desenvolvida pelo American College of Radiology que fornece um léxico amplamente aceito e um esquema de laudo para imagens da mama. Aplica-se à mamografia, ultrassonografia e ressonância magnética.\n",
    "Valores possíveis:\n",
    " 0 - Incompleto, necessária mais imagens. Pouco útil para o trabalho.\n",
    " 1 - Negativo.\n",
    " 2 - Benigno.\n",
    " 3 - Provavelmente benigno.\n",
    " 4 - Suspeição para maligno.\n",
    " 5 - Alta suspeição para maligno.\n",
    " 6 - Maligno.\n",
    "https://radiopaedia.org/articles/breast-imaging-reporting-and-data-system-bi-rads?lang=us#SnippetTab\n",
    "\n",
    "Também metade dos dados de densidade estão faltando.\n",
    "\n",
    "Densidade são classificadas entre A (baixa densidade) e D (alta densidade). Alta densidade apresenta mais risco por possivelmente esconder o cancer das imagens.\n",
    "https://www.bcna.org.au/breast-health-awareness/mammographic-density-and-screening/"
   ]
  },
  {
   "cell_type": "code",
   "execution_count": 51,
   "metadata": {},
   "outputs": [
    {
     "name": "stdout",
     "output_type": "stream",
     "text": [
      "Conjunto treino: 34995\n",
      "Conjunto validação: 8749\n",
      "------\n",
      "Conjunto treino: 34222 casos negativos, 773 casos positivos\n",
      "Conjunto validação: 8556 casos negativos, 193 casos positivos\n"
     ]
    }
   ],
   "source": [
    "from sklearn.model_selection import train_test_split\n",
    "\n",
    "# divide o conjunto de treino em treino e validação, e cada um em conjuntos positivados e negativados.\n",
    "train_df, validation_df = train_test_split(train,\n",
    "                                           test_size=0.2,\n",
    "                                           random_state=666,\n",
    "                                           stratify=train['cancer'])\n",
    "\n",
    "train_neg_df = train_df[train_df['cancer'] == 0]\n",
    "train_pos_df = train_df[train_df['cancer'] == 1]\n",
    "\n",
    "validation_neg_df = validation_df[validation_df['cancer'] == 0]\n",
    "validation_pos_df = validation_df[validation_df['cancer'] == 1]\n",
    "\n",
    "# sumário\n",
    "print(f\"Conjunto treino: {len(train_df)}\")\n",
    "print(f\"Conjunto validação: {len(validation_df)}\")\n",
    "print(\"------\")\n",
    "print(f\"Conjunto treino: {len(train_neg_df)} casos negativos, {len(train_pos_df)} casos positivos\")\n",
    "print(f\"Conjunto validação: {len(validation_neg_df)} casos negativos, {len(validation_pos_df)} casos positivos\")"
   ]
  },
  {
   "cell_type": "code",
   "execution_count": 91,
   "metadata": {},
   "outputs": [
    {
     "data": {
      "text/plain": [
       "CompletedProcess(args='mkdir -p train/positive train/negative validation/positive validation/negative', returncode=0)"
      ]
     },
     "execution_count": 91,
     "metadata": {},
     "output_type": "execute_result"
    }
   ],
   "source": [
    "import subprocess\n",
    "\n",
    "path_train = 'train'\n",
    "path_validation = 'validation'\n",
    "\n",
    "cmd_clean_dirs = f\"rm -fr {path_train} {path_validation}\"\n",
    "cmd_make_dirs = f\"mkdir -p {path_train}/positive {path_train}/negative {path_validation}/positive {path_validation}/negative\"\n",
    "\n",
    "# We only live once\n",
    "subprocess.run(cmd_clean_dirs, shell=True)\n",
    "subprocess.run(cmd_make_dirs, shell=True)"
   ]
  },
  {
   "cell_type": "code",
   "execution_count": 92,
   "metadata": {
    "scrolled": true
   },
   "outputs": [
    {
     "name": "stdout",
     "output_type": "stream",
     "text": [
      "Done\n"
     ]
    }
   ],
   "source": [
    "def copy_images(path, ids, dest):\n",
    "    for root, dirs, files in os.walk(path):\n",
    "        for file in files:\n",
    "            if int(os.path.splitext(file)[0]) in ids:\n",
    "                subprocess.run(f\"cp {root}/{file} {dest}\", shell=True)\n",
    "\n",
    "copy_images('archive', train_neg_df['image_id'].values.tolist(), path_train + '/negative')\n",
    "copy_images('archive', train_pos_df['image_id'].values.tolist(), path_train + '/positive')\n",
    "copy_images('archive', validation_neg_df['image_id'].values.tolist(), path_validation + '/negative')\n",
    "copy_images('archive', validation_pos_df['image_id'].values.tolist(), path_validation + '/positive')\n",
    "print('Done')"
   ]
  },
  {
   "cell_type": "code",
   "execution_count": 93,
   "metadata": {},
   "outputs": [
    {
     "name": "stdout",
     "output_type": "stream",
     "text": [
      "Found 34995 images belonging to 2 classes.\n",
      "Found 8749 images belonging to 2 classes.\n"
     ]
    }
   ],
   "source": [
    "from tensorflow.keras.preprocessing.image import ImageDataGenerator\n",
    "\n",
    "train_datagen = ImageDataGenerator(rescale = 1./255., zoom_range = 0.2)\n",
    "val_datagen = ImageDataGenerator(rescale = 1./255.)\n",
    "\n",
    "train_generator = train_datagen.flow_from_directory(\n",
    "    path_train,\n",
    "    target_size = (512, 512),\n",
    "    batch_size = 32,\n",
    "    class_mode = 'binary')\n",
    "\n",
    "validation_generator = val_datagen.flow_from_directory(\n",
    "    path_validation,\n",
    "    target_size = (512, 512),\n",
    "    batch_size = 16,\n",
    "    class_mode = 'binary')"
   ]
  },
  {
   "cell_type": "code",
   "execution_count": 96,
   "metadata": {},
   "outputs": [
    {
     "name": "stdout",
     "output_type": "stream",
     "text": [
      "Model: \"sequential\"\n",
      "_________________________________________________________________\n",
      " Layer (type)                Output Shape              Param #   \n",
      "=================================================================\n",
      " resnet50 (Functional)       (None, 16, 16, 2048)      23587712  \n",
      "                                                                 \n",
      " global_average_pooling2d (G  (None, 2048)             0         \n",
      " lobalAveragePooling2D)                                          \n",
      "                                                                 \n",
      " dense (Dense)               (None, 128)               262272    \n",
      "                                                                 \n",
      " dropout (Dropout)           (None, 128)               0         \n",
      "                                                                 \n",
      " dense_1 (Dense)             (None, 1)                 129       \n",
      "                                                                 \n",
      "=================================================================\n",
      "Total params: 23,850,113\n",
      "Trainable params: 262,401\n",
      "Non-trainable params: 23,587,712\n",
      "_________________________________________________________________\n"
     ]
    }
   ],
   "source": [
    "from tensorflow.keras.applications.resnet import ResNet50\n",
    "from tensorflow.keras.layers import Dense, GlobalAveragePooling2D, Dropout\n",
    "from tensorflow.keras.models import Sequential\n",
    "from tensorflow.keras.optimizers import Adam\n",
    "\n",
    "base_model = ResNet50(weights = 'imagenet', input_shape = (512, 512, 3), include_top = False)\n",
    "\n",
    "for layer in base_model.layers:\n",
    "    layer.trainable = False\n",
    "    \n",
    "model = Sequential()\n",
    "model.add(base_model)\n",
    "model.add(GlobalAveragePooling2D())\n",
    "model.add(Dense(128, activation = 'relu'))\n",
    "model.add(Dropout(0.2))\n",
    "model.add(Dense(1, activation = 'sigmoid'))\n",
    "\n",
    "model.compile(optimizer = \"adam\", loss = 'binary_crossentropy', metrics = [\"accuracy\"])\n",
    "model.summary()"
   ]
  },
  {
   "cell_type": "code",
   "execution_count": null,
   "metadata": {},
   "outputs": [
    {
     "name": "stdout",
     "output_type": "stream",
     "text": [
      "5/5 [==============================] - ETA: 0s - loss: 0.1008 - accuracy: 0.9812 "
     ]
    }
   ],
   "source": [
    "import tensorflow as tf\n",
    "\n",
    "callback = tf.keras.callbacks.EarlyStopping(monitor = \"val_loss\", mode = \"min\", patience = 4)\n",
    "history = model.fit(train_generator, validation_data = validation_generator, steps_per_epoch = 5, epochs = 1, callbacks = callback)"
   ]
  },
  {
   "cell_type": "code",
   "execution_count": null,
   "metadata": {},
   "outputs": [],
   "source": [
    "accuracy = history.history['accuracy']\n",
    "val_accuracy = history.history['val_accuracy']\n",
    "\n",
    "loss = history.history['loss']\n",
    "val_loss = history.history['val_loss']"
   ]
  },
  {
   "cell_type": "code",
   "execution_count": null,
   "metadata": {},
   "outputs": [],
   "source": [
    "model.save('mammography_pred_model.h5')"
   ]
  },
  {
   "cell_type": "code",
   "execution_count": null,
   "metadata": {},
   "outputs": [],
   "source": [
    "plt.figure(figsize = (15,10))\n",
    "\n",
    "plt.subplot(2, 2, 1)\n",
    "plt.plot(accuracy, label = \"Training Accuracy\")\n",
    "plt.plot(val_accuracy, label = \"Validation Accuracy\")\n",
    "plt.ylim(0.4, 1)\n",
    "plt.legend(['Train', 'Validation'], loc = 'upper left')\n",
    "plt.title(\"Training vs Validation Accuracy\")\n",
    "plt.xlabel('epoch')\n",
    "plt.ylabel('accuracy')\n",
    "\n",
    "\n",
    "plt.subplot(2, 2, 2)\n",
    "plt.plot(loss, label = \"Training Loss\")\n",
    "plt.plot(val_loss, label = \"Validation Loss\")\n",
    "plt.legend(['Train', 'Validation'], loc = 'upper left')\n",
    "plt.title(\"Training vs Validation Loss\")\n",
    "plt.xlabel('epoch')\n",
    "plt.ylabel('loss')"
   ]
  },
  {
   "cell_type": "code",
   "execution_count": null,
   "metadata": {},
   "outputs": [],
   "source": []
  }
 ],
 "metadata": {
  "kernelspec": {
   "display_name": "Python 3 (ipykernel)",
   "language": "python",
   "name": "python3"
  },
  "language_info": {
   "codemirror_mode": {
    "name": "ipython",
    "version": 3
   },
   "file_extension": ".py",
   "mimetype": "text/x-python",
   "name": "python",
   "nbconvert_exporter": "python",
   "pygments_lexer": "ipython3",
   "version": "3.10.6"
  }
 },
 "nbformat": 4,
 "nbformat_minor": 2
}
