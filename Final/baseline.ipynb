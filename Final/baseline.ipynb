{
 "cells": [
  {
   "cell_type": "code",
   "execution_count": 1,
   "metadata": {},
   "outputs": [
    {
     "name": "stderr",
     "output_type": "stream",
     "text": [
      "2023-06-17 12:33:06.529211: I tensorflow/core/util/port.cc:110] oneDNN custom operations are on. You may see slightly different numerical results due to floating-point round-off errors from different computation orders. To turn them off, set the environment variable `TF_ENABLE_ONEDNN_OPTS=0`.\n",
      "2023-06-17 12:33:06.530941: I tensorflow/tsl/cuda/cudart_stub.cc:28] Could not find cuda drivers on your machine, GPU will not be used.\n",
      "2023-06-17 12:33:06.561185: I tensorflow/tsl/cuda/cudart_stub.cc:28] Could not find cuda drivers on your machine, GPU will not be used.\n",
      "2023-06-17 12:33:06.561700: I tensorflow/core/platform/cpu_feature_guard.cc:182] This TensorFlow binary is optimized to use available CPU instructions in performance-critical operations.\n",
      "To enable the following instructions: AVX2 AVX_VNNI FMA, in other operations, rebuild TensorFlow with the appropriate compiler flags.\n",
      "2023-06-17 12:33:07.079098: W tensorflow/compiler/tf2tensorrt/utils/py_utils.cc:38] TF-TRT Warning: Could not find TensorRT\n"
     ]
    },
    {
     "name": "stdout",
     "output_type": "stream",
     "text": [
      "importing Jupyter notebook from utils.ipynb\n"
     ]
    }
   ],
   "source": [
    "%load_ext autoreload\n",
    "%autoreload 2\n",
    "\n",
    "import pandas as pd\n",
    "import numpy as np\n",
    "import matplotlib.pyplot as plt\n",
    "import os\n",
    "import cv2\n",
    "import import_ipynb\n",
    "import seaborn as sns\n",
    "import shutil\n",
    "from sklearn.model_selection import train_test_split\n",
    "from sklearn.metrics import classification_report, confusion_matrix\n",
    "\n",
    "import tensorflow as tf\n",
    "from tensorflow.keras.optimizers import RMSprop\n",
    "from tensorflow.keras.models import load_model\n",
    "from tensorflow.keras.preprocessing.image import ImageDataGenerator\n",
    "\n",
    "from tensorflow.keras.layers import Dense, GlobalAveragePooling2D, Dropout\n",
    "from tensorflow.keras.models import Sequential\n",
    "from tensorflow.keras.optimizers import Adam\n",
    "\n",
    "from utils import *"
   ]
  },
  {
   "cell_type": "code",
   "execution_count": 2,
   "metadata": {},
   "outputs": [
    {
     "ename": "KeyboardInterrupt",
     "evalue": "",
     "output_type": "error",
     "traceback": [
      "\u001b[0;31m---------------------------------------------------------------------------\u001b[0m",
      "\u001b[0;31mKeyboardInterrupt\u001b[0m                         Traceback (most recent call last)",
      "Cell \u001b[0;32mIn[2], line 2\u001b[0m\n\u001b[1;32m      1\u001b[0m df_train \u001b[39m=\u001b[39m pd\u001b[39m.\u001b[39mread_csv(train_csv_path, sep\u001b[39m=\u001b[39m\u001b[39m\"\u001b[39m\u001b[39m,\u001b[39m\u001b[39m\"\u001b[39m)\n\u001b[0;32m----> 2\u001b[0m df_train[\u001b[39m\"\u001b[39m\u001b[39mimg_path\u001b[39m\u001b[39m\"\u001b[39m] \u001b[39m=\u001b[39m  df_train[\u001b[39m'\u001b[39;49m\u001b[39mimage_id\u001b[39;49m\u001b[39m'\u001b[39;49m]\u001b[39m.\u001b[39;49mapply(build_image_path, convert_dtype\u001b[39m=\u001b[39;49m\u001b[39mstr\u001b[39;49m)\n",
      "File \u001b[0;32m~/anaconda3/envs/mdc-tf-gpu/lib/python3.9/site-packages/pandas/core/series.py:4771\u001b[0m, in \u001b[0;36mSeries.apply\u001b[0;34m(self, func, convert_dtype, args, **kwargs)\u001b[0m\n\u001b[1;32m   4661\u001b[0m \u001b[39mdef\u001b[39;00m \u001b[39mapply\u001b[39m(\n\u001b[1;32m   4662\u001b[0m     \u001b[39mself\u001b[39m,\n\u001b[1;32m   4663\u001b[0m     func: AggFuncType,\n\u001b[0;32m   (...)\u001b[0m\n\u001b[1;32m   4666\u001b[0m     \u001b[39m*\u001b[39m\u001b[39m*\u001b[39mkwargs,\n\u001b[1;32m   4667\u001b[0m ) \u001b[39m-\u001b[39m\u001b[39m>\u001b[39m DataFrame \u001b[39m|\u001b[39m Series:\n\u001b[1;32m   4668\u001b[0m \u001b[39m    \u001b[39m\u001b[39m\"\"\"\u001b[39;00m\n\u001b[1;32m   4669\u001b[0m \u001b[39m    Invoke function on values of Series.\u001b[39;00m\n\u001b[1;32m   4670\u001b[0m \n\u001b[0;32m   (...)\u001b[0m\n\u001b[1;32m   4769\u001b[0m \u001b[39m    dtype: float64\u001b[39;00m\n\u001b[1;32m   4770\u001b[0m \u001b[39m    \"\"\"\u001b[39;00m\n\u001b[0;32m-> 4771\u001b[0m     \u001b[39mreturn\u001b[39;00m SeriesApply(\u001b[39mself\u001b[39;49m, func, convert_dtype, args, kwargs)\u001b[39m.\u001b[39;49mapply()\n",
      "File \u001b[0;32m~/anaconda3/envs/mdc-tf-gpu/lib/python3.9/site-packages/pandas/core/apply.py:1123\u001b[0m, in \u001b[0;36mSeriesApply.apply\u001b[0;34m(self)\u001b[0m\n\u001b[1;32m   1120\u001b[0m     \u001b[39mreturn\u001b[39;00m \u001b[39mself\u001b[39m\u001b[39m.\u001b[39mapply_str()\n\u001b[1;32m   1122\u001b[0m \u001b[39m# self.f is Callable\u001b[39;00m\n\u001b[0;32m-> 1123\u001b[0m \u001b[39mreturn\u001b[39;00m \u001b[39mself\u001b[39;49m\u001b[39m.\u001b[39;49mapply_standard()\n",
      "File \u001b[0;32m~/anaconda3/envs/mdc-tf-gpu/lib/python3.9/site-packages/pandas/core/apply.py:1174\u001b[0m, in \u001b[0;36mSeriesApply.apply_standard\u001b[0;34m(self)\u001b[0m\n\u001b[1;32m   1172\u001b[0m     \u001b[39melse\u001b[39;00m:\n\u001b[1;32m   1173\u001b[0m         values \u001b[39m=\u001b[39m obj\u001b[39m.\u001b[39mastype(\u001b[39mobject\u001b[39m)\u001b[39m.\u001b[39m_values\n\u001b[0;32m-> 1174\u001b[0m         mapped \u001b[39m=\u001b[39m lib\u001b[39m.\u001b[39;49mmap_infer(\n\u001b[1;32m   1175\u001b[0m             values,\n\u001b[1;32m   1176\u001b[0m             f,\n\u001b[1;32m   1177\u001b[0m             convert\u001b[39m=\u001b[39;49m\u001b[39mself\u001b[39;49m\u001b[39m.\u001b[39;49mconvert_dtype,\n\u001b[1;32m   1178\u001b[0m         )\n\u001b[1;32m   1180\u001b[0m \u001b[39mif\u001b[39;00m \u001b[39mlen\u001b[39m(mapped) \u001b[39mand\u001b[39;00m \u001b[39misinstance\u001b[39m(mapped[\u001b[39m0\u001b[39m], ABCSeries):\n\u001b[1;32m   1181\u001b[0m     \u001b[39m# GH#43986 Need to do list(mapped) in order to get treated as nested\u001b[39;00m\n\u001b[1;32m   1182\u001b[0m     \u001b[39m#  See also GH#25959 regarding EA support\u001b[39;00m\n\u001b[1;32m   1183\u001b[0m     \u001b[39mreturn\u001b[39;00m obj\u001b[39m.\u001b[39m_constructor_expanddim(\u001b[39mlist\u001b[39m(mapped), index\u001b[39m=\u001b[39mobj\u001b[39m.\u001b[39mindex)\n",
      "File \u001b[0;32m~/anaconda3/envs/mdc-tf-gpu/lib/python3.9/site-packages/pandas/_libs/lib.pyx:2924\u001b[0m, in \u001b[0;36mpandas._libs.lib.map_infer\u001b[0;34m()\u001b[0m\n",
      "File \u001b[0;32m<string>:3\u001b[0m, in \u001b[0;36mbuild_image_path\u001b[0;34m(image_id)\u001b[0m\n",
      "File \u001b[0;32m~/anaconda3/envs/mdc-tf-gpu/lib/python3.9/pathlib.py:1215\u001b[0m, in \u001b[0;36mPath.resolve\u001b[0;34m(self, strict)\u001b[0m\n\u001b[1;32m   1209\u001b[0m \u001b[39mdef\u001b[39;00m \u001b[39mresolve\u001b[39m(\u001b[39mself\u001b[39m, strict\u001b[39m=\u001b[39m\u001b[39mFalse\u001b[39;00m):\n\u001b[1;32m   1210\u001b[0m \u001b[39m    \u001b[39m\u001b[39m\"\"\"\u001b[39;00m\n\u001b[1;32m   1211\u001b[0m \u001b[39m    Make the path absolute, resolving all symlinks on the way and also\u001b[39;00m\n\u001b[1;32m   1212\u001b[0m \u001b[39m    normalizing it (for example turning slashes into backslashes under\u001b[39;00m\n\u001b[1;32m   1213\u001b[0m \u001b[39m    Windows).\u001b[39;00m\n\u001b[1;32m   1214\u001b[0m \u001b[39m    \"\"\"\u001b[39;00m\n\u001b[0;32m-> 1215\u001b[0m     s \u001b[39m=\u001b[39m \u001b[39mself\u001b[39;49m\u001b[39m.\u001b[39;49m_flavour\u001b[39m.\u001b[39;49mresolve(\u001b[39mself\u001b[39;49m, strict\u001b[39m=\u001b[39;49mstrict)\n\u001b[1;32m   1216\u001b[0m     \u001b[39mif\u001b[39;00m s \u001b[39mis\u001b[39;00m \u001b[39mNone\u001b[39;00m:\n\u001b[1;32m   1217\u001b[0m         \u001b[39m# No symlink resolution => for consistency, raise an error if\u001b[39;00m\n\u001b[1;32m   1218\u001b[0m         \u001b[39m# the path doesn't exist or is forbidden\u001b[39;00m\n\u001b[1;32m   1219\u001b[0m         \u001b[39mself\u001b[39m\u001b[39m.\u001b[39mstat()\n",
      "File \u001b[0;32m~/anaconda3/envs/mdc-tf-gpu/lib/python3.9/pathlib.py:372\u001b[0m, in \u001b[0;36m_PosixFlavour.resolve\u001b[0;34m(self, path, strict)\u001b[0m\n\u001b[1;32m    369\u001b[0m     \u001b[39mreturn\u001b[39;00m path\n\u001b[1;32m    370\u001b[0m \u001b[39m# NOTE: according to POSIX, getcwd() cannot contain path components\u001b[39;00m\n\u001b[1;32m    371\u001b[0m \u001b[39m# which are symlinks.\u001b[39;00m\n\u001b[0;32m--> 372\u001b[0m base \u001b[39m=\u001b[39m \u001b[39m'\u001b[39m\u001b[39m'\u001b[39m \u001b[39mif\u001b[39;00m path\u001b[39m.\u001b[39mis_absolute() \u001b[39melse\u001b[39;00m os\u001b[39m.\u001b[39;49mgetcwd()\n\u001b[1;32m    373\u001b[0m \u001b[39mreturn\u001b[39;00m _resolve(base, \u001b[39mstr\u001b[39m(path)) \u001b[39mor\u001b[39;00m sep\n",
      "\u001b[0;31mKeyboardInterrupt\u001b[0m: "
     ]
    }
   ],
   "source": [
    "df_train = pd.read_csv(train_csv_path, sep=\",\")\n",
    "df_train[\"img_path\"] =  df_train['image_id'].apply(build_image_path, convert_dtype=str)"
   ]
  },
  {
   "cell_type": "code",
   "execution_count": null,
   "metadata": {},
   "outputs": [
    {
     "name": "stdout",
     "output_type": "stream",
     "text": [
      "Número de imagens no conjunto de treinamento:  34995\n",
      "Distribuição de cancer conjunto de treinamento:     cancer   qtde\n",
      "0       0  34222\n",
      "1       1    773\n",
      "Número de imagens no conjunto de validação:  8749\n",
      "Distribuição de cancer no conjunto de validação:     cancer  qtde\n",
      "0       0  8556\n",
      "1       1   193\n"
     ]
    }
   ],
   "source": [
    "# Vamos separar os dados em treinamento e validação na proporção 80/20:\n",
    "df_train_split, df_val_split = train_test_split(df_train, test_size = 0.2, random_state = 123456, stratify = df_train[['cancer']])\n",
    "\n",
    "print(\"Número de imagens no conjunto de treinamento: \", df_train_split.shape[0])\n",
    "print(\"Distribuição de cancer conjunto de treinamento: \", df_train_split.groupby(\"cancer\").agg(qtde=(\"site_id\",\"count\")).reset_index())\n",
    "print(\"Número de imagens no conjunto de validação: \", df_val_split.shape[0])\n",
    "print(\"Distribuição de cancer no conjunto de validação: \", df_val_split.groupby(\"cancer\").agg(qtde=(\"site_id\",\"count\")).reset_index())"
   ]
  },
  {
   "cell_type": "code",
   "execution_count": null,
   "metadata": {},
   "outputs": [
    {
     "name": "stdout",
     "output_type": "stream",
     "text": [
      "   cancer  qtde\n",
      "0       0   900\n",
      "1       1   773\n"
     ]
    },
    {
     "data": {
      "text/plain": [
       "PosixPath('/home/kasco/MDC/FinalProject/BreastCancerDetection/Datasets/Originals/1730926632.png')"
      ]
     },
     "execution_count": 4,
     "metadata": {},
     "output_type": "execute_result"
    }
   ],
   "source": [
    "# Nesse momento, vou aplicar o undersampling escolhendo aleatoriamente 900 imagens sem cancer no conjunto de treinamento. \n",
    "df_train_split = pd.concat([df_train_split[df_train_split[\"cancer\"]==1], df_train_split[df_train_split[\"cancer\"]==0].sample(n=900)])\n",
    "df_train_split = df_train_split.sample(n=df_train_split.shape[0])\n",
    "print(df_train_split.groupby(\"cancer\").agg(qtde=(\"site_id\",\"count\")).reset_index())\n",
    "df_train_split.iloc[0]['img_path']"
   ]
  },
  {
   "cell_type": "code",
   "execution_count": null,
   "metadata": {},
   "outputs": [
    {
     "name": "stdout",
     "output_type": "stream",
     "text": [
      "   cancer  qtde\n",
      "0       0   230\n",
      "1       1   193\n"
     ]
    },
    {
     "data": {
      "text/html": [
       "<div>\n",
       "<style scoped>\n",
       "    .dataframe tbody tr th:only-of-type {\n",
       "        vertical-align: middle;\n",
       "    }\n",
       "\n",
       "    .dataframe tbody tr th {\n",
       "        vertical-align: top;\n",
       "    }\n",
       "\n",
       "    .dataframe thead th {\n",
       "        text-align: right;\n",
       "    }\n",
       "</style>\n",
       "<table border=\"1\" class=\"dataframe\">\n",
       "  <thead>\n",
       "    <tr style=\"text-align: right;\">\n",
       "      <th></th>\n",
       "      <th>site_id</th>\n",
       "      <th>patient_id</th>\n",
       "      <th>image_id</th>\n",
       "      <th>laterality</th>\n",
       "      <th>view</th>\n",
       "      <th>age</th>\n",
       "      <th>cancer</th>\n",
       "      <th>biopsy</th>\n",
       "      <th>invasive</th>\n",
       "      <th>BIRADS</th>\n",
       "      <th>implant</th>\n",
       "      <th>density</th>\n",
       "      <th>machine_id</th>\n",
       "      <th>difficult_negative_case</th>\n",
       "      <th>img_path</th>\n",
       "    </tr>\n",
       "  </thead>\n",
       "  <tbody>\n",
       "    <tr>\n",
       "      <th>41918</th>\n",
       "      <td>2</td>\n",
       "      <td>7469</td>\n",
       "      <td>1050601147</td>\n",
       "      <td>R</td>\n",
       "      <td>MLO</td>\n",
       "      <td>66.0</td>\n",
       "      <td>0</td>\n",
       "      <td>0</td>\n",
       "      <td>0</td>\n",
       "      <td>NaN</td>\n",
       "      <td>0</td>\n",
       "      <td>NaN</td>\n",
       "      <td>48</td>\n",
       "      <td>False</td>\n",
       "      <td>/home/kasco/MDC/FinalProject/BreastCancerDetec...</td>\n",
       "    </tr>\n",
       "    <tr>\n",
       "      <th>2815</th>\n",
       "      <td>1</td>\n",
       "      <td>13756</td>\n",
       "      <td>1928377168</td>\n",
       "      <td>L</td>\n",
       "      <td>MLO</td>\n",
       "      <td>71.0</td>\n",
       "      <td>1</td>\n",
       "      <td>1</td>\n",
       "      <td>0</td>\n",
       "      <td>0.0</td>\n",
       "      <td>0</td>\n",
       "      <td>B</td>\n",
       "      <td>49</td>\n",
       "      <td>False</td>\n",
       "      <td>/home/kasco/MDC/FinalProject/BreastCancerDetec...</td>\n",
       "    </tr>\n",
       "    <tr>\n",
       "      <th>1931</th>\n",
       "      <td>2</td>\n",
       "      <td>12522</td>\n",
       "      <td>220808925</td>\n",
       "      <td>L</td>\n",
       "      <td>CC</td>\n",
       "      <td>62.0</td>\n",
       "      <td>1</td>\n",
       "      <td>1</td>\n",
       "      <td>0</td>\n",
       "      <td>NaN</td>\n",
       "      <td>0</td>\n",
       "      <td>NaN</td>\n",
       "      <td>48</td>\n",
       "      <td>False</td>\n",
       "      <td>/home/kasco/MDC/FinalProject/BreastCancerDetec...</td>\n",
       "    </tr>\n",
       "    <tr>\n",
       "      <th>37888</th>\n",
       "      <td>1</td>\n",
       "      <td>6107</td>\n",
       "      <td>2145202604</td>\n",
       "      <td>L</td>\n",
       "      <td>CC</td>\n",
       "      <td>58.0</td>\n",
       "      <td>1</td>\n",
       "      <td>1</td>\n",
       "      <td>0</td>\n",
       "      <td>0.0</td>\n",
       "      <td>0</td>\n",
       "      <td>C</td>\n",
       "      <td>49</td>\n",
       "      <td>False</td>\n",
       "      <td>/home/kasco/MDC/FinalProject/BreastCancerDetec...</td>\n",
       "    </tr>\n",
       "    <tr>\n",
       "      <th>25742</th>\n",
       "      <td>1</td>\n",
       "      <td>44709</td>\n",
       "      <td>650076091</td>\n",
       "      <td>L</td>\n",
       "      <td>CC</td>\n",
       "      <td>72.0</td>\n",
       "      <td>1</td>\n",
       "      <td>1</td>\n",
       "      <td>1</td>\n",
       "      <td>0.0</td>\n",
       "      <td>0</td>\n",
       "      <td>B</td>\n",
       "      <td>49</td>\n",
       "      <td>False</td>\n",
       "      <td>/home/kasco/MDC/FinalProject/BreastCancerDetec...</td>\n",
       "    </tr>\n",
       "    <tr>\n",
       "      <th>...</th>\n",
       "      <td>...</td>\n",
       "      <td>...</td>\n",
       "      <td>...</td>\n",
       "      <td>...</td>\n",
       "      <td>...</td>\n",
       "      <td>...</td>\n",
       "      <td>...</td>\n",
       "      <td>...</td>\n",
       "      <td>...</td>\n",
       "      <td>...</td>\n",
       "      <td>...</td>\n",
       "      <td>...</td>\n",
       "      <td>...</td>\n",
       "      <td>...</td>\n",
       "      <td>...</td>\n",
       "    </tr>\n",
       "    <tr>\n",
       "      <th>13986</th>\n",
       "      <td>1</td>\n",
       "      <td>28747</td>\n",
       "      <td>285721109</td>\n",
       "      <td>L</td>\n",
       "      <td>CC</td>\n",
       "      <td>41.0</td>\n",
       "      <td>1</td>\n",
       "      <td>1</td>\n",
       "      <td>1</td>\n",
       "      <td>0.0</td>\n",
       "      <td>0</td>\n",
       "      <td>B</td>\n",
       "      <td>216</td>\n",
       "      <td>False</td>\n",
       "      <td>/home/kasco/MDC/FinalProject/BreastCancerDetec...</td>\n",
       "    </tr>\n",
       "    <tr>\n",
       "      <th>40276</th>\n",
       "      <td>1</td>\n",
       "      <td>64342</td>\n",
       "      <td>1489205161</td>\n",
       "      <td>R</td>\n",
       "      <td>CC</td>\n",
       "      <td>52.0</td>\n",
       "      <td>0</td>\n",
       "      <td>1</td>\n",
       "      <td>0</td>\n",
       "      <td>0.0</td>\n",
       "      <td>0</td>\n",
       "      <td>A</td>\n",
       "      <td>49</td>\n",
       "      <td>True</td>\n",
       "      <td>/home/kasco/MDC/FinalProject/BreastCancerDetec...</td>\n",
       "    </tr>\n",
       "    <tr>\n",
       "      <th>1680</th>\n",
       "      <td>1</td>\n",
       "      <td>12195</td>\n",
       "      <td>91797551</td>\n",
       "      <td>L</td>\n",
       "      <td>CC</td>\n",
       "      <td>67.0</td>\n",
       "      <td>1</td>\n",
       "      <td>1</td>\n",
       "      <td>0</td>\n",
       "      <td>0.0</td>\n",
       "      <td>0</td>\n",
       "      <td>C</td>\n",
       "      <td>49</td>\n",
       "      <td>False</td>\n",
       "      <td>/home/kasco/MDC/FinalProject/BreastCancerDetec...</td>\n",
       "    </tr>\n",
       "    <tr>\n",
       "      <th>43311</th>\n",
       "      <td>2</td>\n",
       "      <td>9345</td>\n",
       "      <td>1956200588</td>\n",
       "      <td>R</td>\n",
       "      <td>CC</td>\n",
       "      <td>66.0</td>\n",
       "      <td>1</td>\n",
       "      <td>1</td>\n",
       "      <td>1</td>\n",
       "      <td>NaN</td>\n",
       "      <td>0</td>\n",
       "      <td>NaN</td>\n",
       "      <td>48</td>\n",
       "      <td>False</td>\n",
       "      <td>/home/kasco/MDC/FinalProject/BreastCancerDetec...</td>\n",
       "    </tr>\n",
       "    <tr>\n",
       "      <th>34851</th>\n",
       "      <td>2</td>\n",
       "      <td>57151</td>\n",
       "      <td>1460873648</td>\n",
       "      <td>L</td>\n",
       "      <td>CC</td>\n",
       "      <td>71.0</td>\n",
       "      <td>0</td>\n",
       "      <td>0</td>\n",
       "      <td>0</td>\n",
       "      <td>NaN</td>\n",
       "      <td>0</td>\n",
       "      <td>NaN</td>\n",
       "      <td>21</td>\n",
       "      <td>False</td>\n",
       "      <td>/home/kasco/MDC/FinalProject/BreastCancerDetec...</td>\n",
       "    </tr>\n",
       "  </tbody>\n",
       "</table>\n",
       "<p>423 rows × 15 columns</p>\n",
       "</div>"
      ],
      "text/plain": [
       "       site_id  patient_id    image_id laterality view   age  cancer  biopsy  \\\n",
       "41918        2        7469  1050601147          R  MLO  66.0       0       0   \n",
       "2815         1       13756  1928377168          L  MLO  71.0       1       1   \n",
       "1931         2       12522   220808925          L   CC  62.0       1       1   \n",
       "37888        1        6107  2145202604          L   CC  58.0       1       1   \n",
       "25742        1       44709   650076091          L   CC  72.0       1       1   \n",
       "...        ...         ...         ...        ...  ...   ...     ...     ...   \n",
       "13986        1       28747   285721109          L   CC  41.0       1       1   \n",
       "40276        1       64342  1489205161          R   CC  52.0       0       1   \n",
       "1680         1       12195    91797551          L   CC  67.0       1       1   \n",
       "43311        2        9345  1956200588          R   CC  66.0       1       1   \n",
       "34851        2       57151  1460873648          L   CC  71.0       0       0   \n",
       "\n",
       "       invasive  BIRADS  implant density  machine_id  difficult_negative_case  \\\n",
       "41918         0     NaN        0     NaN          48                    False   \n",
       "2815          0     0.0        0       B          49                    False   \n",
       "1931          0     NaN        0     NaN          48                    False   \n",
       "37888         0     0.0        0       C          49                    False   \n",
       "25742         1     0.0        0       B          49                    False   \n",
       "...         ...     ...      ...     ...         ...                      ...   \n",
       "13986         1     0.0        0       B         216                    False   \n",
       "40276         0     0.0        0       A          49                     True   \n",
       "1680          0     0.0        0       C          49                    False   \n",
       "43311         1     NaN        0     NaN          48                    False   \n",
       "34851         0     NaN        0     NaN          21                    False   \n",
       "\n",
       "                                                img_path  \n",
       "41918  /home/kasco/MDC/FinalProject/BreastCancerDetec...  \n",
       "2815   /home/kasco/MDC/FinalProject/BreastCancerDetec...  \n",
       "1931   /home/kasco/MDC/FinalProject/BreastCancerDetec...  \n",
       "37888  /home/kasco/MDC/FinalProject/BreastCancerDetec...  \n",
       "25742  /home/kasco/MDC/FinalProject/BreastCancerDetec...  \n",
       "...                                                  ...  \n",
       "13986  /home/kasco/MDC/FinalProject/BreastCancerDetec...  \n",
       "40276  /home/kasco/MDC/FinalProject/BreastCancerDetec...  \n",
       "1680   /home/kasco/MDC/FinalProject/BreastCancerDetec...  \n",
       "43311  /home/kasco/MDC/FinalProject/BreastCancerDetec...  \n",
       "34851  /home/kasco/MDC/FinalProject/BreastCancerDetec...  \n",
       "\n",
       "[423 rows x 15 columns]"
      ]
     },
     "execution_count": 5,
     "metadata": {},
     "output_type": "execute_result"
    }
   ],
   "source": [
    "# Já para validação, vou escolher 230 imagens seguindo a mesma ideia.\n",
    "df_val_split = pd.concat([df_val_split[df_val_split[\"cancer\"]==1], df_val_split[df_val_split[\"cancer\"]==0].sample(n=230)])\n",
    "df_val_split = df_val_split.sample(n=df_val_split.shape[0])\n",
    "print(df_val_split.groupby(\"cancer\").agg(qtde=(\"site_id\",\"count\")).reset_index())\n",
    "df_val_split"
   ]
  },
  {
   "cell_type": "code",
   "execution_count": null,
   "metadata": {},
   "outputs": [],
   "source": [
    "# Iremos agora criar 4 diretórios (2 de teste e 2 de validação, um de positivos e outro de negativos para cancer)\n",
    "\n",
    "# Criando os diretórios:\n",
    "create_dataset_dirs()\n",
    "    \n",
    "# Criando os subdiretórios\n",
    "build_train_dataset_from_ori_imgs(df_train_split)\n",
    "    \n",
    "build_val_dataset_from_ori_imgs(df_val_split)"
   ]
  },
  {
   "cell_type": "code",
   "execution_count": null,
   "metadata": {},
   "outputs": [],
   "source": [
    "# Criando geradores de imagem para o tensorflow:\n",
    "train_datagen = ImageDataGenerator(rescale = 1./255., zoom_range = 0.2)\n",
    "val_datagen = ImageDataGenerator(rescale = 1./255.,)"
   ]
  },
  {
   "cell_type": "code",
   "execution_count": null,
   "metadata": {},
   "outputs": [
    {
     "name": "stdout",
     "output_type": "stream",
     "text": [
      "Found 3401 images belonging to 2 classes.\n",
      "Found 864 images belonging to 2 classes.\n"
     ]
    }
   ],
   "source": [
    "train_generator = train_datagen.flow_from_directory(\n",
    "    train_dir_path,\n",
    "    target_size = (img_height, img_width),\n",
    "    batch_size = 32,\n",
    "    class_mode = 'binary')\n",
    "validation_generator = val_datagen.flow_from_directory(\n",
    "        val_dir_path,\n",
    "        target_size = (img_height, img_width),\n",
    "        batch_size = 16,\n",
    "        class_mode = 'binary')"
   ]
  },
  {
   "cell_type": "code",
   "execution_count": null,
   "metadata": {},
   "outputs": [
    {
     "name": "stderr",
     "output_type": "stream",
     "text": [
      "2023-06-17 11:48:30.956787: I tensorflow/core/common_runtime/process_util.cc:146] Creating new thread pool with default inter op setting: 2. Tune using inter_op_parallelism_threads for best performance.\n"
     ]
    }
   ],
   "source": [
    "model_resnet50 = tf.keras.applications.ResNet50(weights = 'imagenet', input_shape = (img_height, img_width, 3), include_top = False)\n",
    "\n",
    "for layer in model_resnet50.layers:\n",
    "    layer.trainable = False\n",
    "    \n",
    "model = Sequential()\n",
    "model.add(model_resnet50)\n",
    "model.add(GlobalAveragePooling2D())\n",
    "model.add(Dense(128, activation = 'relu'))\n",
    "model.add(Dropout(0.2))\n",
    "model.add(Dense(1, activation = 'sigmoid'))\n",
    "\n",
    "model.compile(optimizer = \"adam\", loss = 'binary_crossentropy', metrics = [\"accuracy\"])"
   ]
  },
  {
   "cell_type": "code",
   "execution_count": null,
   "metadata": {},
   "outputs": [
    {
     "name": "stdout",
     "output_type": "stream",
     "text": [
      "Model: \"sequential\"\n",
      "_________________________________________________________________\n",
      " Layer (type)                Output Shape              Param #   \n"
     ]
    },
    {
     "name": "stdout",
     "output_type": "stream",
     "text": [
      "=================================================================\n",
      " resnet50 (Functional)       (None, 16, 8, 2048)       23587712  \n",
      "                                                                 \n",
      " global_average_pooling2d (G  (None, 2048)             0         \n",
      " lobalAveragePooling2D)                                          \n",
      "                                                                 \n",
      " dense (Dense)               (None, 128)               262272    \n",
      "                                                                 \n",
      " dropout (Dropout)           (None, 128)               0         \n",
      "                                                                 \n",
      " dense_1 (Dense)             (None, 1)                 129       \n",
      "                                                                 \n",
      "=================================================================\n",
      "Total params: 23,850,113\n",
      "Trainable params: 262,401\n",
      "Non-trainable params: 23,587,712\n",
      "_________________________________________________________________\n"
     ]
    }
   ],
   "source": [
    "model.summary()"
   ]
  },
  {
   "cell_type": "code",
   "execution_count": 3,
   "metadata": {},
   "outputs": [
    {
     "name": "stdout",
     "output_type": "stream",
     "text": [
      "Num GPUs Available:  [PhysicalDevice(name='/physical_device:CPU:0', device_type='CPU')]\n"
     ]
    },
    {
     "name": "stderr",
     "output_type": "stream",
     "text": [
      "2023-06-17 12:32:46.003321: I tensorflow/compiler/xla/stream_executor/cuda/cuda_gpu_executor.cc:996] successful NUMA node read from SysFS had negative value (-1), but there must be at least one NUMA node, so returning NUMA node zero. See more at https://github.com/torvalds/linux/blob/v6.0/Documentation/ABI/testing/sysfs-bus-pci#L344-L355\n",
      "2023-06-17 12:32:46.015055: W tensorflow/core/common_runtime/gpu/gpu_device.cc:1956] Cannot dlopen some GPU libraries. Please make sure the missing libraries mentioned above are installed properly if you would like to use GPU. Follow the guide at https://www.tensorflow.org/install/gpu for how to download and setup the required libraries for your platform.\n",
      "Skipping registering GPU devices...\n"
     ]
    }
   ],
   "source": [
    "print(\"Num GPUs Available: \", tf.config.list_physical_devices())\n",
    "\n",
    "device='/GPU:0'"
   ]
  },
  {
   "cell_type": "code",
   "execution_count": null,
   "metadata": {},
   "outputs": [
    {
     "name": "stdout",
     "output_type": "stream",
     "text": [
      "Epoch 1/15\n"
     ]
    },
    {
     "name": "stderr",
     "output_type": "stream",
     "text": [
      "2023-06-17 11:48:33.609237: I tensorflow/core/common_runtime/executor.cc:1197] [/device:CPU:0] (DEBUG INFO) Executor start aborting (this does not indicate an error and you can ignore this message): INVALID_ARGUMENT: You must feed a value for placeholder tensor 'Placeholder/_0' with dtype int32\n",
      "\t [[{{node Placeholder/_0}}]]\n"
     ]
    },
    {
     "name": "stdout",
     "output_type": "stream",
     "text": [
      "20/20 [==============================] - ETA: 0s - loss: 0.6712 - accuracy: 0.7422"
     ]
    },
    {
     "name": "stderr",
     "output_type": "stream",
     "text": [
      "2023-06-17 11:49:21.291426: I tensorflow/core/common_runtime/executor.cc:1197] [/device:CPU:0] (DEBUG INFO) Executor start aborting (this does not indicate an error and you can ignore this message): INVALID_ARGUMENT: You must feed a value for placeholder tensor 'Placeholder/_0' with dtype int32\n",
      "\t [[{{node Placeholder/_0}}]]\n"
     ]
    },
    {
     "name": "stdout",
     "output_type": "stream",
     "text": [
      "20/20 [==============================] - 107s 5s/step - loss: 0.6712 - accuracy: 0.7422 - val_loss: 0.5333 - val_accuracy: 0.7766\n",
      "Epoch 2/15\n",
      " 1/20 [>.............................] - ETA: 51s - loss: 0.7536 - accuracy: 0.6875"
     ]
    },
    {
     "ename": "KeyboardInterrupt",
     "evalue": "",
     "output_type": "error",
     "traceback": [
      "\u001b[0;31m---------------------------------------------------------------------------\u001b[0m",
      "\u001b[0;31mKeyboardInterrupt\u001b[0m                         Traceback (most recent call last)",
      "Cell \u001b[0;32mIn[11], line 3\u001b[0m\n\u001b[1;32m      1\u001b[0m callback \u001b[39m=\u001b[39m tf\u001b[39m.\u001b[39mkeras\u001b[39m.\u001b[39mcallbacks\u001b[39m.\u001b[39mEarlyStopping(monitor \u001b[39m=\u001b[39m \u001b[39m\"\u001b[39m\u001b[39mval_loss\u001b[39m\u001b[39m\"\u001b[39m, mode \u001b[39m=\u001b[39m \u001b[39m\"\u001b[39m\u001b[39mmin\u001b[39m\u001b[39m\"\u001b[39m, patience \u001b[39m=\u001b[39m \u001b[39m4\u001b[39m)\n\u001b[0;32m----> 3\u001b[0m history \u001b[39m=\u001b[39m model\u001b[39m.\u001b[39;49mfit(train_generator, validation_data \u001b[39m=\u001b[39;49m validation_generator, steps_per_epoch \u001b[39m=\u001b[39;49m \u001b[39m20\u001b[39;49m, epochs \u001b[39m=\u001b[39;49m \u001b[39m15\u001b[39;49m, callbacks \u001b[39m=\u001b[39;49m callback)\n",
      "File \u001b[0;32m~/anaconda3/envs/mdc-tf/lib/python3.11/site-packages/keras/utils/traceback_utils.py:65\u001b[0m, in \u001b[0;36mfilter_traceback.<locals>.error_handler\u001b[0;34m(*args, **kwargs)\u001b[0m\n\u001b[1;32m     63\u001b[0m filtered_tb \u001b[39m=\u001b[39m \u001b[39mNone\u001b[39;00m\n\u001b[1;32m     64\u001b[0m \u001b[39mtry\u001b[39;00m:\n\u001b[0;32m---> 65\u001b[0m     \u001b[39mreturn\u001b[39;00m fn(\u001b[39m*\u001b[39;49margs, \u001b[39m*\u001b[39;49m\u001b[39m*\u001b[39;49mkwargs)\n\u001b[1;32m     66\u001b[0m \u001b[39mexcept\u001b[39;00m \u001b[39mException\u001b[39;00m \u001b[39mas\u001b[39;00m e:\n\u001b[1;32m     67\u001b[0m     filtered_tb \u001b[39m=\u001b[39m _process_traceback_frames(e\u001b[39m.\u001b[39m__traceback__)\n",
      "File \u001b[0;32m~/anaconda3/envs/mdc-tf/lib/python3.11/site-packages/keras/engine/training.py:1685\u001b[0m, in \u001b[0;36mModel.fit\u001b[0;34m(self, x, y, batch_size, epochs, verbose, callbacks, validation_split, validation_data, shuffle, class_weight, sample_weight, initial_epoch, steps_per_epoch, validation_steps, validation_batch_size, validation_freq, max_queue_size, workers, use_multiprocessing)\u001b[0m\n\u001b[1;32m   1677\u001b[0m \u001b[39mwith\u001b[39;00m tf\u001b[39m.\u001b[39mprofiler\u001b[39m.\u001b[39mexperimental\u001b[39m.\u001b[39mTrace(\n\u001b[1;32m   1678\u001b[0m     \u001b[39m\"\u001b[39m\u001b[39mtrain\u001b[39m\u001b[39m\"\u001b[39m,\n\u001b[1;32m   1679\u001b[0m     epoch_num\u001b[39m=\u001b[39mepoch,\n\u001b[0;32m   (...)\u001b[0m\n\u001b[1;32m   1682\u001b[0m     _r\u001b[39m=\u001b[39m\u001b[39m1\u001b[39m,\n\u001b[1;32m   1683\u001b[0m ):\n\u001b[1;32m   1684\u001b[0m     callbacks\u001b[39m.\u001b[39mon_train_batch_begin(step)\n\u001b[0;32m-> 1685\u001b[0m     tmp_logs \u001b[39m=\u001b[39m \u001b[39mself\u001b[39;49m\u001b[39m.\u001b[39;49mtrain_function(iterator)\n\u001b[1;32m   1686\u001b[0m     \u001b[39mif\u001b[39;00m data_handler\u001b[39m.\u001b[39mshould_sync:\n\u001b[1;32m   1687\u001b[0m         context\u001b[39m.\u001b[39masync_wait()\n",
      "File \u001b[0;32m~/anaconda3/envs/mdc-tf/lib/python3.11/site-packages/tensorflow/python/util/traceback_utils.py:150\u001b[0m, in \u001b[0;36mfilter_traceback.<locals>.error_handler\u001b[0;34m(*args, **kwargs)\u001b[0m\n\u001b[1;32m    148\u001b[0m filtered_tb \u001b[39m=\u001b[39m \u001b[39mNone\u001b[39;00m\n\u001b[1;32m    149\u001b[0m \u001b[39mtry\u001b[39;00m:\n\u001b[0;32m--> 150\u001b[0m   \u001b[39mreturn\u001b[39;00m fn(\u001b[39m*\u001b[39;49margs, \u001b[39m*\u001b[39;49m\u001b[39m*\u001b[39;49mkwargs)\n\u001b[1;32m    151\u001b[0m \u001b[39mexcept\u001b[39;00m \u001b[39mException\u001b[39;00m \u001b[39mas\u001b[39;00m e:\n\u001b[1;32m    152\u001b[0m   filtered_tb \u001b[39m=\u001b[39m _process_traceback_frames(e\u001b[39m.\u001b[39m__traceback__)\n",
      "File \u001b[0;32m~/anaconda3/envs/mdc-tf/lib/python3.11/site-packages/tensorflow/python/eager/polymorphic_function/polymorphic_function.py:894\u001b[0m, in \u001b[0;36mFunction.__call__\u001b[0;34m(self, *args, **kwds)\u001b[0m\n\u001b[1;32m    891\u001b[0m compiler \u001b[39m=\u001b[39m \u001b[39m\"\u001b[39m\u001b[39mxla\u001b[39m\u001b[39m\"\u001b[39m \u001b[39mif\u001b[39;00m \u001b[39mself\u001b[39m\u001b[39m.\u001b[39m_jit_compile \u001b[39melse\u001b[39;00m \u001b[39m\"\u001b[39m\u001b[39mnonXla\u001b[39m\u001b[39m\"\u001b[39m\n\u001b[1;32m    893\u001b[0m \u001b[39mwith\u001b[39;00m OptionalXlaContext(\u001b[39mself\u001b[39m\u001b[39m.\u001b[39m_jit_compile):\n\u001b[0;32m--> 894\u001b[0m   result \u001b[39m=\u001b[39m \u001b[39mself\u001b[39;49m\u001b[39m.\u001b[39;49m_call(\u001b[39m*\u001b[39;49margs, \u001b[39m*\u001b[39;49m\u001b[39m*\u001b[39;49mkwds)\n\u001b[1;32m    896\u001b[0m new_tracing_count \u001b[39m=\u001b[39m \u001b[39mself\u001b[39m\u001b[39m.\u001b[39mexperimental_get_tracing_count()\n\u001b[1;32m    897\u001b[0m without_tracing \u001b[39m=\u001b[39m (tracing_count \u001b[39m==\u001b[39m new_tracing_count)\n",
      "File \u001b[0;32m~/anaconda3/envs/mdc-tf/lib/python3.11/site-packages/tensorflow/python/eager/polymorphic_function/polymorphic_function.py:926\u001b[0m, in \u001b[0;36mFunction._call\u001b[0;34m(self, *args, **kwds)\u001b[0m\n\u001b[1;32m    923\u001b[0m   \u001b[39mself\u001b[39m\u001b[39m.\u001b[39m_lock\u001b[39m.\u001b[39mrelease()\n\u001b[1;32m    924\u001b[0m   \u001b[39m# In this case we have created variables on the first call, so we run the\u001b[39;00m\n\u001b[1;32m    925\u001b[0m   \u001b[39m# defunned version which is guaranteed to never create variables.\u001b[39;00m\n\u001b[0;32m--> 926\u001b[0m   \u001b[39mreturn\u001b[39;00m \u001b[39mself\u001b[39;49m\u001b[39m.\u001b[39;49m_no_variable_creation_fn(\u001b[39m*\u001b[39;49margs, \u001b[39m*\u001b[39;49m\u001b[39m*\u001b[39;49mkwds)  \u001b[39m# pylint: disable=not-callable\u001b[39;00m\n\u001b[1;32m    927\u001b[0m \u001b[39melif\u001b[39;00m \u001b[39mself\u001b[39m\u001b[39m.\u001b[39m_variable_creation_fn \u001b[39mis\u001b[39;00m \u001b[39mnot\u001b[39;00m \u001b[39mNone\u001b[39;00m:\n\u001b[1;32m    928\u001b[0m   \u001b[39m# Release the lock early so that multiple threads can perform the call\u001b[39;00m\n\u001b[1;32m    929\u001b[0m   \u001b[39m# in parallel.\u001b[39;00m\n\u001b[1;32m    930\u001b[0m   \u001b[39mself\u001b[39m\u001b[39m.\u001b[39m_lock\u001b[39m.\u001b[39mrelease()\n",
      "File \u001b[0;32m~/anaconda3/envs/mdc-tf/lib/python3.11/site-packages/tensorflow/python/eager/polymorphic_function/tracing_compiler.py:143\u001b[0m, in \u001b[0;36mTracingCompiler.__call__\u001b[0;34m(self, *args, **kwargs)\u001b[0m\n\u001b[1;32m    140\u001b[0m \u001b[39mwith\u001b[39;00m \u001b[39mself\u001b[39m\u001b[39m.\u001b[39m_lock:\n\u001b[1;32m    141\u001b[0m   (concrete_function,\n\u001b[1;32m    142\u001b[0m    filtered_flat_args) \u001b[39m=\u001b[39m \u001b[39mself\u001b[39m\u001b[39m.\u001b[39m_maybe_define_function(args, kwargs)\n\u001b[0;32m--> 143\u001b[0m \u001b[39mreturn\u001b[39;00m concrete_function\u001b[39m.\u001b[39;49m_call_flat(\n\u001b[1;32m    144\u001b[0m     filtered_flat_args, captured_inputs\u001b[39m=\u001b[39;49mconcrete_function\u001b[39m.\u001b[39;49mcaptured_inputs)\n",
      "File \u001b[0;32m~/anaconda3/envs/mdc-tf/lib/python3.11/site-packages/tensorflow/python/eager/polymorphic_function/monomorphic_function.py:1757\u001b[0m, in \u001b[0;36mConcreteFunction._call_flat\u001b[0;34m(self, args, captured_inputs, cancellation_manager)\u001b[0m\n\u001b[1;32m   1753\u001b[0m possible_gradient_type \u001b[39m=\u001b[39m gradients_util\u001b[39m.\u001b[39mPossibleTapeGradientTypes(args)\n\u001b[1;32m   1754\u001b[0m \u001b[39mif\u001b[39;00m (possible_gradient_type \u001b[39m==\u001b[39m gradients_util\u001b[39m.\u001b[39mPOSSIBLE_GRADIENT_TYPES_NONE\n\u001b[1;32m   1755\u001b[0m     \u001b[39mand\u001b[39;00m executing_eagerly):\n\u001b[1;32m   1756\u001b[0m   \u001b[39m# No tape is watching; skip to running the function.\u001b[39;00m\n\u001b[0;32m-> 1757\u001b[0m   \u001b[39mreturn\u001b[39;00m \u001b[39mself\u001b[39m\u001b[39m.\u001b[39m_build_call_outputs(\u001b[39mself\u001b[39;49m\u001b[39m.\u001b[39;49m_inference_function\u001b[39m.\u001b[39;49mcall(\n\u001b[1;32m   1758\u001b[0m       ctx, args, cancellation_manager\u001b[39m=\u001b[39;49mcancellation_manager))\n\u001b[1;32m   1759\u001b[0m forward_backward \u001b[39m=\u001b[39m \u001b[39mself\u001b[39m\u001b[39m.\u001b[39m_select_forward_and_backward_functions(\n\u001b[1;32m   1760\u001b[0m     args,\n\u001b[1;32m   1761\u001b[0m     possible_gradient_type,\n\u001b[1;32m   1762\u001b[0m     executing_eagerly)\n\u001b[1;32m   1763\u001b[0m forward_function, args_with_tangents \u001b[39m=\u001b[39m forward_backward\u001b[39m.\u001b[39mforward()\n",
      "File \u001b[0;32m~/anaconda3/envs/mdc-tf/lib/python3.11/site-packages/tensorflow/python/eager/polymorphic_function/monomorphic_function.py:381\u001b[0m, in \u001b[0;36m_EagerDefinedFunction.call\u001b[0;34m(self, ctx, args, cancellation_manager)\u001b[0m\n\u001b[1;32m    379\u001b[0m \u001b[39mwith\u001b[39;00m _InterpolateFunctionError(\u001b[39mself\u001b[39m):\n\u001b[1;32m    380\u001b[0m   \u001b[39mif\u001b[39;00m cancellation_manager \u001b[39mis\u001b[39;00m \u001b[39mNone\u001b[39;00m:\n\u001b[0;32m--> 381\u001b[0m     outputs \u001b[39m=\u001b[39m execute\u001b[39m.\u001b[39;49mexecute(\n\u001b[1;32m    382\u001b[0m         \u001b[39mstr\u001b[39;49m(\u001b[39mself\u001b[39;49m\u001b[39m.\u001b[39;49msignature\u001b[39m.\u001b[39;49mname),\n\u001b[1;32m    383\u001b[0m         num_outputs\u001b[39m=\u001b[39;49m\u001b[39mself\u001b[39;49m\u001b[39m.\u001b[39;49m_num_outputs,\n\u001b[1;32m    384\u001b[0m         inputs\u001b[39m=\u001b[39;49margs,\n\u001b[1;32m    385\u001b[0m         attrs\u001b[39m=\u001b[39;49mattrs,\n\u001b[1;32m    386\u001b[0m         ctx\u001b[39m=\u001b[39;49mctx)\n\u001b[1;32m    387\u001b[0m   \u001b[39melse\u001b[39;00m:\n\u001b[1;32m    388\u001b[0m     outputs \u001b[39m=\u001b[39m execute\u001b[39m.\u001b[39mexecute_with_cancellation(\n\u001b[1;32m    389\u001b[0m         \u001b[39mstr\u001b[39m(\u001b[39mself\u001b[39m\u001b[39m.\u001b[39msignature\u001b[39m.\u001b[39mname),\n\u001b[1;32m    390\u001b[0m         num_outputs\u001b[39m=\u001b[39m\u001b[39mself\u001b[39m\u001b[39m.\u001b[39m_num_outputs,\n\u001b[0;32m   (...)\u001b[0m\n\u001b[1;32m    393\u001b[0m         ctx\u001b[39m=\u001b[39mctx,\n\u001b[1;32m    394\u001b[0m         cancellation_manager\u001b[39m=\u001b[39mcancellation_manager)\n",
      "File \u001b[0;32m~/anaconda3/envs/mdc-tf/lib/python3.11/site-packages/tensorflow/python/eager/execute.py:52\u001b[0m, in \u001b[0;36mquick_execute\u001b[0;34m(op_name, num_outputs, inputs, attrs, ctx, name)\u001b[0m\n\u001b[1;32m     50\u001b[0m \u001b[39mtry\u001b[39;00m:\n\u001b[1;32m     51\u001b[0m   ctx\u001b[39m.\u001b[39mensure_initialized()\n\u001b[0;32m---> 52\u001b[0m   tensors \u001b[39m=\u001b[39m pywrap_tfe\u001b[39m.\u001b[39;49mTFE_Py_Execute(ctx\u001b[39m.\u001b[39;49m_handle, device_name, op_name,\n\u001b[1;32m     53\u001b[0m                                       inputs, attrs, num_outputs)\n\u001b[1;32m     54\u001b[0m \u001b[39mexcept\u001b[39;00m core\u001b[39m.\u001b[39m_NotOkStatusException \u001b[39mas\u001b[39;00m e:\n\u001b[1;32m     55\u001b[0m   \u001b[39mif\u001b[39;00m name \u001b[39mis\u001b[39;00m \u001b[39mnot\u001b[39;00m \u001b[39mNone\u001b[39;00m:\n",
      "\u001b[0;31mKeyboardInterrupt\u001b[0m: "
     ]
    }
   ],
   "source": [
    "callback = tf.keras.callbacks.EarlyStopping(monitor = \"val_loss\", mode = \"min\", patience = 4)\n",
    "\n",
    "\n",
    "history = model.fit(train_generator, validation_data = validation_generator, steps_per_epoch = 20, epochs = 15, callbacks = callback)"
   ]
  },
  {
   "cell_type": "code",
   "execution_count": null,
   "metadata": {},
   "outputs": [],
   "source": [
    "model.save('baseline_resnet50.h5')"
   ]
  },
  {
   "cell_type": "code",
   "execution_count": null,
   "metadata": {},
   "outputs": [],
   "source": [
    "accuracy = history.history['accuracy']\n",
    "val_accuracy = history.history['val_accuracy']\n",
    "\n",
    "loss = history.history['loss']\n",
    "val_loss = history.history['val_loss']"
   ]
  },
  {
   "cell_type": "code",
   "execution_count": null,
   "metadata": {},
   "outputs": [
    {
     "data": {
      "text/plain": [
       "Text(0, 0.5, 'loss')"
      ]
     },
     "execution_count": 26,
     "metadata": {},
     "output_type": "execute_result"
    },
    {
     "data": {
      "image/png": "[encoded data removed]",
      "text/plain": [
       "<Figure size 1500x1000 with 2 Axes>"
      ]
     },
     "metadata": {},
     "output_type": "display_data"
    }
   ],
   "source": [
    "plt.figure(figsize = (15,10))\n",
    "\n",
    "plt.subplot(2, 2, 1)\n",
    "plt.plot(accuracy, label = \"Training Accuracy\")\n",
    "plt.plot(val_accuracy, label = \"Validation Accuracy\")\n",
    "plt.ylim(0.4, 1)\n",
    "plt.legend(['Train', 'Validation'], loc = 'upper left')\n",
    "plt.title(\"Training vs Validation Accuracy\")\n",
    "plt.xlabel('epoch')\n",
    "plt.ylabel('accuracy')\n",
    "\n",
    "\n",
    "plt.subplot(2, 2, 2)\n",
    "plt.plot(loss, label = \"Training Loss\")\n",
    "plt.plot(val_loss, label = \"Validation Loss\")\n",
    "plt.legend(['Train', 'Validation'], loc = 'upper left')\n",
    "plt.title(\"Training vs Validation Loss\")\n",
    "plt.xlabel('epoch')\n",
    "plt.ylabel('loss')"
   ]
  },
  {
   "cell_type": "code",
   "execution_count": null,
   "metadata": {},
   "outputs": [
    {
     "data": {
      "text/plain": [
       "Text(50.722222222222214, 0.5, 'Real')"
      ]
     },
     "execution_count": 31,
     "metadata": {},
     "output_type": "execute_result"
    },
    {
     "data": {
      "image/png": "[encoded data removed]",
      "text/plain": [
       "<Figure size 640x480 with 2 Axes>"
      ]
     },
     "metadata": {},
     "output_type": "display_data"
    }
   ],
   "source": [
    "#model_resnet50 = load_model('baseline_resnet50.h5')\n",
    "\n",
    "#pred_resnet50 = model_resnet50.predict(validation_generator)\n",
    "\n",
    "y_pred_resnet50 = []\n",
    "for prob in pred_resnet50:\n",
    "    if prob >= 0.5:\n",
    "        y_pred_resnet50.append(1)\n",
    "    else:\n",
    "        y_pred_resnet50.append(0)\n",
    "        \n",
    "y_true = validation_generator.classes\n",
    "\n",
    "cm = confusion_matrix(y_true, y_pred_resnet50)\n",
    "\n",
    "class_names = ['Positivo', 'Negativo']\n",
    "\n",
    "ax = sns.heatmap(cm, annot = True, fmt = '.0f', cmap = \"Blues\", annot_kws = {\"size\": 16},\\\n",
    "           xticklabels = class_names, yticklabels = class_names)\n",
    "\n",
    "ax.set_xlabel(\"Predição\")\n",
    "ax.set_ylabel(\"Real\")"
   ]
  },
  {
   "cell_type": "code",
   "execution_count": null,
   "metadata": {},
   "outputs": [
    {
     "data": {
      "text/plain": [
       "array([[0.4880886 ],\n",
       "       [0.48577598],\n",
       "       [0.48603916],\n",
       "       [0.48556837],\n",
       "       [0.4877001 ],\n",
       "       [0.4844164 ],\n",
       "       [0.4813858 ],\n",
       "       [0.48583165],\n",
       "       [0.48577547],\n",
       "       [0.49178883],\n",
       "       [0.48698848],\n",
       "       [0.48774108],\n",
       "       [0.48653415],\n",
       "       [0.49147406],\n",
       "       [0.48385492],\n",
       "       [0.4921746 ],\n",
       "       [0.47986105],\n",
       "       [0.48772487],\n",
       "       [0.4829138 ],\n",
       "       [0.4901997 ],\n",
       "       [0.48487046],\n",
       "       [0.48377335],\n",
       "       [0.4834619 ],\n",
       "       [0.46315557],\n",
       "       [0.4834677 ],\n",
       "       [0.49120805],\n",
       "       [0.48165575],\n",
       "       [0.48341566],\n",
       "       [0.47838426],\n",
       "       [0.48488468],\n",
       "       [0.48730308],\n",
       "       [0.4914529 ],\n",
       "       [0.48209733],\n",
       "       [0.48158595],\n",
       "       [0.4831799 ],\n",
       "       [0.4802841 ],\n",
       "       [0.48761886],\n",
       "       [0.49201065],\n",
       "       [0.47878593],\n",
       "       [0.4883452 ],\n",
       "       [0.4862027 ],\n",
       "       [0.48348406],\n",
       "       [0.48015985],\n",
       "       [0.49066576],\n",
       "       [0.4898425 ],\n",
       "       [0.4893228 ],\n",
       "       [0.48451167],\n",
       "       [0.480887  ],\n",
       "       [0.48158196],\n",
       "       [0.48331904],\n",
       "       [0.48282164],\n",
       "       [0.4839478 ],\n",
       "       [0.48235667],\n",
       "       [0.47426093],\n",
       "       [0.4753823 ],\n",
       "       [0.48168945],\n",
       "       [0.48801413],\n",
       "       [0.48380437],\n",
       "       [0.47660375],\n",
       "       [0.4855506 ],\n",
       "       [0.48422313],\n",
       "       [0.49155325],\n",
       "       [0.4846477 ],\n",
       "       [0.48222566],\n",
       "       [0.4860514 ],\n",
       "       [0.48194942],\n",
       "       [0.4841459 ],\n",
       "       [0.48403195],\n",
       "       [0.49218696],\n",
       "       [0.48120874],\n",
       "       [0.48141235],\n",
       "       [0.48317945],\n",
       "       [0.489662  ],\n",
       "       [0.4902094 ],\n",
       "       [0.48934773],\n",
       "       [0.4828262 ],\n",
       "       [0.4802058 ],\n",
       "       [0.49213344],\n",
       "       [0.48216504],\n",
       "       [0.488295  ],\n",
       "       [0.4836837 ],\n",
       "       [0.48902988],\n",
       "       [0.49033162],\n",
       "       [0.4779351 ],\n",
       "       [0.4905276 ],\n",
       "       [0.4841725 ],\n",
       "       [0.48124143],\n",
       "       [0.48217085],\n",
       "       [0.49102172],\n",
       "       [0.47968465],\n",
       "       [0.48563108],\n",
       "       [0.48833162],\n",
       "       [0.47736785],\n",
       "       [0.4885351 ],\n",
       "       [0.48993972],\n",
       "       [0.4734854 ],\n",
       "       [0.48575136],\n",
       "       [0.49076173],\n",
       "       [0.48352036],\n",
       "       [0.48108155],\n",
       "       [0.48808205],\n",
       "       [0.48257944],\n",
       "       [0.492286  ],\n",
       "       [0.4853883 ],\n",
       "       [0.48996586],\n",
       "       [0.48713213],\n",
       "       [0.4858329 ],\n",
       "       [0.48819423],\n",
       "       [0.4892465 ],\n",
       "       [0.48959413],\n",
       "       [0.48360547],\n",
       "       [0.48156235],\n",
       "       [0.47762504],\n",
       "       [0.48491517],\n",
       "       [0.48401403],\n",
       "       [0.48280612],\n",
       "       [0.4794628 ],\n",
       "       [0.479081  ],\n",
       "       [0.48088437],\n",
       "       [0.49056807],\n",
       "       [0.48738906],\n",
       "       [0.4816202 ],\n",
       "       [0.48549098],\n",
       "       [0.48422304],\n",
       "       [0.48894438],\n",
       "       [0.4774189 ],\n",
       "       [0.49003038],\n",
       "       [0.48244977],\n",
       "       [0.4801232 ],\n",
       "       [0.483341  ],\n",
       "       [0.48858786],\n",
       "       [0.48147863],\n",
       "       [0.48471624],\n",
       "       [0.4855979 ],\n",
       "       [0.48946357],\n",
       "       [0.4854793 ],\n",
       "       [0.48140603],\n",
       "       [0.49106976],\n",
       "       [0.49035427],\n",
       "       [0.48516396],\n",
       "       [0.48386076],\n",
       "       [0.49053332],\n",
       "       [0.47780642],\n",
       "       [0.4786724 ],\n",
       "       [0.48339412],\n",
       "       [0.49060366],\n",
       "       [0.48702946],\n",
       "       [0.48924372],\n",
       "       [0.4905724 ],\n",
       "       [0.48353678],\n",
       "       [0.48627865],\n",
       "       [0.48023587],\n",
       "       [0.49255845],\n",
       "       [0.4854331 ],\n",
       "       [0.4893216 ],\n",
       "       [0.48540622],\n",
       "       [0.49041513],\n",
       "       [0.48617902],\n",
       "       [0.48449445],\n",
       "       [0.48286232],\n",
       "       [0.48599282],\n",
       "       [0.4850772 ],\n",
       "       [0.49002504],\n",
       "       [0.49050337],\n",
       "       [0.48691818],\n",
       "       [0.48276523],\n",
       "       [0.49160424],\n",
       "       [0.48845768],\n",
       "       [0.48543167],\n",
       "       [0.49101323],\n",
       "       [0.4846136 ],\n",
       "       [0.48232615],\n",
       "       [0.4810692 ],\n",
       "       [0.47963798],\n",
       "       [0.47413665],\n",
       "       [0.4857681 ],\n",
       "       [0.4834354 ],\n",
       "       [0.4900205 ],\n",
       "       [0.4865056 ],\n",
       "       [0.48298728],\n",
       "       [0.48613602],\n",
       "       [0.4841756 ],\n",
       "       [0.48457757],\n",
       "       [0.4846737 ],\n",
       "       [0.48754668],\n",
       "       [0.48042616],\n",
       "       [0.48979813],\n",
       "       [0.4795362 ],\n",
       "       [0.48363093],\n",
       "       [0.48201823],\n",
       "       [0.48402885],\n",
       "       [0.48474705],\n",
       "       [0.48047847],\n",
       "       [0.48631406],\n",
       "       [0.48976287],\n",
       "       [0.48468837],\n",
       "       [0.48048845],\n",
       "       [0.47970873],\n",
       "       [0.48355153],\n",
       "       [0.484253  ],\n",
       "       [0.491111  ],\n",
       "       [0.48877802],\n",
       "       [0.4810023 ],\n",
       "       [0.47959095],\n",
       "       [0.48757488],\n",
       "       [0.4843022 ],\n",
       "       [0.4842142 ],\n",
       "       [0.48989537],\n",
       "       [0.48953605],\n",
       "       [0.49123383],\n",
       "       [0.48542288],\n",
       "       [0.48134428],\n",
       "       [0.48607022],\n",
       "       [0.4862174 ],\n",
       "       [0.48814982],\n",
       "       [0.48337862],\n",
       "       [0.4893746 ],\n",
       "       [0.47867572],\n",
       "       [0.47997263],\n",
       "       [0.48978305],\n",
       "       [0.48515904],\n",
       "       [0.48198864],\n",
       "       [0.4829397 ],\n",
       "       [0.4844634 ],\n",
       "       [0.4827    ],\n",
       "       [0.4875818 ],\n",
       "       [0.47666416],\n",
       "       [0.47799262],\n",
       "       [0.4909902 ],\n",
       "       [0.48060614],\n",
       "       [0.4884395 ],\n",
       "       [0.481324  ],\n",
       "       [0.48974916],\n",
       "       [0.48485374],\n",
       "       [0.49048617],\n",
       "       [0.4817681 ],\n",
       "       [0.4790963 ],\n",
       "       [0.48313248],\n",
       "       [0.47578457],\n",
       "       [0.49137568],\n",
       "       [0.4832209 ],\n",
       "       [0.4794041 ],\n",
       "       [0.48481306],\n",
       "       [0.4830699 ],\n",
       "       [0.49015766],\n",
       "       [0.4858759 ],\n",
       "       [0.48748043],\n",
       "       [0.48174173],\n",
       "       [0.4845353 ],\n",
       "       [0.4786457 ],\n",
       "       [0.4893712 ],\n",
       "       [0.48300916],\n",
       "       [0.4906651 ],\n",
       "       [0.4899182 ],\n",
       "       [0.48968062],\n",
       "       [0.48152563],\n",
       "       [0.49175   ],\n",
       "       [0.479409  ],\n",
       "       [0.48911166],\n",
       "       [0.48229185],\n",
       "       [0.48228687],\n",
       "       [0.48149702],\n",
       "       [0.4825556 ],\n",
       "       [0.48243558],\n",
       "       [0.49018353],\n",
       "       [0.48758838],\n",
       "       [0.48004067],\n",
       "       [0.48562053],\n",
       "       [0.47981963],\n",
       "       [0.48418552],\n",
       "       [0.4835154 ],\n",
       "       [0.48809683],\n",
       "       [0.4844668 ],\n",
       "       [0.48614705],\n",
       "       [0.48043558],\n",
       "       [0.49128568],\n",
       "       [0.47737157],\n",
       "       [0.48082328],\n",
       "       [0.48931724],\n",
       "       [0.478698  ],\n",
       "       [0.4897037 ],\n",
       "       [0.49098766],\n",
       "       [0.47994664],\n",
       "       [0.47954538],\n",
       "       [0.48104578],\n",
       "       [0.48395622],\n",
       "       [0.48159054],\n",
       "       [0.48618272],\n",
       "       [0.48649657],\n",
       "       [0.48377457],\n",
       "       [0.48236576],\n",
       "       [0.4850452 ],\n",
       "       [0.47908488],\n",
       "       [0.4808302 ],\n",
       "       [0.48074088],\n",
       "       [0.48989815],\n",
       "       [0.48367468],\n",
       "       [0.47834638],\n",
       "       [0.49126577],\n",
       "       [0.49017724],\n",
       "       [0.48081502],\n",
       "       [0.48506188],\n",
       "       [0.48320583],\n",
       "       [0.48510703],\n",
       "       [0.48663044],\n",
       "       [0.4785996 ],\n",
       "       [0.4838267 ],\n",
       "       [0.48257196],\n",
       "       [0.48701414],\n",
       "       [0.47597578],\n",
       "       [0.48817873],\n",
       "       [0.49105835],\n",
       "       [0.48678795],\n",
       "       [0.48531762],\n",
       "       [0.49020335],\n",
       "       [0.48555386],\n",
       "       [0.48997706],\n",
       "       [0.47678787],\n",
       "       [0.48292   ],\n",
       "       [0.48463076],\n",
       "       [0.48816139],\n",
       "       [0.4782539 ],\n",
       "       [0.49163577],\n",
       "       [0.48110145],\n",
       "       [0.4809813 ],\n",
       "       [0.48923343],\n",
       "       [0.48231   ],\n",
       "       [0.48866302],\n",
       "       [0.48205838],\n",
       "       [0.49156305],\n",
       "       [0.48850453],\n",
       "       [0.48839235],\n",
       "       [0.4867739 ],\n",
       "       [0.48453823],\n",
       "       [0.4921286 ],\n",
       "       [0.4923228 ],\n",
       "       [0.48047483],\n",
       "       [0.48136106],\n",
       "       [0.4768391 ],\n",
       "       [0.49161026],\n",
       "       [0.48201802],\n",
       "       [0.48400885],\n",
       "       [0.4879998 ],\n",
       "       [0.48346874],\n",
       "       [0.48508316],\n",
       "       [0.4891595 ],\n",
       "       [0.47805226],\n",
       "       [0.48967606],\n",
       "       [0.48821452],\n",
       "       [0.4772106 ],\n",
       "       [0.48472625],\n",
       "       [0.48265606],\n",
       "       [0.48546687],\n",
       "       [0.48299205],\n",
       "       [0.48376048],\n",
       "       [0.4808558 ],\n",
       "       [0.48179254],\n",
       "       [0.48307854],\n",
       "       [0.4868942 ],\n",
       "       [0.4791777 ],\n",
       "       [0.48146412],\n",
       "       [0.4832922 ],\n",
       "       [0.48045018],\n",
       "       [0.48626196],\n",
       "       [0.48645666],\n",
       "       [0.48652145],\n",
       "       [0.4863951 ],\n",
       "       [0.47786984],\n",
       "       [0.4794456 ],\n",
       "       [0.47872972],\n",
       "       [0.47954085],\n",
       "       [0.48276523],\n",
       "       [0.4846379 ],\n",
       "       [0.48804873],\n",
       "       [0.4852947 ],\n",
       "       [0.48871472],\n",
       "       [0.48534092],\n",
       "       [0.4825634 ],\n",
       "       [0.48229557],\n",
       "       [0.48199198],\n",
       "       [0.4877956 ],\n",
       "       [0.47917533],\n",
       "       [0.4800602 ],\n",
       "       [0.48461252],\n",
       "       [0.48213923],\n",
       "       [0.48104912],\n",
       "       [0.47866493],\n",
       "       [0.48200375],\n",
       "       [0.47982994],\n",
       "       [0.48361307],\n",
       "       [0.48442456],\n",
       "       [0.48326442],\n",
       "       [0.4862151 ],\n",
       "       [0.4843862 ],\n",
       "       [0.4847739 ],\n",
       "       [0.48657012],\n",
       "       [0.4861673 ],\n",
       "       [0.47805426],\n",
       "       [0.49062786],\n",
       "       [0.4808115 ],\n",
       "       [0.48936048],\n",
       "       [0.48357353],\n",
       "       [0.48125193],\n",
       "       [0.48173812],\n",
       "       [0.49109575],\n",
       "       [0.48743218],\n",
       "       [0.48273194],\n",
       "       [0.485936  ],\n",
       "       [0.4839192 ],\n",
       "       [0.484989  ],\n",
       "       [0.48257387],\n",
       "       [0.49195033],\n",
       "       [0.4844627 ],\n",
       "       [0.48881385],\n",
       "       [0.4870206 ],\n",
       "       [0.48895013],\n",
       "       [0.4901121 ],\n",
       "       [0.49094003],\n",
       "       [0.47997746],\n",
       "       [0.48911574],\n",
       "       [0.4799972 ],\n",
       "       [0.48994118],\n",
       "       [0.48875156]], dtype=float32)"
      ]
     },
     "execution_count": 30,
     "metadata": {},
     "output_type": "execute_result"
    }
   ],
   "source": [
    "pred_resnet50"
   ]
  },
  {
   "cell_type": "code",
   "execution_count": null,
   "metadata": {},
   "outputs": [
    {
     "name": "stdout",
     "output_type": "stream",
     "text": [
      "Model: \"sequential\"\n",
      "_________________________________________________________________\n",
      " Layer (type)                Output Shape              Param #   \n",
      "=================================================================\n",
      " vgg16 (Functional)          (None, 32, 16, 512)       14714688  \n",
      "                                                                 \n",
      " global_average_pooling2d (G  (None, 512)              0         \n",
      " lobalAveragePooling2D)                                          \n",
      "                                                                 \n",
      " dense (Dense)               (None, 128)               65664     \n",
      "                                                                 \n",
      " dropout (Dropout)           (None, 128)               0         \n",
      "                                                                 \n",
      " dense_1 (Dense)             (None, 1)                 129       \n",
      "                                                                 \n",
      "=================================================================\n",
      "Total params: 14,780,481\n",
      "Trainable params: 65,793\n",
      "Non-trainable params: 14,714,688\n",
      "_________________________________________________________________\n"
     ]
    }
   ],
   "source": [
    "from keras.applications.vgg16 import VGG16\n",
    "\n",
    "model_vgg16 = VGG16(weights = 'imagenet', input_shape = (1024, 512, 3), include_top = False)\n",
    "\n",
    "for layer in model_vgg16.layers:\n",
    "    layer.trainable = False\n",
    "    \n",
    "model2 = Sequential()\n",
    "model2.add(model_vgg16)\n",
    "model2.add(GlobalAveragePooling2D())\n",
    "model2.add(Dense(128, activation = 'relu'))\n",
    "model2.add(Dropout(0.2))\n",
    "model2.add(Dense(1, activation = 'sigmoid'))\n",
    "\n",
    "model2.compile(optimizer = \"adam\", loss = 'binary_crossentropy', metrics = [\"accuracy\"])\n",
    "\n",
    "model2.summary()"
   ]
  },
  {
   "cell_type": "code",
   "execution_count": null,
   "metadata": {},
   "outputs": [
    {
     "name": "stdout",
     "output_type": "stream",
     "text": [
      "Epoch 1/10\n"
     ]
    },
    {
     "name": "stderr",
     "output_type": "stream",
     "text": [
      "2023-06-16 23:38:09.748304: I tensorflow/core/common_runtime/executor.cc:1197] [/device:CPU:0] (DEBUG INFO) Executor start aborting (this does not indicate an error and you can ignore this message): INVALID_ARGUMENT: You must feed a value for placeholder tensor 'Placeholder/_0' with dtype int32\n",
      "\t [[{{node Placeholder/_0}}]]\n"
     ]
    },
    {
     "name": "stdout",
     "output_type": "stream",
     "text": [
      "10/10 [==============================] - ETA: 0s - loss: 0.7166 - accuracy: 0.5813  "
     ]
    },
    {
     "name": "stderr",
     "output_type": "stream",
     "text": [
      "2023-06-16 23:59:19.931621: I tensorflow/core/common_runtime/executor.cc:1197] [/device:CPU:0] (DEBUG INFO) Executor start aborting (this does not indicate an error and you can ignore this message): INVALID_ARGUMENT: You must feed a value for placeholder tensor 'Placeholder/_0' with dtype int32\n",
      "\t [[{{node Placeholder/_0}}]]\n"
     ]
    },
    {
     "name": "stdout",
     "output_type": "stream",
     "text": [
      "10/10 [==============================] - 2513s 251s/step - loss: 0.7166 - accuracy: 0.5813 - val_loss: 0.6868 - val_accuracy: 0.5461\n",
      "Epoch 2/10\n",
      "10/10 [==============================] - 2208s 242s/step - loss: 0.7026 - accuracy: 0.5455 - val_loss: 0.6969 - val_accuracy: 0.4870\n",
      "Epoch 3/10\n",
      "10/10 [==============================] - 2118s 224s/step - loss: 0.6885 - accuracy: 0.5556 - val_loss: 0.6852 - val_accuracy: 0.5532\n",
      "Epoch 4/10\n",
      "10/10 [==============================] - 2182s 231s/step - loss: 0.6773 - accuracy: 0.5813 - val_loss: 0.6868 - val_accuracy: 0.5508\n",
      "Epoch 5/10\n",
      "10/10 [==============================] - 2114s 224s/step - loss: 0.6815 - accuracy: 0.5758 - val_loss: 0.6825 - val_accuracy: 0.5721\n",
      "Epoch 6/10\n",
      "10/10 [==============================] - 2182s 231s/step - loss: 0.7039 - accuracy: 0.5469 - val_loss: 0.6950 - val_accuracy: 0.5154\n",
      "Epoch 7/10\n",
      "10/10 [==============================] - 2184s 232s/step - loss: 0.6890 - accuracy: 0.5688 - val_loss: 0.6900 - val_accuracy: 0.5461\n",
      "Epoch 8/10\n",
      "10/10 [==============================] - 2187s 232s/step - loss: 0.7080 - accuracy: 0.5156 - val_loss: 0.7030 - val_accuracy: 0.5012\n",
      "Epoch 9/10\n",
      "10/10 [==============================] - 2116s 224s/step - loss: 0.6940 - accuracy: 0.5421 - val_loss: 0.6800 - val_accuracy: 0.5626\n",
      "Epoch 10/10\n",
      "10/10 [==============================] - 2191s 232s/step - loss: 0.6877 - accuracy: 0.5469 - val_loss: 0.6781 - val_accuracy: 0.6028\n"
     ]
    }
   ],
   "source": [
    "callback = tf.keras.callbacks.EarlyStopping(monitor = \"val_loss\", mode = \"min\", patience = 4)\n",
    "\n",
    "history = model2.fit(train_generator, validation_data = validation_generator, steps_per_epoch = 10, epochs = 10, callbacks = callback)"
   ]
  },
  {
   "cell_type": "code",
   "execution_count": null,
   "metadata": {},
   "outputs": [],
   "source": [
    "model2.save('baseline_vgg16.h5')"
   ]
  },
  {
   "cell_type": "code",
   "execution_count": null,
   "metadata": {},
   "outputs": [
    {
     "data": {
      "text/plain": [
       "Text(0, 0.5, 'loss')"
      ]
     },
     "execution_count": 20,
     "metadata": {},
     "output_type": "execute_result"
    },
    {
     "data": {
      "image/png": "[encoded data removed]",
      "text/plain": [
       "<Figure size 1500x1000 with 2 Axes>"
      ]
     },
     "metadata": {},
     "output_type": "display_data"
    }
   ],
   "source": [
    "accuracy = history.history['accuracy']\n",
    "val_accuracy = history.history['val_accuracy']\n",
    "\n",
    "loss = history.history['loss']\n",
    "val_loss = history.history['val_loss']\n",
    "\n",
    "plt.figure(figsize = (15,10))\n",
    "\n",
    "plt.subplot(2, 2, 1)\n",
    "plt.plot(accuracy, label = \"Training Accuracy\")\n",
    "plt.plot(val_accuracy, label = \"Validation Accuracy\")\n",
    "plt.ylim(0.4, 1)\n",
    "plt.legend(['Train', 'Validation'], loc = 'upper left')\n",
    "plt.title(\"Training vs Validation Accuracy\")\n",
    "plt.xlabel('epoch')\n",
    "plt.ylabel('accuracy')\n",
    "\n",
    "\n",
    "plt.subplot(2, 2, 2)\n",
    "plt.plot(loss, label = \"Training Loss\")\n",
    "plt.plot(val_loss, label = \"Validation Loss\")\n",
    "plt.legend(['Train', 'Validation'], loc = 'upper left')\n",
    "plt.title(\"Training vs Validation Loss\")\n",
    "plt.xlabel('epoch')\n",
    "plt.ylabel('loss')"
   ]
  },
  {
   "cell_type": "code",
   "execution_count": null,
   "metadata": {},
   "outputs": [
    {
     "name": "stderr",
     "output_type": "stream",
     "text": [
      "2023-06-17 07:54:32.342350: I tensorflow/core/common_runtime/executor.cc:1197] [/device:CPU:0] (DEBUG INFO) Executor start aborting (this does not indicate an error and you can ignore this message): INVALID_ARGUMENT: You must feed a value for placeholder tensor 'Placeholder/_0' with dtype int32\n",
      "\t [[{{node Placeholder/_0}}]]\n"
     ]
    },
    {
     "name": "stdout",
     "output_type": "stream",
     "text": [
      "27/27 [==============================] - 1448s 53s/step\n"
     ]
    },
    {
     "data": {
      "text/plain": [
       "Text(50.722222222222214, 0.5, 'Real')"
      ]
     },
     "execution_count": 21,
     "metadata": {},
     "output_type": "execute_result"
    },
    {
     "data": {
      "image/png": "[encoded data removed]",
      "text/plain": [
       "<Figure size 640x480 with 2 Axes>"
      ]
     },
     "metadata": {},
     "output_type": "display_data"
    }
   ],
   "source": [
    "model_vgg16 = load_model('baseline_vgg16.h5')\n",
    "\n",
    "pred_vgg16 = model_vgg16.predict(validation_generator)\n",
    "\n",
    "y_pred_vgg16 = []\n",
    "for prob in pred_vgg16:\n",
    "    if prob >= 0.5:\n",
    "        y_pred_vgg16.append(1)\n",
    "    else:\n",
    "        y_pred_vgg16.append(0)\n",
    "        \n",
    "y_true = validation_generator.classes\n",
    "\n",
    "cm = confusion_matrix(y_true, y_pred_vgg16)\n",
    "\n",
    "class_names = ['Positivo', 'Negativo']\n",
    "\n",
    "ax = sns.heatmap(cm, annot = True, fmt = '.0f', cmap = \"Blues\", annot_kws = {\"size\": 16},\\\n",
    "           xticklabels = class_names, yticklabels = class_names)\n",
    "\n",
    "ax.set_xlabel(\"Predição\")\n",
    "ax.set_ylabel(\"Real\")"
   ]
  }
 ],
 "metadata": {
  "kernelspec": {
   "display_name": "Python 3",
   "language": "python",
   "name": "python3"
  },
  "language_info": {
   "codemirror_mode": {
    "name": "ipython",
    "version": 3
   },
   "file_extension": ".py",
   "mimetype": "text/x-python",
   "name": "python",
   "nbconvert_exporter": "python",
   "pygments_lexer": "ipython3",
   "version": "3.9.16"
  },
  "orig_nbformat": 4
 },
 "nbformat": 4,
 "nbformat_minor": 2
}
