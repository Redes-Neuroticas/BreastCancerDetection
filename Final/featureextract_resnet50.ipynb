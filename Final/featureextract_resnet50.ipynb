{
  "cells": [
    {
      "cell_type": "markdown",
      "metadata": {
        "id": "w5BSMKIwV_JI"
      },
      "source": [
        "# Inferencia Resnet50"
      ]
    },
    {
      "cell_type": "markdown",
      "metadata": {
        "id": "jxzu8ElTV_JK"
      },
      "source": [
        "## Preparando Ambiente"
      ]
    },
    {
      "cell_type": "code",
      "source": [
        "!pip install keras_cv"
      ],
      "metadata": {
        "colab": {
          "base_uri": "https://localhost:8080/"
        },
        "id": "NmNKKGJCUGcc",
        "outputId": "43a40d9c-f22d-4d4c-95ba-9878959da380"
      },
      "execution_count": 1,
      "outputs": [
        {
          "output_type": "stream",
          "name": "stdout",
          "text": [
            "Collecting keras_cv\n",
            "  Downloading keras_cv-0.5.1-py3-none-any.whl (742 kB)\n",
            "\u001b[?25l     \u001b[90m━━━━━━━━━━━━━━━━━━━━━━━━━━━━━━━━━━━━━━━━\u001b[0m \u001b[32m0.0/742.0 kB\u001b[0m \u001b[31m?\u001b[0m eta \u001b[36m-:--:--\u001b[0m\r\u001b[2K     \u001b[90m━━━━━━━━━━━━━━━━━━━━━━━━━━━━━━━━━━━━━━\u001b[0m \u001b[32m742.0/742.0 kB\u001b[0m \u001b[31m45.0 MB/s\u001b[0m eta \u001b[36m0:00:00\u001b[0m\n",
            "\u001b[?25hRequirement already satisfied: packaging in /usr/local/lib/python3.10/dist-packages (from keras_cv) (23.1)\n",
            "Requirement already satisfied: absl-py in /usr/local/lib/python3.10/dist-packages (from keras_cv) (1.4.0)\n",
            "Requirement already satisfied: regex in /usr/local/lib/python3.10/dist-packages (from keras_cv) (2022.10.31)\n",
            "Requirement already satisfied: tensorflow-datasets in /usr/local/lib/python3.10/dist-packages (from keras_cv) (4.9.2)\n",
            "Requirement already satisfied: array-record in /usr/local/lib/python3.10/dist-packages (from tensorflow-datasets->keras_cv) (0.4.0)\n",
            "Requirement already satisfied: click in /usr/local/lib/python3.10/dist-packages (from tensorflow-datasets->keras_cv) (8.1.3)\n",
            "Requirement already satisfied: dm-tree in /usr/local/lib/python3.10/dist-packages (from tensorflow-datasets->keras_cv) (0.1.8)\n",
            "Requirement already satisfied: etils[enp,epath]>=0.9.0 in /usr/local/lib/python3.10/dist-packages (from tensorflow-datasets->keras_cv) (1.3.0)\n",
            "Requirement already satisfied: numpy in /usr/local/lib/python3.10/dist-packages (from tensorflow-datasets->keras_cv) (1.22.4)\n",
            "Requirement already satisfied: promise in /usr/local/lib/python3.10/dist-packages (from tensorflow-datasets->keras_cv) (2.3)\n",
            "Requirement already satisfied: protobuf>=3.20 in /usr/local/lib/python3.10/dist-packages (from tensorflow-datasets->keras_cv) (3.20.3)\n",
            "Requirement already satisfied: psutil in /usr/local/lib/python3.10/dist-packages (from tensorflow-datasets->keras_cv) (5.9.5)\n",
            "Requirement already satisfied: requests>=2.19.0 in /usr/local/lib/python3.10/dist-packages (from tensorflow-datasets->keras_cv) (2.27.1)\n",
            "Requirement already satisfied: tensorflow-metadata in /usr/local/lib/python3.10/dist-packages (from tensorflow-datasets->keras_cv) (1.13.1)\n",
            "Requirement already satisfied: termcolor in /usr/local/lib/python3.10/dist-packages (from tensorflow-datasets->keras_cv) (2.3.0)\n",
            "Requirement already satisfied: toml in /usr/local/lib/python3.10/dist-packages (from tensorflow-datasets->keras_cv) (0.10.2)\n",
            "Requirement already satisfied: tqdm in /usr/local/lib/python3.10/dist-packages (from tensorflow-datasets->keras_cv) (4.65.0)\n",
            "Requirement already satisfied: wrapt in /usr/local/lib/python3.10/dist-packages (from tensorflow-datasets->keras_cv) (1.14.1)\n",
            "Requirement already satisfied: importlib_resources in /usr/local/lib/python3.10/dist-packages (from etils[enp,epath]>=0.9.0->tensorflow-datasets->keras_cv) (5.12.0)\n",
            "Requirement already satisfied: typing_extensions in /usr/local/lib/python3.10/dist-packages (from etils[enp,epath]>=0.9.0->tensorflow-datasets->keras_cv) (4.6.3)\n",
            "Requirement already satisfied: zipp in /usr/local/lib/python3.10/dist-packages (from etils[enp,epath]>=0.9.0->tensorflow-datasets->keras_cv) (3.15.0)\n",
            "Requirement already satisfied: urllib3<1.27,>=1.21.1 in /usr/local/lib/python3.10/dist-packages (from requests>=2.19.0->tensorflow-datasets->keras_cv) (1.26.16)\n",
            "Requirement already satisfied: certifi>=2017.4.17 in /usr/local/lib/python3.10/dist-packages (from requests>=2.19.0->tensorflow-datasets->keras_cv) (2023.5.7)\n",
            "Requirement already satisfied: charset-normalizer~=2.0.0 in /usr/local/lib/python3.10/dist-packages (from requests>=2.19.0->tensorflow-datasets->keras_cv) (2.0.12)\n",
            "Requirement already satisfied: idna<4,>=2.5 in /usr/local/lib/python3.10/dist-packages (from requests>=2.19.0->tensorflow-datasets->keras_cv) (3.4)\n",
            "Requirement already satisfied: six in /usr/local/lib/python3.10/dist-packages (from promise->tensorflow-datasets->keras_cv) (1.16.0)\n",
            "Requirement already satisfied: googleapis-common-protos<2,>=1.52.0 in /usr/local/lib/python3.10/dist-packages (from tensorflow-metadata->tensorflow-datasets->keras_cv) (1.59.1)\n",
            "Installing collected packages: keras_cv\n",
            "Successfully installed keras_cv-0.5.1\n"
          ]
        }
      ]
    },
    {
      "cell_type": "code",
      "execution_count": 2,
      "metadata": {
        "id": "_LbRmhGfV_JL"
      },
      "outputs": [],
      "source": [
        "import pandas as pd\n",
        "import numpy as np\n",
        "import matplotlib.pyplot as plt\n",
        "import os\n",
        "import seaborn as sns\n",
        "import shutil\n",
        "from sklearn.model_selection import train_test_split\n",
        "from sklearn.metrics import classification_report, confusion_matrix\n",
        "import albumentations as A\n",
        "import keras_cv\n",
        "\n",
        "import tensorflow as tf\n",
        "from tensorflow.keras.optimizers import RMSprop\n",
        "from tensorflow.keras.models import load_model\n",
        "from tensorflow.keras.preprocessing.image import ImageDataGenerator\n",
        "from tensorflow.keras.layers import Dense, GlobalAveragePooling2D, Dropout\n",
        "from tensorflow.keras.models import Sequential, Model\n",
        "from tensorflow.keras.optimizers import Adam\n"
      ]
    },
    {
      "cell_type": "code",
      "source": [
        "train_dir_path = \"./../Train\"\n",
        "val_dir_path=\"./../Validation\"\n",
        "test_dir_path=\"./../Test\"\n",
        "feature_filepath = \"./../features_preprocess\"\n",
        "\n",
        "img_height = 512\n",
        "img_width = 256"
      ],
      "metadata": {
        "id": "TY8d2ohnYtIm"
      },
      "execution_count": 7,
      "outputs": []
    },
    {
      "cell_type": "code",
      "execution_count": 12,
      "metadata": {
        "id": "WwJRVervV_JR",
        "colab": {
          "base_uri": "https://localhost:8080/"
        },
        "outputId": "06296eb5-356c-4fba-8a0a-b1fdb29eec1d"
      },
      "outputs": [
        {
          "output_type": "stream",
          "name": "stdout",
          "text": [
            "Found 34995 files belonging to 2 classes.\n",
            "Found 8749 files belonging to 2 classes.\n",
            "Found 10962 files belonging to 2 classes.\n"
          ]
        }
      ],
      "source": [
        "class_names = ['normal', 'cancer']\n",
        "\n",
        "train_generator = tf.keras.utils.image_dataset_from_directory(\n",
        "        train_dir_path,\n",
        "        image_size = (img_height, img_width),\n",
        "        class_names = class_names,\n",
        "        batch_size = 64,\n",
        "        label_mode = \"binary\")\n",
        "validation_generator = tf.keras.utils.image_dataset_from_directory(\n",
        "        val_dir_path,\n",
        "        image_size = (img_height, img_width),\n",
        "        class_names = class_names,\n",
        "        batch_size = 64,\n",
        "        label_mode = \"binary\")\n",
        "test_generator = tf.keras.utils.image_dataset_from_directory(\n",
        "        test_dir_path,\n",
        "        image_size = (img_height, img_width),\n",
        "        class_names = class_names,\n",
        "        batch_size = 64,\n",
        "        label_mode = \"binary\")"
      ]
    },
    {
      "cell_type": "markdown",
      "metadata": {
        "id": "94Rzxw0SV_JS"
      },
      "source": [
        "## Carregando Modelo"
      ]
    },
    {
      "cell_type": "code",
      "source": [
        "model_resnet50 = tf.keras.applications.ResNet50(weights = 'imagenet', input_shape = (512, 256, 3), include_top = False)\n",
        "\n",
        "for layer in model_resnet50.layers:\n",
        "    layer.trainable = False\n",
        "\n",
        "# build the entire model\n",
        "input = tf.keras.layers.Input([img_height, img_width, 3])\n",
        "x = keras_cv.layers.AutoContrast((0, 255))(input)\n",
        "x = tf.keras.applications.resnet50.preprocess_input(x)\n",
        "x = model_resnet50(x)\n",
        "x = GlobalAveragePooling2D()(x)\n",
        "model = Model(inputs = [input], outputs = [x])\n",
        "\n",
        "model.summary()"
      ],
      "metadata": {
        "colab": {
          "base_uri": "https://localhost:8080/"
        },
        "id": "unhfHyPFs4z7",
        "outputId": "3d0d89ed-c443-4dae-b00d-384d6a221e53"
      },
      "execution_count": 14,
      "outputs": [
        {
          "output_type": "stream",
          "name": "stdout",
          "text": [
            "Model: \"model_2\"\n",
            "_________________________________________________________________\n",
            " Layer (type)                Output Shape              Param #   \n",
            "=================================================================\n",
            " input_6 (InputLayer)        [(None, 512, 256, 3)]     0         \n",
            "                                                                 \n",
            " auto_contrast_2 (AutoContra  (None, 512, 256, 3)      0         \n",
            " st)                                                             \n",
            "                                                                 \n",
            " tf.__operators__.getitem_2   (None, 512, 256, 3)      0         \n",
            " (SlicingOpLambda)                                               \n",
            "                                                                 \n",
            " tf.nn.bias_add_2 (TFOpLambd  (None, 512, 256, 3)      0         \n",
            " a)                                                              \n",
            "                                                                 \n",
            " resnet50 (Functional)       (None, 16, 8, 2048)       23587712  \n",
            "                                                                 \n",
            " global_average_pooling2d_2   (None, 2048)             0         \n",
            " (GlobalAveragePooling2D)                                        \n",
            "                                                                 \n",
            "=================================================================\n",
            "Total params: 23,587,712\n",
            "Trainable params: 0\n",
            "Non-trainable params: 23,587,712\n",
            "_________________________________________________________________\n"
          ]
        }
      ]
    },
    {
      "cell_type": "code",
      "source": [
        "tf.keras.utils.plot_model(model)"
      ],
      "metadata": {
        "colab": {
          "base_uri": "https://localhost:8080/",
          "height": 564
        },
        "id": "icNejbWfpAAn",
        "outputId": "da178759-7a2f-4b38-cfcc-359bceea7074"
      },
      "execution_count": 15,
      "outputs": [
        {
          "output_type": "execute_result",
          "data": {
            "image/png": "[encoded data removed]",
            "text/plain": [
              "<IPython.core.display.Image object>"
            ]
          },
          "metadata": {},
          "execution_count": 15
        }
      ]
    },
    {
      "cell_type": "markdown",
      "metadata": {
        "id": "cL2DF9iaV_JU"
      },
      "source": [
        "## Realizando Inferencia"
      ]
    },
    {
      "cell_type": "code",
      "source": [
        "datasets =  train_generator, validation_generator, test_generator\n",
        "filenames =  [\"features_train_hist.json\",\n",
        "              \"features_validation_hist.json\",\n",
        "              \"features_test_hist.json\"]\n",
        ""
      ],
      "metadata": {
        "id": "gJbm4UZ9bP6k"
      },
      "execution_count": 18,
      "outputs": []
    },
    {
      "cell_type": "code",
      "source": [
        "import pandas as pd\n",
        "import os\n",
        "\n",
        "for dataset, filename in zip(datasets, filenames):\n",
        "  predictions = model.predict(dataset, verbose=1)\n",
        "  datadict = {\n",
        "    'features': [],\n",
        "    'filepath': [],\n",
        "  }\n",
        "  for path, feature in zip(dataset.file_paths, predictions):\n",
        "    datadict[\"filepath\"].append(path)\n",
        "    datadict[\"features\"].append(feature)\n",
        "  set_features = pd.DataFrame(datadict)\n",
        "  if not os.path.exists(feature_filepath):\n",
        "    os.mkdir(feature_filepath)\n",
        "  set_features.to_json(f\"{feature_filepath}/{filename}\")\n",
        "\n",
        "\n"
      ],
      "metadata": {
        "colab": {
          "base_uri": "https://localhost:8080/"
        },
        "id": "OBrtf824dUaN",
        "outputId": "2774062a-edd9-4b5b-90a7-1f191358b9b1"
      },
      "execution_count": 21,
      "outputs": [
        {
          "output_type": "stream",
          "name": "stdout",
          "text": [
            "547/547 [==============================] - 271s 491ms/step\n",
            "137/137 [==============================] - 73s 516ms/step\n",
            "172/172 [==============================] - 85s 484ms/step\n"
          ]
        }
      ]
    }
  ],
  "metadata": {
    "kernelspec": {
      "display_name": "Python 3",
      "name": "python3"
    },
    "language_info": {
      "codemirror_mode": {
        "name": "ipython",
        "version": 3
      },
      "file_extension": ".py",
      "mimetype": "text/x-python",
      "name": "python",
      "nbconvert_exporter": "python",
      "pygments_lexer": "ipython3",
      "version": "3.8.10"
    },
    "orig_nbformat": 4,
    "colab": {
      "provenance": [],
      "gpuType": "T4"
    },
    "accelerator": "GPU"
  },
  "nbformat": 4,
  "nbformat_minor": 0
}